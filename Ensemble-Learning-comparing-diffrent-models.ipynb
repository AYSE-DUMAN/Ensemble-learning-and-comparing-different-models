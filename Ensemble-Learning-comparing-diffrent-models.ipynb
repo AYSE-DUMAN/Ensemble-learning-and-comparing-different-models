{
 "cells": [
  {
   "cell_type": "markdown",
   "metadata": {},
   "source": [
    "# Başlıklar\n",
    "\n",
    "* [Veri Seti](#Veri-Seti)\n",
    "    * [Veri Seti Tanımı](#Veri-Seti-Tanımı)\n",
    "    * [Veri Setine Genel Bakış](#Veri-Setine-Genel-Bakış)\n",
    "    * [Veri Setinin Görselleştirilmesi](#Veri-Setinin-Görselleştirilmesi)\n",
    "    * [Kayıp Değer Analizi](#Kayıp-Değer-Analizi)\n",
    "    * [Veri Ön İşleme](#Veri-Ön-İşleme)\n",
    "* [Topluluk Öğrenmesi](#Topluluk-Öğrenmesi-(Ensemble-Learning))\n",
    "    * [Basit Topluluk Teknikleri](#Basit-Topluluk-Teknikleri)\n",
    "        * [Max Voting](#Max-Voting)\n",
    "        * [Averaging](#Averaging)\n",
    "        * [Weighted Average](#Weighted-Average)\n",
    "    * [Gelişmiş Topluluk Teknikleri](#Gelişmiş-Topluluk-Teknikleri)\n",
    "        * [Stacking](#Stacking)\n",
    "        * [Blending](#Blending)\n",
    "        * [Bagging](#Bagging)\n",
    "        * [Boosting](#Boosting)\n",
    "    * [Bagging ve Boosting Kullanan Algoritmalar](#Bagging-ve-Boosting-Kullanan-Algoritmalar)\n",
    "        * [Bagging meta-estimator](#Bagging-meta-estimator)\n",
    "        * [Random Forest](#Random-Forest)\n",
    "        * [Gradient Boosting](#Gradient-Boosting)\n",
    "        * [XGBoost](#XGBoost)\n",
    "        * [LightGBM](#LightGBM)\n",
    "        * [CatBoost](#CatBoost)\n",
    "* [Sonuç](#Sonuç:)\n",
    "* [Kaynaklar](#Kaynaklar)"
   ]
  },
  {
   "cell_type": "markdown",
   "metadata": {},
   "source": [
    "# Veri Seti"
   ]
  },
  {
   "cell_type": "markdown",
   "metadata": {},
   "source": [
    "## Veri Seti Tanımı\n",
    "\n",
    "15 Nisan 1912'de, ilk yolculuğu sırasında Titanic bir buzdağına çarparak battı ve 2224 yolcu ve mürettebattan 1502'sini öldürdü. Bu sansasyonel trajedi, uluslararası toplumu şok etti ve gemiler için daha iyi güvenlik düzenlemelerine yol açtı. Kazanın bu kadar can kaybına yol açmasının nedenlerinden biri, yolcular ve mürettebat için yeterli cankurtaran botunun olmamasıydı. Batarken hayatta kalmanın bir takım şans unsuru olmasına rağmen, kadınlar, çocuklar ve üst sınıflar gibi bazı grupların hayatta kalma olasılığı diğerlerinden daha fazlaydı. Bu olayda, ne tür insanların hayatta kalma olasılığının yüksek olduğunu tahmin edeceğiz. Özellikle, trajediden hangi yolcuların hayatta kaldığını tahmin etmek için makine öğrenimi araçlarını uygulayacağız."
   ]
  },
  {
   "cell_type": "markdown",
   "metadata": {},
   "source": [
    "### Hedef"
   ]
  },
  {
   "cell_type": "markdown",
   "metadata": {},
   "source": [
    "Yolcuların kaza sonucu yaşayıp yaşamadığını tahmin edelim. Hedef değişkenimiz 'Survived'. Hayatta kalanlar 1 ölenler 0 değerini alıyor.\n"
   ]
  },
  {
   "cell_type": "markdown",
   "metadata": {},
   "source": [
    "### Değişkenlerin Tanımları"
   ]
  },
  {
   "cell_type": "markdown",
   "metadata": {},
   "source": [
    "* Survived : Hayatta kalan (1) ya da ölen(0)\n",
    "* Pclass : Yolcu sınıfı\n",
    "* Name : Yolcu ismi\n",
    "* Sex : Yolcu cinsiyeti\n",
    "* Age : Yolcu yaşı\n",
    "* SibSp : Gemideki kardeş/eş sayısı\n",
    "* Parch : Gemideki ebeveyn/çocuk sayısı\n",
    "- Ticket : Ticket Number\n",
    "- Fare : Ücret\n",
    "- Cabin : Kabin\n",
    "- Embarked : Liman"
   ]
  },
  {
   "cell_type": "markdown",
   "metadata": {},
   "source": [
    "## Gerekli Kütüphanelerin Kurulumu ve Veri Setinin Yüklenmesi"
   ]
  },
  {
   "cell_type": "code",
   "execution_count": 1,
   "metadata": {},
   "outputs": [
    {
     "data": {
      "text/html": [
       "<div>\n",
       "<style scoped>\n",
       "    .dataframe tbody tr th:only-of-type {\n",
       "        vertical-align: middle;\n",
       "    }\n",
       "\n",
       "    .dataframe tbody tr th {\n",
       "        vertical-align: top;\n",
       "    }\n",
       "\n",
       "    .dataframe thead th {\n",
       "        text-align: right;\n",
       "    }\n",
       "</style>\n",
       "<table border=\"1\" class=\"dataframe\">\n",
       "  <thead>\n",
       "    <tr style=\"text-align: right;\">\n",
       "      <th></th>\n",
       "      <th>PassengerId</th>\n",
       "      <th>Survived</th>\n",
       "      <th>Pclass</th>\n",
       "      <th>Name</th>\n",
       "      <th>Sex</th>\n",
       "      <th>Age</th>\n",
       "      <th>SibSp</th>\n",
       "      <th>Parch</th>\n",
       "      <th>Ticket</th>\n",
       "      <th>Fare</th>\n",
       "      <th>Cabin</th>\n",
       "      <th>Embarked</th>\n",
       "    </tr>\n",
       "  </thead>\n",
       "  <tbody>\n",
       "    <tr>\n",
       "      <th>0</th>\n",
       "      <td>1</td>\n",
       "      <td>0</td>\n",
       "      <td>3</td>\n",
       "      <td>Braund, Mr. Owen Harris</td>\n",
       "      <td>male</td>\n",
       "      <td>22.0</td>\n",
       "      <td>1</td>\n",
       "      <td>0</td>\n",
       "      <td>A/5 21171</td>\n",
       "      <td>7.2500</td>\n",
       "      <td>NaN</td>\n",
       "      <td>S</td>\n",
       "    </tr>\n",
       "    <tr>\n",
       "      <th>1</th>\n",
       "      <td>2</td>\n",
       "      <td>1</td>\n",
       "      <td>1</td>\n",
       "      <td>Cumings, Mrs. John Bradley (Florence Briggs Th...</td>\n",
       "      <td>female</td>\n",
       "      <td>38.0</td>\n",
       "      <td>1</td>\n",
       "      <td>0</td>\n",
       "      <td>PC 17599</td>\n",
       "      <td>71.2833</td>\n",
       "      <td>C85</td>\n",
       "      <td>C</td>\n",
       "    </tr>\n",
       "    <tr>\n",
       "      <th>2</th>\n",
       "      <td>3</td>\n",
       "      <td>1</td>\n",
       "      <td>3</td>\n",
       "      <td>Heikkinen, Miss. Laina</td>\n",
       "      <td>female</td>\n",
       "      <td>26.0</td>\n",
       "      <td>0</td>\n",
       "      <td>0</td>\n",
       "      <td>STON/O2. 3101282</td>\n",
       "      <td>7.9250</td>\n",
       "      <td>NaN</td>\n",
       "      <td>S</td>\n",
       "    </tr>\n",
       "    <tr>\n",
       "      <th>3</th>\n",
       "      <td>4</td>\n",
       "      <td>1</td>\n",
       "      <td>1</td>\n",
       "      <td>Futrelle, Mrs. Jacques Heath (Lily May Peel)</td>\n",
       "      <td>female</td>\n",
       "      <td>35.0</td>\n",
       "      <td>1</td>\n",
       "      <td>0</td>\n",
       "      <td>113803</td>\n",
       "      <td>53.1000</td>\n",
       "      <td>C123</td>\n",
       "      <td>S</td>\n",
       "    </tr>\n",
       "    <tr>\n",
       "      <th>4</th>\n",
       "      <td>5</td>\n",
       "      <td>0</td>\n",
       "      <td>3</td>\n",
       "      <td>Allen, Mr. William Henry</td>\n",
       "      <td>male</td>\n",
       "      <td>35.0</td>\n",
       "      <td>0</td>\n",
       "      <td>0</td>\n",
       "      <td>373450</td>\n",
       "      <td>8.0500</td>\n",
       "      <td>NaN</td>\n",
       "      <td>S</td>\n",
       "    </tr>\n",
       "  </tbody>\n",
       "</table>\n",
       "</div>"
      ],
      "text/plain": [
       "   PassengerId  Survived  Pclass  \\\n",
       "0            1         0       3   \n",
       "1            2         1       1   \n",
       "2            3         1       3   \n",
       "3            4         1       1   \n",
       "4            5         0       3   \n",
       "\n",
       "                                                Name     Sex   Age  SibSp  \\\n",
       "0                            Braund, Mr. Owen Harris    male  22.0      1   \n",
       "1  Cumings, Mrs. John Bradley (Florence Briggs Th...  female  38.0      1   \n",
       "2                             Heikkinen, Miss. Laina  female  26.0      0   \n",
       "3       Futrelle, Mrs. Jacques Heath (Lily May Peel)  female  35.0      1   \n",
       "4                           Allen, Mr. William Henry    male  35.0      0   \n",
       "\n",
       "   Parch            Ticket     Fare Cabin Embarked  \n",
       "0      0         A/5 21171   7.2500   NaN        S  \n",
       "1      0          PC 17599  71.2833   C85        C  \n",
       "2      0  STON/O2. 3101282   7.9250   NaN        S  \n",
       "3      0            113803  53.1000  C123        S  \n",
       "4      0            373450   8.0500   NaN        S  "
      ]
     },
     "execution_count": 1,
     "metadata": {},
     "output_type": "execute_result"
    }
   ],
   "source": [
    "# !pip install scikit-learn==0.21rc2\n",
    "import pandas as pd # veri analizi araçları\n",
    "import numpy as np # hesaplama araçları\n",
    "from matplotlib import pyplot as plt #görselleştirme\n",
    "import seaborn as sns # görselleştirme\n",
    "import sklearn\n",
    "from sklearn.linear_model import LogisticRegression\n",
    "from sklearn.neighbors import KNeighborsClassifier\n",
    "from sklearn.tree import DecisionTreeClassifier\n",
    "\n",
    "from xgboost import XGBClassifier\n",
    "\n",
    "import warnings\n",
    "from sklearn.preprocessing import LabelEncoder\n",
    "warnings.filterwarnings(\"ignore\")\n",
    "\n",
    "df = pd.read_csv('titanic.csv',sep=',')\n",
    "df.head()"
   ]
  },
  {
   "cell_type": "markdown",
   "metadata": {},
   "source": [
    "## Veri Setine Genel Bakış"
   ]
  },
  {
   "cell_type": "code",
   "execution_count": 2,
   "metadata": {},
   "outputs": [
    {
     "data": {
      "text/plain": [
       "(891, 12)"
      ]
     },
     "execution_count": 2,
     "metadata": {},
     "output_type": "execute_result"
    }
   ],
   "source": [
    "df.shape  # df setinin boyutları"
   ]
  },
  {
   "cell_type": "code",
   "execution_count": 3,
   "metadata": {},
   "outputs": [
    {
     "data": {
      "text/plain": [
       "Index(['PassengerId', 'Survived', 'Pclass', 'Name', 'Sex', 'Age', 'SibSp',\n",
       "       'Parch', 'Ticket', 'Fare', 'Cabin', 'Embarked'],\n",
       "      dtype='object')"
      ]
     },
     "execution_count": 3,
     "metadata": {},
     "output_type": "execute_result"
    }
   ],
   "source": [
    "df.columns # değişkenler"
   ]
  },
  {
   "cell_type": "code",
   "execution_count": 4,
   "metadata": {},
   "outputs": [
    {
     "data": {
      "text/html": [
       "<div>\n",
       "<style scoped>\n",
       "    .dataframe tbody tr th:only-of-type {\n",
       "        vertical-align: middle;\n",
       "    }\n",
       "\n",
       "    .dataframe tbody tr th {\n",
       "        vertical-align: top;\n",
       "    }\n",
       "\n",
       "    .dataframe thead th {\n",
       "        text-align: right;\n",
       "    }\n",
       "</style>\n",
       "<table border=\"1\" class=\"dataframe\">\n",
       "  <thead>\n",
       "    <tr style=\"text-align: right;\">\n",
       "      <th></th>\n",
       "      <th>count</th>\n",
       "      <th>mean</th>\n",
       "      <th>std</th>\n",
       "      <th>min</th>\n",
       "      <th>25%</th>\n",
       "      <th>50%</th>\n",
       "      <th>75%</th>\n",
       "      <th>max</th>\n",
       "    </tr>\n",
       "  </thead>\n",
       "  <tbody>\n",
       "    <tr>\n",
       "      <th>PassengerId</th>\n",
       "      <td>891.0</td>\n",
       "      <td>446.000000</td>\n",
       "      <td>257.353842</td>\n",
       "      <td>1.00</td>\n",
       "      <td>223.5000</td>\n",
       "      <td>446.0000</td>\n",
       "      <td>668.5</td>\n",
       "      <td>891.0000</td>\n",
       "    </tr>\n",
       "    <tr>\n",
       "      <th>Survived</th>\n",
       "      <td>891.0</td>\n",
       "      <td>0.383838</td>\n",
       "      <td>0.486592</td>\n",
       "      <td>0.00</td>\n",
       "      <td>0.0000</td>\n",
       "      <td>0.0000</td>\n",
       "      <td>1.0</td>\n",
       "      <td>1.0000</td>\n",
       "    </tr>\n",
       "    <tr>\n",
       "      <th>Pclass</th>\n",
       "      <td>891.0</td>\n",
       "      <td>2.308642</td>\n",
       "      <td>0.836071</td>\n",
       "      <td>1.00</td>\n",
       "      <td>2.0000</td>\n",
       "      <td>3.0000</td>\n",
       "      <td>3.0</td>\n",
       "      <td>3.0000</td>\n",
       "    </tr>\n",
       "    <tr>\n",
       "      <th>Age</th>\n",
       "      <td>714.0</td>\n",
       "      <td>29.699118</td>\n",
       "      <td>14.526497</td>\n",
       "      <td>0.42</td>\n",
       "      <td>20.1250</td>\n",
       "      <td>28.0000</td>\n",
       "      <td>38.0</td>\n",
       "      <td>80.0000</td>\n",
       "    </tr>\n",
       "    <tr>\n",
       "      <th>SibSp</th>\n",
       "      <td>891.0</td>\n",
       "      <td>0.523008</td>\n",
       "      <td>1.102743</td>\n",
       "      <td>0.00</td>\n",
       "      <td>0.0000</td>\n",
       "      <td>0.0000</td>\n",
       "      <td>1.0</td>\n",
       "      <td>8.0000</td>\n",
       "    </tr>\n",
       "    <tr>\n",
       "      <th>Parch</th>\n",
       "      <td>891.0</td>\n",
       "      <td>0.381594</td>\n",
       "      <td>0.806057</td>\n",
       "      <td>0.00</td>\n",
       "      <td>0.0000</td>\n",
       "      <td>0.0000</td>\n",
       "      <td>0.0</td>\n",
       "      <td>6.0000</td>\n",
       "    </tr>\n",
       "    <tr>\n",
       "      <th>Fare</th>\n",
       "      <td>891.0</td>\n",
       "      <td>32.204208</td>\n",
       "      <td>49.693429</td>\n",
       "      <td>0.00</td>\n",
       "      <td>7.9104</td>\n",
       "      <td>14.4542</td>\n",
       "      <td>31.0</td>\n",
       "      <td>512.3292</td>\n",
       "    </tr>\n",
       "  </tbody>\n",
       "</table>\n",
       "</div>"
      ],
      "text/plain": [
       "             count        mean         std   min       25%       50%    75%  \\\n",
       "PassengerId  891.0  446.000000  257.353842  1.00  223.5000  446.0000  668.5   \n",
       "Survived     891.0    0.383838    0.486592  0.00    0.0000    0.0000    1.0   \n",
       "Pclass       891.0    2.308642    0.836071  1.00    2.0000    3.0000    3.0   \n",
       "Age          714.0   29.699118   14.526497  0.42   20.1250   28.0000   38.0   \n",
       "SibSp        891.0    0.523008    1.102743  0.00    0.0000    0.0000    1.0   \n",
       "Parch        891.0    0.381594    0.806057  0.00    0.0000    0.0000    0.0   \n",
       "Fare         891.0   32.204208   49.693429  0.00    7.9104   14.4542   31.0   \n",
       "\n",
       "                  max  \n",
       "PassengerId  891.0000  \n",
       "Survived       1.0000  \n",
       "Pclass         3.0000  \n",
       "Age           80.0000  \n",
       "SibSp          8.0000  \n",
       "Parch          6.0000  \n",
       "Fare         512.3292  "
      ]
     },
     "execution_count": 4,
     "metadata": {},
     "output_type": "execute_result"
    }
   ],
   "source": [
    "df.describe().T #betimsel istatistikler"
   ]
  },
  {
   "cell_type": "code",
   "execution_count": 5,
   "metadata": {
    "scrolled": true
   },
   "outputs": [
    {
     "data": {
      "text/plain": [
       "PassengerId      int64\n",
       "Survived         int64\n",
       "Pclass           int64\n",
       "Name            object\n",
       "Sex             object\n",
       "Age            float64\n",
       "SibSp            int64\n",
       "Parch            int64\n",
       "Ticket          object\n",
       "Fare           float64\n",
       "Cabin           object\n",
       "Embarked        object\n",
       "dtype: object"
      ]
     },
     "execution_count": 5,
     "metadata": {},
     "output_type": "execute_result"
    }
   ],
   "source": [
    "df.dtypes #değişkenlerin veri tipler"
   ]
  },
  {
   "cell_type": "markdown",
   "metadata": {},
   "source": [
    "Bu değişkenlerden Cabin ve Ticket string tipinde ifade edilmiştir.\n",
    "\n",
    "Sex değişkeni binary category tipindedir Embarked değişkeni category tipindedir Name değişkeni text tipindedir\n",
    "\n",
    "Pclass, Age, PassengerID, SibSp, Parch, Fare olmak üzere 6 değişken nümeric türündendir<br>\n",
    "\n",
    "Age ve Fare değişkenleri sürekli sayısal Pclass değişkeni ordinal category tipindedir \n",
    "\n",
    "SibSp ve Parch değişkenleri discrete ordinal Hedef değişken olan Survived değişkeni binary categorical"
   ]
  },
  {
   "cell_type": "markdown",
   "metadata": {},
   "source": [
    "##### Hayatta kalma oranı"
   ]
  },
  {
   "cell_type": "code",
   "execution_count": 6,
   "metadata": {},
   "outputs": [
    {
     "data": {
      "text/plain": [
       "0.3838383838383838"
      ]
     },
     "execution_count": 6,
     "metadata": {},
     "output_type": "execute_result"
    }
   ],
   "source": [
    "df['Survived'].mean()"
   ]
  },
  {
   "cell_type": "markdown",
   "metadata": {},
   "source": [
    "##### Cinsiyete Göre Hayatta Kalma Oranı"
   ]
  },
  {
   "cell_type": "code",
   "execution_count": 7,
   "metadata": {},
   "outputs": [
    {
     "data": {
      "text/html": [
       "<div>\n",
       "<style scoped>\n",
       "    .dataframe tbody tr th:only-of-type {\n",
       "        vertical-align: middle;\n",
       "    }\n",
       "\n",
       "    .dataframe tbody tr th {\n",
       "        vertical-align: top;\n",
       "    }\n",
       "\n",
       "    .dataframe thead th {\n",
       "        text-align: right;\n",
       "    }\n",
       "</style>\n",
       "<table border=\"1\" class=\"dataframe\">\n",
       "  <thead>\n",
       "    <tr style=\"text-align: right;\">\n",
       "      <th></th>\n",
       "      <th>Sex</th>\n",
       "      <th>Survived</th>\n",
       "    </tr>\n",
       "  </thead>\n",
       "  <tbody>\n",
       "    <tr>\n",
       "      <th>0</th>\n",
       "      <td>female</td>\n",
       "      <td>0.742038</td>\n",
       "    </tr>\n",
       "    <tr>\n",
       "      <th>1</th>\n",
       "      <td>male</td>\n",
       "      <td>0.188908</td>\n",
       "    </tr>\n",
       "  </tbody>\n",
       "</table>\n",
       "</div>"
      ],
      "text/plain": [
       "      Sex  Survived\n",
       "0  female  0.742038\n",
       "1    male  0.188908"
      ]
     },
     "execution_count": 7,
     "metadata": {},
     "output_type": "execute_result"
    }
   ],
   "source": [
    "df[[\"Sex\", \"Survived\"]].groupby(['Sex'], as_index=False).mean().sort_values(by='Survived', ascending=False)"
   ]
  },
  {
   "cell_type": "markdown",
   "metadata": {},
   "source": [
    "## Veri Setinin Görselleştirilmesi\n"
   ]
  },
  {
   "cell_type": "code",
   "execution_count": 8,
   "metadata": {},
   "outputs": [
    {
     "data": {
      "image/png": "[encoded data removed]",
      "text/plain": [
       "<Figure size 576x288 with 1 Axes>"
      ]
     },
     "metadata": {
      "needs_background": "light"
     },
     "output_type": "display_data"
    }
   ],
   "source": [
    "plt.figure(figsize=(8,4))\n",
    "Survived = df[\"Survived\"].value_counts()\n",
    "sns.barplot(y=Survived.values, x=Survived.index, alpha=0.6)\n",
    "plt.title(\"'Survived' Değişkeninin Frekans Değerleri\")\n",
    "plt.xlabel('Yolcuların Hayatta Kalma Durumu', fontsize=10)\n",
    "plt.ylabel('Frekans', fontsize=10)\n",
    "plt.show()"
   ]
  },
  {
   "cell_type": "code",
   "execution_count": 9,
   "metadata": {
    "scrolled": true
   },
   "outputs": [
    {
     "data": {
      "image/png": "[encoded data removed]",
      "text/plain": [
       "<Figure size 432x288 with 1 Axes>"
      ]
     },
     "metadata": {
      "needs_background": "light"
     },
     "output_type": "display_data"
    }
   ],
   "source": [
    "sns.barplot(df['Embarked'], df['Survived'])\n",
    "plt.title(\"Yolcuların Liman Türüne Göre Hayatta Kalma Durumu\")\n",
    "plt.xlabel('Liman Tipi', fontsize=10)\n",
    "plt.ylabel('Hayatta Kalma Durumu', fontsize=10)\n",
    "plt.show()"
   ]
  },
  {
   "cell_type": "code",
   "execution_count": 10,
   "metadata": {},
   "outputs": [
    {
     "data": {
      "image/png": "[encoded data removed]",
      "text/plain": [
       "<Figure size 432x288 with 1 Axes>"
      ]
     },
     "metadata": {
      "needs_background": "light"
     },
     "output_type": "display_data"
    }
   ],
   "source": [
    "sns.barplot(df['Pclass'], df['Survived'])\n",
    "plt.title(\"Yolcu Sınıfına Göre Hayatta Kalma Durumu\")\n",
    "plt.xlabel('Yolcu Sınıfı', fontsize=10)\n",
    "plt.ylabel('Hayatta Kalma Durumu', fontsize=10)\n",
    "plt.show()"
   ]
  },
  {
   "cell_type": "code",
   "execution_count": 11,
   "metadata": {},
   "outputs": [
    {
     "data": {
      "image/png": "[encoded data removed]",
      "text/plain": [
       "<Figure size 432x288 with 1 Axes>"
      ]
     },
     "metadata": {
      "needs_background": "light"
     },
     "output_type": "display_data"
    }
   ],
   "source": [
    "sns.barplot(df['Sex'], df['Survived'])\n",
    "plt.title(\"Cinsiyete Göre Hayatta Kalma Durumu\")\n",
    "plt.xlabel('Cinsiyet', fontsize=10)\n",
    "plt.ylabel('Hayatta Kalma Durumu', fontsize=10)\n",
    "plt.show()"
   ]
  },
  {
   "cell_type": "markdown",
   "metadata": {},
   "source": [
    "# Kayıp Değer Analizi\n"
   ]
  },
  {
   "cell_type": "code",
   "execution_count": 12,
   "metadata": {},
   "outputs": [
    {
     "data": {
      "text/plain": [
       "Index(['Age', 'Cabin', 'Embarked'], dtype='object')"
      ]
     },
     "execution_count": 12,
     "metadata": {},
     "output_type": "execute_result"
    }
   ],
   "source": [
    "# veri setinde eksik değerleri olan sütunları listele\n",
    "df.columns[df.isna().any()]\n"
   ]
  },
  {
   "cell_type": "code",
   "execution_count": 13,
   "metadata": {},
   "outputs": [
    {
     "data": {
      "image/png": "[encoded data removed]",
      "text/plain": [
       "<Figure size 1800x720 with 2 Axes>"
      ]
     },
     "metadata": {
      "needs_background": "light"
     },
     "output_type": "display_data"
    }
   ],
   "source": [
    "#pip install missingno\n",
    "import missingno as msno\n",
    "msno.matrix(df);"
   ]
  },
  {
   "cell_type": "code",
   "execution_count": 14,
   "metadata": {},
   "outputs": [
    {
     "data": {
      "text/plain": [
       "PassengerId      0\n",
       "Survived         0\n",
       "Pclass           0\n",
       "Name             0\n",
       "Sex              0\n",
       "Age            177\n",
       "SibSp            0\n",
       "Parch            0\n",
       "Ticket           0\n",
       "Fare             0\n",
       "Cabin          687\n",
       "Embarked         2\n",
       "dtype: int64"
      ]
     },
     "execution_count": 14,
     "metadata": {},
     "output_type": "execute_result"
    }
   ],
   "source": [
    "df.isna().sum()"
   ]
  },
  {
   "cell_type": "code",
   "execution_count": 15,
   "metadata": {},
   "outputs": [],
   "source": [
    "# eksik değerleri Embarked için mode ile doldurma\n",
    "embarked = df[\"Embarked\"].mode()[0]\n",
    "df[\"Embarked\"] = df[\"Embarked\"].fillna(embarked)"
   ]
  },
  {
   "cell_type": "code",
   "execution_count": 16,
   "metadata": {},
   "outputs": [],
   "source": [
    "# Cabin değişkeninin çok büyük oranda eksik değer içermesinden dolayı veri setinden silindi.\n",
    "\n",
    "df.drop(\"Cabin\", axis = 1, inplace = True)\n"
   ]
  },
  {
   "cell_type": "code",
   "execution_count": 17,
   "metadata": {},
   "outputs": [
    {
     "data": {
      "image/png": "[encoded data removed]",
      "text/plain": [
       "<Figure size 432x288 with 1 Axes>"
      ]
     },
     "metadata": {
      "needs_background": "light"
     },
     "output_type": "display_data"
    }
   ],
   "source": [
    "# Age değişkeni için çeşitli veri doldurma yöntemlerini uygulayalım.\n",
    "# ilk olarak dağılımına bakalım\n",
    "sns.distplot(df[\"Age\"])\n",
    "plt.title(\"'Age' Değişkeninin Dağılımı\")\n",
    "plt.show()"
   ]
  },
  {
   "cell_type": "code",
   "execution_count": 18,
   "metadata": {},
   "outputs": [
    {
     "data": {
      "image/png": "[encoded data removed]",
      "text/plain": [
       "<Figure size 432x288 with 1 Axes>"
      ]
     },
     "metadata": {
      "needs_background": "light"
     },
     "output_type": "display_data"
    }
   ],
   "source": [
    "# mean ile dolduralım\n",
    "df_mean = df.copy()\n",
    "mean_age = df[\"Age\"].mean() # ortalama yaş değeri\n",
    "df_mean['Age'] = df_mean[\"Age\"].fillna(np.round(mean_age,1))\n",
    "\n",
    "sns.distplot(df[\"Age\"],color=\"olive\", label=\"Orijinal Hali\")\n",
    "sns.distplot( df_mean[\"Age\"],color=\"teal\", label=\"Ort. İle Düzenlenmiş Hali\")\n",
    "plt.title(\"Orijinal 'Age' vs Ort. İle Düzenlenmiş 'Age' \")\n",
    "plt.legend()\n",
    "plt.show()\n",
    "\n"
   ]
  },
  {
   "cell_type": "code",
   "execution_count": 19,
   "metadata": {},
   "outputs": [
    {
     "data": {
      "image/png": "[encoded data removed]",
      "text/plain": [
       "<Figure size 432x288 with 1 Axes>"
      ]
     },
     "metadata": {
      "needs_background": "light"
     },
     "output_type": "display_data"
    }
   ],
   "source": [
    "# median ile dolduralım\n",
    "\n",
    "df_median = df.copy()\n",
    "median_age = df[\"Age\"].median()\n",
    "df_median[\"Age\"] = df_median[\"Age\"].fillna(median_age)\n",
    "\n",
    "sns.distplot(df[\"Age\"] , color=\"red\", label=\"Orijinal Hali\")\n",
    "sns.distplot(df_median[\"Age\"] , color=\"skyblue\", label=\"Medyan İle Düzenlenmiş Hali\")\n",
    "plt.title(\"Orijinal 'Age' vs Medyan İle Düzenlenmiş 'Age' \")\n",
    "plt.legend()\n",
    "plt.show()"
   ]
  },
  {
   "cell_type": "code",
   "execution_count": 20,
   "metadata": {},
   "outputs": [
    {
     "data": {
      "image/png": "[encoded data removed]",
      "text/plain": [
       "<Figure size 432x288 with 1 Axes>"
      ]
     },
     "metadata": {
      "needs_background": "light"
     },
     "output_type": "display_data"
    }
   ],
   "source": [
    "# mod ile dolduralım\n",
    "df_mode = df.copy()\n",
    "age_mode = df[\"Age\"].mode()[0] # modunu bulma\n",
    "df_mode[\"Age\"] = df_mode[\"Age\"].fillna(age_mode)\n",
    "\n",
    "sns.distplot(df[\"Age\"] , color=\"red\", label=\"Orijinal Hali\")\n",
    "sns.distplot(df_mode[\"Age\"] , color=\"skyblue\", label=\"Mod İle Düzenlenmiş Hali\")\n",
    "plt.title(\"Orijinal 'Age' vs Mod İle Düzenlenmiş 'Age' \")\n",
    "plt.legend()\n",
    "plt.show()"
   ]
  },
  {
   "cell_type": "code",
   "execution_count": 21,
   "metadata": {},
   "outputs": [],
   "source": [
    "# Veri dağılımından harektle mean ile doldurmaya karar verildi.\n",
    "\n",
    "df[\"Age\"] = df[\"Age\"].fillna(np.round(mean_age,1))\n"
   ]
  },
  {
   "cell_type": "markdown",
   "metadata": {},
   "source": [
    "# Veri Ön İşleme\n",
    "\n",
    "### Kategorik değişkeni sayısal değerlere dönüştürme"
   ]
  },
  {
   "cell_type": "code",
   "execution_count": 22,
   "metadata": {},
   "outputs": [],
   "source": [
    "# 1 CİNSİYET DEĞİŞKENİ İÇİN ANALİZ\n",
    "# Binary encoding\n",
    "\n",
    "df[\"Sex\"] = df[\"Sex\"].map({\"male\":0, \"female\":1}).astype(int)\n"
   ]
  },
  {
   "cell_type": "code",
   "execution_count": 23,
   "metadata": {},
   "outputs": [
    {
     "name": "stdout",
     "output_type": "stream",
     "text": [
      "Southampton(S)'dan binen yolcu sayısı: 646\n",
      "Cherbourg (C)'dan binen yolcu sayısı: 168\n",
      "Queenstown(Q)'dan binen yolcu sayısı: 77\n"
     ]
    }
   ],
   "source": [
    "# EMBARKED Değişkeni İçin Analiz\n",
    "\n",
    "southampton = df[df[\"Embarked\"] == \"S\"].shape[0]\n",
    "print(\"Southampton(S)'dan binen yolcu sayısı:\",southampton)\n",
    "\n",
    "cherbourg = df[df[\"Embarked\"] == \"C\"].shape[0]\n",
    "print(\"Cherbourg (C)'dan binen yolcu sayısı:\",cherbourg)\n",
    "\n",
    "queenstown = df[df[\"Embarked\"] == \"Q\"].shape[0]\n",
    "print(\"Queenstown(Q)'dan binen yolcu sayısı:\",queenstown )\n"
   ]
  },
  {
   "cell_type": "code",
   "execution_count": 24,
   "metadata": {},
   "outputs": [],
   "source": [
    "from sklearn.preprocessing import OneHotEncoder\n",
    "\n",
    "# embarked değişkeni ordinal bir yapıda olmadığından one hot encoder kullanılabilir.\n",
    "\n",
    "encoder = OneHotEncoder()\n",
    "encoder_df = pd.DataFrame(encoder.fit_transform(df[[\"Embarked\"]]).toarray()).add_prefix('Embarked_')\n",
    "df = df.join(encoder_df)"
   ]
  },
  {
   "cell_type": "code",
   "execution_count": 25,
   "metadata": {},
   "outputs": [
    {
     "data": {
      "text/plain": [
       "[array(['C', 'Q', 'S'], dtype=object)]"
      ]
     },
     "execution_count": 25,
     "metadata": {},
     "output_type": "execute_result"
    }
   ],
   "source": [
    "encoder.categories_"
   ]
  },
  {
   "cell_type": "code",
   "execution_count": 26,
   "metadata": {},
   "outputs": [],
   "source": [
    "# Name Değişkeni İçin Analiz:\n",
    "import re"
   ]
  },
  {
   "cell_type": "code",
   "execution_count": 27,
   "metadata": {},
   "outputs": [],
   "source": [
    "def make_title(df):\n",
    "    for dataset in df:\n",
    "        dataset['Title'] = dataset.Name.str.extract('([A-Za-z]+)\\.', expand=False)\n",
    "\n",
    "make_title([df])    "
   ]
  },
  {
   "cell_type": "code",
   "execution_count": 28,
   "metadata": {},
   "outputs": [
    {
     "data": {
      "text/plain": [
       "array(['Mr', 'Mrs', 'Miss', 'Master', 'Don', 'Rev', 'Dr', 'Mme', 'Ms',\n",
       "       'Major', 'Lady', 'Sir', 'Mlle', 'Col', 'Capt', 'Countess',\n",
       "       'Jonkheer'], dtype=object)"
      ]
     },
     "execution_count": 28,
     "metadata": {},
     "output_type": "execute_result"
    }
   ],
   "source": [
    "df.Title.unique()"
   ]
  },
  {
   "cell_type": "code",
   "execution_count": 29,
   "metadata": {},
   "outputs": [
    {
     "data": {
      "text/html": [
       "<div>\n",
       "<style scoped>\n",
       "    .dataframe tbody tr th:only-of-type {\n",
       "        vertical-align: middle;\n",
       "    }\n",
       "\n",
       "    .dataframe tbody tr th {\n",
       "        vertical-align: top;\n",
       "    }\n",
       "\n",
       "    .dataframe thead th {\n",
       "        text-align: right;\n",
       "    }\n",
       "</style>\n",
       "<table border=\"1\" class=\"dataframe\">\n",
       "  <thead>\n",
       "    <tr style=\"text-align: right;\">\n",
       "      <th>Sex</th>\n",
       "      <th>0</th>\n",
       "      <th>1</th>\n",
       "    </tr>\n",
       "    <tr>\n",
       "      <th>Title</th>\n",
       "      <th></th>\n",
       "      <th></th>\n",
       "    </tr>\n",
       "  </thead>\n",
       "  <tbody>\n",
       "    <tr>\n",
       "      <th>Capt</th>\n",
       "      <td>1</td>\n",
       "      <td>0</td>\n",
       "    </tr>\n",
       "    <tr>\n",
       "      <th>Col</th>\n",
       "      <td>2</td>\n",
       "      <td>0</td>\n",
       "    </tr>\n",
       "    <tr>\n",
       "      <th>Countess</th>\n",
       "      <td>0</td>\n",
       "      <td>1</td>\n",
       "    </tr>\n",
       "    <tr>\n",
       "      <th>Don</th>\n",
       "      <td>1</td>\n",
       "      <td>0</td>\n",
       "    </tr>\n",
       "    <tr>\n",
       "      <th>Dr</th>\n",
       "      <td>6</td>\n",
       "      <td>1</td>\n",
       "    </tr>\n",
       "    <tr>\n",
       "      <th>Jonkheer</th>\n",
       "      <td>1</td>\n",
       "      <td>0</td>\n",
       "    </tr>\n",
       "    <tr>\n",
       "      <th>Lady</th>\n",
       "      <td>0</td>\n",
       "      <td>1</td>\n",
       "    </tr>\n",
       "    <tr>\n",
       "      <th>Major</th>\n",
       "      <td>2</td>\n",
       "      <td>0</td>\n",
       "    </tr>\n",
       "    <tr>\n",
       "      <th>Master</th>\n",
       "      <td>40</td>\n",
       "      <td>0</td>\n",
       "    </tr>\n",
       "    <tr>\n",
       "      <th>Miss</th>\n",
       "      <td>0</td>\n",
       "      <td>182</td>\n",
       "    </tr>\n",
       "    <tr>\n",
       "      <th>Mlle</th>\n",
       "      <td>0</td>\n",
       "      <td>2</td>\n",
       "    </tr>\n",
       "    <tr>\n",
       "      <th>Mme</th>\n",
       "      <td>0</td>\n",
       "      <td>1</td>\n",
       "    </tr>\n",
       "    <tr>\n",
       "      <th>Mr</th>\n",
       "      <td>517</td>\n",
       "      <td>0</td>\n",
       "    </tr>\n",
       "    <tr>\n",
       "      <th>Mrs</th>\n",
       "      <td>0</td>\n",
       "      <td>125</td>\n",
       "    </tr>\n",
       "    <tr>\n",
       "      <th>Ms</th>\n",
       "      <td>0</td>\n",
       "      <td>1</td>\n",
       "    </tr>\n",
       "    <tr>\n",
       "      <th>Rev</th>\n",
       "      <td>6</td>\n",
       "      <td>0</td>\n",
       "    </tr>\n",
       "    <tr>\n",
       "      <th>Sir</th>\n",
       "      <td>1</td>\n",
       "      <td>0</td>\n",
       "    </tr>\n",
       "  </tbody>\n",
       "</table>\n",
       "</div>"
      ],
      "text/plain": [
       "Sex         0    1\n",
       "Title             \n",
       "Capt        1    0\n",
       "Col         2    0\n",
       "Countess    0    1\n",
       "Don         1    0\n",
       "Dr          6    1\n",
       "Jonkheer    1    0\n",
       "Lady        0    1\n",
       "Major       2    0\n",
       "Master     40    0\n",
       "Miss        0  182\n",
       "Mlle        0    2\n",
       "Mme         0    1\n",
       "Mr        517    0\n",
       "Mrs         0  125\n",
       "Ms          0    1\n",
       "Rev         6    0\n",
       "Sir         1    0"
      ]
     },
     "execution_count": 29,
     "metadata": {},
     "output_type": "execute_result"
    }
   ],
   "source": [
    "pd.crosstab(df['Title'], df['Sex'])\n"
   ]
  },
  {
   "cell_type": "code",
   "execution_count": 30,
   "metadata": {},
   "outputs": [],
   "source": [
    "# Veri setinde yer alan name değişkeninde bulanan unvanları daha genel kullanımına \n",
    "# göre replace metoduyla değiştirelim ve hayatta kalma durumuna göre gruplayalım\n",
    "\n",
    "def Title_arange(df):\n",
    "    for dataset in df:\n",
    "        dataset['Title'] = dataset['Title'].replace(['Lady', 'Countess','Capt', 'Col',\\\n",
    "     'Don', 'Dr', 'Major', 'Rev', 'Sir', 'Jonkheer', 'Dona'], 'Rare')\n",
    "\n",
    "        dataset['Title'] = dataset['Title'].replace('Mlle', 'Miss')\n",
    "        dataset['Title'] = dataset['Title'].replace('Ms', 'Miss')\n",
    "        dataset['Title'] = dataset['Title'].replace('Mme', 'Mrs')\n",
    "\n",
    "        #train_df[['Title', 'Survived']].groupby(['Title'], as_index=False).mean()"
   ]
  },
  {
   "cell_type": "code",
   "execution_count": 31,
   "metadata": {},
   "outputs": [],
   "source": [
    "Title_arange([df])\n"
   ]
  },
  {
   "cell_type": "code",
   "execution_count": 32,
   "metadata": {},
   "outputs": [],
   "source": [
    "encoder = OneHotEncoder()\n",
    "\n",
    "encoder_df = pd.DataFrame(encoder.fit_transform(df[[\"Title\"]]).toarray()).add_prefix('Title_')\n",
    "df = df.join(encoder_df)\n"
   ]
  },
  {
   "cell_type": "code",
   "execution_count": 33,
   "metadata": {},
   "outputs": [],
   "source": [
    "# Daha sonra Name, Embarked, Ticket değişkenini silelim\n",
    "\n",
    "\n",
    "df = df.drop([\"PassengerId\",\"Name\",\"Ticket\",\"Embarked\",\"Title\"], axis= 1)\n"
   ]
  },
  {
   "cell_type": "code",
   "execution_count": 34,
   "metadata": {},
   "outputs": [
    {
     "data": {
      "text/plain": [
       "[array(['Master', 'Miss', 'Mr', 'Mrs', 'Rare'], dtype=object)]"
      ]
     },
     "execution_count": 34,
     "metadata": {},
     "output_type": "execute_result"
    }
   ],
   "source": [
    "encoder.categories_"
   ]
  },
  {
   "cell_type": "code",
   "execution_count": 35,
   "metadata": {
    "scrolled": true
   },
   "outputs": [
    {
     "data": {
      "text/html": [
       "<div>\n",
       "<style scoped>\n",
       "    .dataframe tbody tr th:only-of-type {\n",
       "        vertical-align: middle;\n",
       "    }\n",
       "\n",
       "    .dataframe tbody tr th {\n",
       "        vertical-align: top;\n",
       "    }\n",
       "\n",
       "    .dataframe thead th {\n",
       "        text-align: right;\n",
       "    }\n",
       "</style>\n",
       "<table border=\"1\" class=\"dataframe\">\n",
       "  <thead>\n",
       "    <tr style=\"text-align: right;\">\n",
       "      <th></th>\n",
       "      <th>Survived</th>\n",
       "      <th>Pclass</th>\n",
       "      <th>Sex</th>\n",
       "      <th>Age</th>\n",
       "      <th>SibSp</th>\n",
       "      <th>Parch</th>\n",
       "      <th>Fare</th>\n",
       "      <th>Embarked_0</th>\n",
       "      <th>Embarked_1</th>\n",
       "      <th>Embarked_2</th>\n",
       "      <th>Title_0</th>\n",
       "      <th>Title_1</th>\n",
       "      <th>Title_2</th>\n",
       "      <th>Title_3</th>\n",
       "      <th>Title_4</th>\n",
       "    </tr>\n",
       "  </thead>\n",
       "  <tbody>\n",
       "    <tr>\n",
       "      <th>0</th>\n",
       "      <td>0</td>\n",
       "      <td>3</td>\n",
       "      <td>0</td>\n",
       "      <td>22.0</td>\n",
       "      <td>1</td>\n",
       "      <td>0</td>\n",
       "      <td>7.2500</td>\n",
       "      <td>0.0</td>\n",
       "      <td>0.0</td>\n",
       "      <td>1.0</td>\n",
       "      <td>0.0</td>\n",
       "      <td>0.0</td>\n",
       "      <td>1.0</td>\n",
       "      <td>0.0</td>\n",
       "      <td>0.0</td>\n",
       "    </tr>\n",
       "    <tr>\n",
       "      <th>1</th>\n",
       "      <td>1</td>\n",
       "      <td>1</td>\n",
       "      <td>1</td>\n",
       "      <td>38.0</td>\n",
       "      <td>1</td>\n",
       "      <td>0</td>\n",
       "      <td>71.2833</td>\n",
       "      <td>1.0</td>\n",
       "      <td>0.0</td>\n",
       "      <td>0.0</td>\n",
       "      <td>0.0</td>\n",
       "      <td>0.0</td>\n",
       "      <td>0.0</td>\n",
       "      <td>1.0</td>\n",
       "      <td>0.0</td>\n",
       "    </tr>\n",
       "    <tr>\n",
       "      <th>2</th>\n",
       "      <td>1</td>\n",
       "      <td>3</td>\n",
       "      <td>1</td>\n",
       "      <td>26.0</td>\n",
       "      <td>0</td>\n",
       "      <td>0</td>\n",
       "      <td>7.9250</td>\n",
       "      <td>0.0</td>\n",
       "      <td>0.0</td>\n",
       "      <td>1.0</td>\n",
       "      <td>0.0</td>\n",
       "      <td>1.0</td>\n",
       "      <td>0.0</td>\n",
       "      <td>0.0</td>\n",
       "      <td>0.0</td>\n",
       "    </tr>\n",
       "    <tr>\n",
       "      <th>3</th>\n",
       "      <td>1</td>\n",
       "      <td>1</td>\n",
       "      <td>1</td>\n",
       "      <td>35.0</td>\n",
       "      <td>1</td>\n",
       "      <td>0</td>\n",
       "      <td>53.1000</td>\n",
       "      <td>0.0</td>\n",
       "      <td>0.0</td>\n",
       "      <td>1.0</td>\n",
       "      <td>0.0</td>\n",
       "      <td>0.0</td>\n",
       "      <td>0.0</td>\n",
       "      <td>1.0</td>\n",
       "      <td>0.0</td>\n",
       "    </tr>\n",
       "    <tr>\n",
       "      <th>4</th>\n",
       "      <td>0</td>\n",
       "      <td>3</td>\n",
       "      <td>0</td>\n",
       "      <td>35.0</td>\n",
       "      <td>0</td>\n",
       "      <td>0</td>\n",
       "      <td>8.0500</td>\n",
       "      <td>0.0</td>\n",
       "      <td>0.0</td>\n",
       "      <td>1.0</td>\n",
       "      <td>0.0</td>\n",
       "      <td>0.0</td>\n",
       "      <td>1.0</td>\n",
       "      <td>0.0</td>\n",
       "      <td>0.0</td>\n",
       "    </tr>\n",
       "  </tbody>\n",
       "</table>\n",
       "</div>"
      ],
      "text/plain": [
       "   Survived  Pclass  Sex   Age  SibSp  Parch     Fare  Embarked_0  Embarked_1  \\\n",
       "0         0       3    0  22.0      1      0   7.2500         0.0         0.0   \n",
       "1         1       1    1  38.0      1      0  71.2833         1.0         0.0   \n",
       "2         1       3    1  26.0      0      0   7.9250         0.0         0.0   \n",
       "3         1       1    1  35.0      1      0  53.1000         0.0         0.0   \n",
       "4         0       3    0  35.0      0      0   8.0500         0.0         0.0   \n",
       "\n",
       "   Embarked_2  Title_0  Title_1  Title_2  Title_3  Title_4  \n",
       "0         1.0      0.0      0.0      1.0      0.0      0.0  \n",
       "1         0.0      0.0      0.0      0.0      1.0      0.0  \n",
       "2         1.0      0.0      1.0      0.0      0.0      0.0  \n",
       "3         1.0      0.0      0.0      0.0      1.0      0.0  \n",
       "4         1.0      0.0      0.0      1.0      0.0      0.0  "
      ]
     },
     "execution_count": 35,
     "metadata": {},
     "output_type": "execute_result"
    }
   ],
   "source": [
    "df.head()"
   ]
  },
  {
   "cell_type": "markdown",
   "metadata": {},
   "source": [
    "### VERİ SETİNİ TRAİN TEST VE VALİDATİON OLARAK AYIRALIM"
   ]
  },
  {
   "cell_type": "code",
   "execution_count": 36,
   "metadata": {
    "scrolled": true
   },
   "outputs": [],
   "source": [
    "y = df[\"Survived\"]\n",
    "\n",
    "X = df.drop([\"Survived\"], axis = 1)"
   ]
  },
  {
   "cell_type": "code",
   "execution_count": 37,
   "metadata": {},
   "outputs": [],
   "source": [
    "from sklearn.model_selection import train_test_split\n",
    "\n",
    "X_train, X_test, y_train, y_test = train_test_split(X, y, test_size=0.2, random_state=1)\n",
    "\n",
    "X_train, X_val, y_train, y_val = train_test_split(X_train, y_train, test_size=0.25, random_state=44) \n",
    "X_train.reset_index(inplace=True,drop=True)\n",
    "X_test.reset_index(inplace=True,drop=True)\n",
    "X_val.reset_index(inplace=True,drop=True)\n",
    "y_train.reset_index(inplace=True,drop=True)\n",
    "y_test.reset_index(inplace=True,drop=True)\n",
    "y_val.reset_index(inplace=True,drop=True)"
   ]
  },
  {
   "cell_type": "markdown",
   "metadata": {},
   "source": [
    "# Topluluk Öğrenmesi (Ensemble Learning)"
   ]
  },
  {
   "cell_type": "markdown",
   "metadata": {},
   "source": [
    "Topluluk öğrenme kavramını bir örnekle anlayalım. Bir film yönetmeni olduğunuzu ve çok önemli ve ilginç bir konu hakkında kısa bir film hazırladığınızı varsayalım. Şimdi, filmi herkese açık hale getirmeden önce ön geri bildirim (derecelendirme) almak istiyorsunuz. Bunu yapmanın olası yolları nelerdir?\n",
    "\n",
    "* A: Bir arkadaşınızdan filmi sizin için değerlendirmesini isteyebilirsiniz.\n",
    "\n",
    "Bu durumda arkadaşınızın sizi çok sevmesi ve yarattığınız korkunç çalışmaya 1 yıldız vererek kalbinizi kırmak istememesi tamamen mümkün.\n",
    "\n",
    "* B: Başka bir yol da 5 meslektaşınızdan filmi derecelendirmelerini istemek olabilir.\n",
    "\n",
    "Bu yöntem, filminiz için dürüst derecelendirmeler sağlayabilir. Ama hala bir sorun var. Bu 5 kişi, filminizin konusu için “Konu Uzmanı” olmayabilir.\n",
    "\n",
    "* C: Ya 50 kişiden filmi değerlendirmesini istersek ?\n",
    "\n",
    "Bazıları arkadaşınız olabilir, bazıları meslektaşlarınız olabilir ve hatta bazıları tamamen yabancı olabilir. Bu durumda yanıtlar, artık farklı becerilere sahip insanlara sahip olduğunuz için daha genel ve çeşitli olacaktır. Bu örneklerle, farklı bir grup insanın, bireylere kıyasla daha iyi kararlar verebileceği sonucuna varabilirsiniz. Tekli modellere kıyasla çok çeşitli modeller için benzer durum geçerlidir. Makine Öğrenimindeki bu çeşitlilik, Topluluk Öğrenimi adı verilen bir teknikle elde edilir. Artık topluluk öğreniminin ne olduğu konusunda bir fikir edindiğinize göre, bunların uygulamalarıyla birlikte topluluk öğrenmedeki çeşitli tekniklere bakalım."
   ]
  },
  {
   "cell_type": "markdown",
   "metadata": {},
   "source": [
    "![title](elephant.png)"
   ]
  },
  {
   "cell_type": "markdown",
   "metadata": {},
   "source": [
    "# Basit Topluluk Teknikleri"
   ]
  },
  {
   "cell_type": "markdown",
   "metadata": {},
   "source": [
    "Bu bölümde, birkaç basit ama güçlü tekniğe bakacağız, yani:\n",
    "    \n",
    "* Max Voting\n",
    "* Averaging\n",
    "* Weighted Averaging"
   ]
  },
  {
   "cell_type": "markdown",
   "metadata": {},
   "source": [
    "## Max Voting\n",
    "\n",
    "Maksimum oylama yöntemi genellikle sınıflandırma problemleri için kullanılır. Bu teknikte, her veri noktası için tahmin yapmak için birden çok model kullanılır. Her modelin tahminleri bir 'oy' olarak kabul edilir. Modellerin çoğundan aldığımız tahminler son tahmin olarak kullanılmaktadır.\n",
    "\n",
    "Örneğin, 5 meslektaşınızdan filminizi derecelendirmesini istediğinizde (5 üzerinden); Bunlardan üçünün 4, ikisinin de 5 verdiğini varsayacağız. Çoğunluk 4 puan verdiği için final derecesini 4 olarak alabiliriz. Bunu tüm tahminlerin modunu almak olarak düşünebilirsiniz."
   ]
  },
  {
   "cell_type": "markdown",
   "metadata": {},
   "source": [
    "![title](maxvoting.png)"
   ]
  },
  {
   "cell_type": "markdown",
   "metadata": {},
   "source": [
    "### Örnek Kod:"
   ]
  },
  {
   "cell_type": "code",
   "execution_count": 38,
   "metadata": {},
   "outputs": [
    {
     "data": {
      "text/plain": [
       "array([1, 0, 1, 1, 1, 0, 0, 1, 1, 1, 0, 0, 0, 0, 1, 0, 0, 0, 0, 1, 0, 0,\n",
       "       1, 0, 0, 0, 1, 1, 0, 1, 0, 1, 0, 0, 0, 0, 1, 0, 1, 0, 1, 1, 1, 1,\n",
       "       1, 0, 0, 0, 1, 0, 0, 1, 0, 0, 0, 1, 0, 0, 0, 0, 0, 0, 1, 1, 0, 0,\n",
       "       0, 0, 1, 0, 0, 0, 1, 0, 1, 0, 1, 0, 0, 1, 0, 0, 0, 0, 1, 0, 0, 0,\n",
       "       0, 1, 0, 0, 0, 1, 0, 1, 0, 1, 0, 0, 1, 0, 1, 0, 1, 0, 0, 0, 0, 0,\n",
       "       0, 0, 0, 0, 0, 0, 0, 0, 1, 0, 1, 0, 0, 0, 1, 1, 1, 0, 0, 0, 0, 0,\n",
       "       1, 1, 0, 1, 1, 0, 0, 1, 1, 0, 1, 1, 0, 0, 0, 0, 0, 0, 1, 0, 0, 0,\n",
       "       0, 0, 0, 0, 1, 0, 0, 0, 0, 1, 0, 0, 1, 0, 0, 0, 1, 0, 1, 0, 1, 0,\n",
       "       0, 0, 1], dtype=int64)"
      ]
     },
     "execution_count": 38,
     "metadata": {},
     "output_type": "execute_result"
    }
   ],
   "source": [
    "from sklearn.ensemble import VotingClassifier\n",
    "\n",
    "model1 = LogisticRegression(random_state=10)\n",
    "model2 = DecisionTreeClassifier(random_state=10)\n",
    "model3 = KNeighborsClassifier()\n",
    "\n",
    "model = VotingClassifier(estimators=[('lr', model1), ('dt', model2),('kn', model3)], voting='hard')\n",
    "model.fit(X_train,y_train)\n",
    "model.predict(X_test)"
   ]
  },
  {
   "cell_type": "markdown",
   "metadata": {},
   "source": [
    "## Averaging"
   ]
  },
  {
   "cell_type": "markdown",
   "metadata": {},
   "source": [
    "Maksimum oylama tekniğine benzer şekilde, ortalamada her veri noktası için birden fazla tahmin yapılır. Bu yöntemde, tüm modellerden ortalama bir tahmin alıyoruz ve bunu son tahmini yapmak için kullanıyoruz. Ortalama alma, regresyon problemlerinde tahmin yapmak için veya sınıflandırma problemleri için olasılıkları hesaplarken kullanılabilir.\n",
    "\n",
    "Örneğin, aşağıdaki durumda, ortalama alma yöntemi tüm değerlerin ortalamasını alacaktır. \n",
    "\n",
    "yani (5 + 4 + 5 + 4 + 4) / 5 = 4.4"
   ]
  },
  {
   "cell_type": "markdown",
   "metadata": {},
   "source": [
    "![title](averaging.png)"
   ]
  },
  {
   "cell_type": "markdown",
   "metadata": {},
   "source": [
    "### Örnek Kod:"
   ]
  },
  {
   "cell_type": "code",
   "execution_count": 39,
   "metadata": {},
   "outputs": [
    {
     "name": "stdout",
     "output_type": "stream",
     "text": [
      "[1.         0.         0.66666667 1.         1.         0.\n",
      " 0.         1.         0.66666667 0.66666667 0.         0.33333333\n",
      " 0.         0.         1.         0.33333333 0.         0.\n",
      " 0.         1.         0.         0.         0.66666667 0.\n",
      " 0.33333333 0.33333333 1.         1.         0.         1.\n",
      " 0.33333333 0.66666667 0.33333333 0.         0.         0.\n",
      " 0.66666667 0.         0.66666667 0.         0.66666667 0.66666667\n",
      " 0.66666667 0.66666667 1.         0.         0.         0.\n",
      " 1.         0.         0.         0.66666667 0.33333333 0.\n",
      " 0.         0.66666667 0.         0.         0.         0.33333333\n",
      " 0.         0.         0.66666667 0.66666667 0.         0.33333333\n",
      " 0.         0.         1.         0.         0.         0.\n",
      " 0.66666667 0.         0.66666667 0.33333333 1.         0.\n",
      " 0.         1.         0.33333333 0.         0.         0.\n",
      " 0.66666667 0.         0.         0.         0.         1.\n",
      " 0.33333333 0.         0.         1.         0.         0.66666667\n",
      " 0.         0.66666667 0.         0.         1.         0.33333333\n",
      " 0.66666667 0.33333333 1.         0.         0.         0.\n",
      " 0.         0.         0.33333333 0.33333333 0.         0.\n",
      " 0.         0.         0.33333333 0.33333333 1.         0.33333333\n",
      " 1.         0.33333333 0.         0.         1.         1.\n",
      " 0.66666667 0.33333333 0.         0.         0.         0.\n",
      " 1.         1.         0.         1.         0.66666667 0.\n",
      " 0.         0.66666667 1.         0.         1.         0.66666667\n",
      " 0.         0.33333333 0.         0.         0.33333333 0.\n",
      " 1.         0.         0.         0.33333333 0.33333333 0.\n",
      " 0.         0.         0.66666667 0.         0.         0.\n",
      " 0.33333333 0.66666667 0.         0.33333333 1.         0.33333333\n",
      " 0.33333333 0.33333333 1.         0.         1.         0.33333333\n",
      " 0.66666667 0.         0.         0.         1.        ]\n"
     ]
    }
   ],
   "source": [
    "model1 = DecisionTreeClassifier()\n",
    "model2 = KNeighborsClassifier()\n",
    "model3= LogisticRegression()\n",
    "\n",
    "model1.fit(X_train,y_train)\n",
    "model2.fit(X_train,y_train)\n",
    "model3.fit(X_train,y_train)\n",
    "\n",
    "pred1=model1.predict(X_test)\n",
    "pred2=model2.predict(X_test)\n",
    "pred3=model3.predict(X_test)\n",
    "\n",
    "finalpred=(pred1+pred2+pred3)/3\n",
    "print(finalpred)"
   ]
  },
  {
   "cell_type": "markdown",
   "metadata": {},
   "source": [
    "## Weighted Average\n",
    "\n",
    "Bu, ortalama alma yönteminin bir uzantısıdır. Tüm modellere, tahmin için her modelin önemini tanımlayan farklı ağırlıklar atanmıştır. Örneğin, meslektaşlarınızdan ikisi eleştirmen ise, diğerlerinin bu alanda daha önceden deneyimi yoksa, bu iki arkadaşın cevaplarına diğer insanlara göre daha fazla önem verilir.\n",
    "\n",
    "Sonuç [(5 * 0.23) + (4 * 0.23) + (5 * 0.18) + (4 * 0.18) + (4 * 0.18)] = 4.41 olarak hesaplanır"
   ]
  },
  {
   "cell_type": "markdown",
   "metadata": {},
   "source": [
    "![title](weighted.png)"
   ]
  },
  {
   "cell_type": "markdown",
   "metadata": {},
   "source": [
    "##### Örnek Kod:"
   ]
  },
  {
   "cell_type": "code",
   "execution_count": 40,
   "metadata": {},
   "outputs": [
    {
     "data": {
      "text/plain": [
       "array([1. , 0. , 0.7, 1. , 1. , 0. , 0. , 1. , 0.6, 0.7, 0. , 0.4, 0. ,\n",
       "       0. , 1. , 0.3, 0. , 0. , 0. , 1. , 0. , 0. , 0.7, 0. , 0.4, 0.3,\n",
       "       1. , 1. , 0. , 1. , 0.4, 0.6, 0.3, 0. , 0. , 0. , 0.6, 0. , 0.6,\n",
       "       0. , 0.7, 0.7, 0.7, 0.6, 1. , 0. , 0. , 0. , 1. , 0.3, 0. , 0.7,\n",
       "       0.3, 0. , 0. , 0.7, 0. , 0. , 0. , 0.4, 0. , 0. , 0.3, 0.6, 0. ,\n",
       "       0.4, 0. , 0. , 1. , 0. , 0. , 0. , 0.6, 0. , 0.7, 0.3, 1. , 0. ,\n",
       "       0. , 1. , 0.3, 0. , 0. , 0. , 0.7, 0. , 0. , 0. , 0. , 1. , 0.3,\n",
       "       0. , 0. , 1. , 0. , 0.7, 0. , 0.7, 0. , 0. , 1. , 0.4, 0.7, 0.4,\n",
       "       1. , 0. , 0. , 0. , 0. , 0. , 0.3, 0.3, 0. , 0. , 0. , 0. , 0.3,\n",
       "       0.3, 1. , 0.4, 1. , 0.3, 0. , 0. , 1. , 1. , 0.7, 0.4, 0. , 0. ,\n",
       "       0. , 0. , 1. , 1. , 0. , 1. , 0.7, 0.3, 0. , 0.7, 1. , 0. , 1. ,\n",
       "       0.7, 0. , 0.4, 0. , 0. , 0.3, 0. , 1. , 0. , 0. , 0.4, 0.3, 0. ,\n",
       "       0. , 0. , 0.7, 0. , 0. , 0. , 0.4, 0.6, 0. , 0.4, 1. , 0.3, 0.3,\n",
       "       0.3, 1. , 0.3, 1. , 0.3, 0.7, 0. , 0. , 0. , 1. ])"
      ]
     },
     "execution_count": 40,
     "metadata": {},
     "output_type": "execute_result"
    }
   ],
   "source": [
    "model1 = DecisionTreeClassifier()\n",
    "model2 = KNeighborsClassifier()\n",
    "model3= LogisticRegression()\n",
    "\n",
    "model1.fit(X_train,y_train)\n",
    "model2.fit(X_train,y_train)\n",
    "model3.fit(X_train,y_train)\n",
    "\n",
    "pred1=model1.predict(X_test)\n",
    "pred2=model2.predict(X_test)\n",
    "pred3=model3.predict(X_test)\n",
    "\n",
    "finalpred=(pred1*0.3+pred2*0.3+pred3*0.4)\n",
    "finalpred"
   ]
  },
  {
   "cell_type": "markdown",
   "metadata": {},
   "source": [
    "# Gelişmiş Topluluk Teknikleri\n",
    "\n",
    "Artık temel topluluk tekniklerini ele aldığımıza göre, gelişmiş teknikleri anlamaya geçelim."
   ]
  },
  {
   "cell_type": "markdown",
   "metadata": {},
   "source": [
    "## Stacking\n",
    "\n",
    "Yığınlama, yeni bir model oluşturmak için birden çok modelden (örneğin karar ağacı, knn veya svm) gelen tahminleri kullanan bir toplu öğrenme tekniğidir. Bu model, test seti üzerinde tahmin yapmak için kullanılır. Aşağıda basit bir yığılmış topluluk için adım adım bir açıklama bulunmaktadır:\n",
    "\n",
    "1. Eğitim verisi 10 parçaya bölünmüştür\n",
    "\n"
   ]
  },
  {
   "cell_type": "markdown",
   "metadata": {},
   "source": [
    "![title](stacking1.png)"
   ]
  },
  {
   "cell_type": "markdown",
   "metadata": {},
   "source": [
    "2. Bir temel model (örneğin karar ağacı) 9 parçaya oturtulur ve 10. parça için tahminler yapılır. Bu, eğitim setinin her bölümü için yapılır."
   ]
  },
  {
   "cell_type": "markdown",
   "metadata": {},
   "source": [
    "![title](stacking2.png)"
   ]
  },
  {
   "cell_type": "markdown",
   "metadata": {},
   "source": [
    "3. Temel model (bu durumda karar ağacı) daha sonra tüm eğitim veri setine yerleştirilir.\n",
    "\n",
    "4. Bu model kullanılarak test seti üzerinde tahminler yapılır."
   ]
  },
  {
   "cell_type": "markdown",
   "metadata": {},
   "source": [
    "![title](stacking3.png)"
   ]
  },
  {
   "cell_type": "markdown",
   "metadata": {},
   "source": [
    "5. 2'den 4'e kadar olan adımlar başka bir temel model (knn gibi) için tekrar edilir ve bu da eğitim seti ve test seti için başka bir tahmin seti ile sonuçlanır."
   ]
  },
  {
   "cell_type": "markdown",
   "metadata": {},
   "source": [
    "![title](stacking4.png)"
   ]
  },
  {
   "cell_type": "markdown",
   "metadata": {},
   "source": [
    "6. Eğitim setindeki tahminler, oluşacak yeni bir modeli etkiler."
   ]
  },
  {
   "cell_type": "markdown",
   "metadata": {},
   "source": [
    "![title](stacking5.png)"
   ]
  },
  {
   "cell_type": "markdown",
   "metadata": {},
   "source": [
    "7. Bu model, test tahmin seti üzerinde son tahminlerde bulunmak için kullanılır."
   ]
  },
  {
   "cell_type": "markdown",
   "metadata": {},
   "source": [
    "### Örnek Kod:"
   ]
  },
  {
   "cell_type": "code",
   "execution_count": 41,
   "metadata": {},
   "outputs": [],
   "source": [
    "def Stacking(model,train,y,test,n_fold):\n",
    "    \n",
    "    folds=StratifiedKFold(n_splits=n_fold,random_state=1)\n",
    "    test_pred=np.empty((test.shape[0],1),float)\n",
    "    train_pred=np.empty((0,1),float)\n",
    "    for train_indices,val_indices in folds.split(train,y.values):\n",
    "        x_train,x_val=train.iloc[train_indices],train.iloc[val_indices]\n",
    "        y_train,y_val=y.iloc[train_indices],y.iloc[val_indices]\n",
    "\n",
    "        model.fit(X=x_train,y=y_train)\n",
    "        train_pred=np.append(train_pred,model.predict(x_val))\n",
    "        test_pred=np.append(test_pred,model.predict(test))\n",
    "    return test_pred.reshape(-1,1),train_pred\n"
   ]
  },
  {
   "cell_type": "code",
   "execution_count": 42,
   "metadata": {},
   "outputs": [],
   "source": [
    "from sklearn.model_selection import StratifiedKFold\n",
    "\n",
    "model1 = DecisionTreeClassifier(random_state=10)\n",
    "\n",
    "test_pred1 ,train_pred1=Stacking(model=model1,n_fold=10, train=X_train,test=X_test,y=y_train)\n",
    "\n",
    "train_pred1=pd.DataFrame(train_pred1)\n",
    "test_pred1=pd.DataFrame(test_pred1)"
   ]
  },
  {
   "cell_type": "code",
   "execution_count": 45,
   "metadata": {},
   "outputs": [
    {
     "data": {
      "text/html": [
       "<div>\n",
       "<style scoped>\n",
       "    .dataframe tbody tr th:only-of-type {\n",
       "        vertical-align: middle;\n",
       "    }\n",
       "\n",
       "    .dataframe tbody tr th {\n",
       "        vertical-align: top;\n",
       "    }\n",
       "\n",
       "    .dataframe thead th {\n",
       "        text-align: right;\n",
       "    }\n",
       "</style>\n",
       "<table border=\"1\" class=\"dataframe\">\n",
       "  <thead>\n",
       "    <tr style=\"text-align: right;\">\n",
       "      <th></th>\n",
       "      <th>0</th>\n",
       "    </tr>\n",
       "  </thead>\n",
       "  <tbody>\n",
       "    <tr>\n",
       "      <th>0</th>\n",
       "      <td>0.0</td>\n",
       "    </tr>\n",
       "    <tr>\n",
       "      <th>1</th>\n",
       "      <td>0.0</td>\n",
       "    </tr>\n",
       "    <tr>\n",
       "      <th>2</th>\n",
       "      <td>0.0</td>\n",
       "    </tr>\n",
       "    <tr>\n",
       "      <th>3</th>\n",
       "      <td>0.0</td>\n",
       "    </tr>\n",
       "    <tr>\n",
       "      <th>4</th>\n",
       "      <td>0.0</td>\n",
       "    </tr>\n",
       "    <tr>\n",
       "      <th>...</th>\n",
       "      <td>...</td>\n",
       "    </tr>\n",
       "    <tr>\n",
       "      <th>529</th>\n",
       "      <td>1.0</td>\n",
       "    </tr>\n",
       "    <tr>\n",
       "      <th>530</th>\n",
       "      <td>0.0</td>\n",
       "    </tr>\n",
       "    <tr>\n",
       "      <th>531</th>\n",
       "      <td>1.0</td>\n",
       "    </tr>\n",
       "    <tr>\n",
       "      <th>532</th>\n",
       "      <td>0.0</td>\n",
       "    </tr>\n",
       "    <tr>\n",
       "      <th>533</th>\n",
       "      <td>1.0</td>\n",
       "    </tr>\n",
       "  </tbody>\n",
       "</table>\n",
       "<p>534 rows × 1 columns</p>\n",
       "</div>"
      ],
      "text/plain": [
       "       0\n",
       "0    0.0\n",
       "1    0.0\n",
       "2    0.0\n",
       "3    0.0\n",
       "4    0.0\n",
       "..   ...\n",
       "529  1.0\n",
       "530  0.0\n",
       "531  1.0\n",
       "532  0.0\n",
       "533  1.0\n",
       "\n",
       "[534 rows x 1 columns]"
      ]
     },
     "execution_count": 45,
     "metadata": {},
     "output_type": "execute_result"
    }
   ],
   "source": [
    "train_pred1"
   ]
  },
  {
   "cell_type": "markdown",
   "metadata": {},
   "source": [
    "## Blending\n",
    "\n",
    "Blending, stacking ile aynı yaklaşımı izler, ancak tahmin yapmak için eğitim setinden yalnızca bir doğrulama (validation) seti kullanır. Diğer bir deyişle, stackingden farklı olarak, tahminler yalnızca validation setinde yapılır. Validation seti ve tahminler, test setinde çalıştırılan bir model oluşturmak için kullanılır. İşte blending işleminin ayrıntılı bir açıklaması:"
   ]
  },
  {
   "cell_type": "markdown",
   "metadata": {},
   "source": [
    "1. Eğitim veri seti, tekrardan eğitim ve doğrulama (validation) setlerine ayrılmıştır."
   ]
  },
  {
   "cell_type": "markdown",
   "metadata": {},
   "source": [
    "![title](blending1.png)"
   ]
  },
  {
   "cell_type": "markdown",
   "metadata": {},
   "source": [
    "2. Modeller eğitim setine uygulanır.\n",
    "3. Tahminler, doğrulama seti ve test seti üzerinde yapılır."
   ]
  },
  {
   "cell_type": "markdown",
   "metadata": {},
   "source": [
    "![title](blending2.png)"
   ]
  },
  {
   "cell_type": "markdown",
   "metadata": {},
   "source": [
    "4. Doğrulama setindeki tahminler, oluşacak yeni bir modeli etkiler.\n",
    "5. Bu model, test ve meta özellikler hakkında son tahminlerde bulunmak için kullanılır."
   ]
  },
  {
   "cell_type": "markdown",
   "metadata": {},
   "source": [
    "### Örnek Kod:"
   ]
  },
  {
   "cell_type": "code",
   "execution_count": 46,
   "metadata": {},
   "outputs": [],
   "source": [
    "model1 = DecisionTreeClassifier()\n",
    "model1.fit(X_train, y_train)\n",
    "val_pred1=model1.predict(X_val)\n",
    "test_pred1=model1.predict(X_test)\n",
    "val_pred1=pd.DataFrame(val_pred1)\n",
    "test_pred1=pd.DataFrame(test_pred1)\n",
    "\n",
    "model2 = KNeighborsClassifier()\n",
    "model2.fit(X_train,y_train)\n",
    "val_pred2=model2.predict(X_val)\n",
    "test_pred2=model2.predict(X_test)\n",
    "val_pred2=pd.DataFrame(val_pred2)\n",
    "test_pred2=pd.DataFrame(test_pred2)"
   ]
  },
  {
   "cell_type": "code",
   "execution_count": 47,
   "metadata": {},
   "outputs": [],
   "source": [
    "X_val.reset_index(inplace=True)"
   ]
  },
  {
   "cell_type": "code",
   "execution_count": 48,
   "metadata": {},
   "outputs": [],
   "source": [
    "df_val=pd.concat([X_val, val_pred1,val_pred2],axis=1)"
   ]
  },
  {
   "cell_type": "code",
   "execution_count": 49,
   "metadata": {},
   "outputs": [
    {
     "data": {
      "text/html": [
       "<div>\n",
       "<style scoped>\n",
       "    .dataframe tbody tr th:only-of-type {\n",
       "        vertical-align: middle;\n",
       "    }\n",
       "\n",
       "    .dataframe tbody tr th {\n",
       "        vertical-align: top;\n",
       "    }\n",
       "\n",
       "    .dataframe thead th {\n",
       "        text-align: right;\n",
       "    }\n",
       "</style>\n",
       "<table border=\"1\" class=\"dataframe\">\n",
       "  <thead>\n",
       "    <tr style=\"text-align: right;\">\n",
       "      <th></th>\n",
       "      <th>index</th>\n",
       "      <th>Pclass</th>\n",
       "      <th>Sex</th>\n",
       "      <th>Age</th>\n",
       "      <th>SibSp</th>\n",
       "      <th>Parch</th>\n",
       "      <th>Fare</th>\n",
       "      <th>Embarked_0</th>\n",
       "      <th>Embarked_1</th>\n",
       "      <th>Embarked_2</th>\n",
       "      <th>Title_0</th>\n",
       "      <th>Title_1</th>\n",
       "      <th>Title_2</th>\n",
       "      <th>Title_3</th>\n",
       "      <th>Title_4</th>\n",
       "      <th>0</th>\n",
       "      <th>0</th>\n",
       "    </tr>\n",
       "  </thead>\n",
       "  <tbody>\n",
       "    <tr>\n",
       "      <th>0</th>\n",
       "      <td>0</td>\n",
       "      <td>2</td>\n",
       "      <td>1</td>\n",
       "      <td>24.0</td>\n",
       "      <td>0</td>\n",
       "      <td>0</td>\n",
       "      <td>13.0000</td>\n",
       "      <td>0.0</td>\n",
       "      <td>0.0</td>\n",
       "      <td>1.0</td>\n",
       "      <td>0.0</td>\n",
       "      <td>1.0</td>\n",
       "      <td>0.0</td>\n",
       "      <td>0.0</td>\n",
       "      <td>0.0</td>\n",
       "      <td>1</td>\n",
       "      <td>0</td>\n",
       "    </tr>\n",
       "    <tr>\n",
       "      <th>1</th>\n",
       "      <td>1</td>\n",
       "      <td>2</td>\n",
       "      <td>1</td>\n",
       "      <td>34.0</td>\n",
       "      <td>0</td>\n",
       "      <td>0</td>\n",
       "      <td>13.0000</td>\n",
       "      <td>0.0</td>\n",
       "      <td>0.0</td>\n",
       "      <td>1.0</td>\n",
       "      <td>0.0</td>\n",
       "      <td>1.0</td>\n",
       "      <td>0.0</td>\n",
       "      <td>0.0</td>\n",
       "      <td>0.0</td>\n",
       "      <td>1</td>\n",
       "      <td>1</td>\n",
       "    </tr>\n",
       "    <tr>\n",
       "      <th>2</th>\n",
       "      <td>2</td>\n",
       "      <td>1</td>\n",
       "      <td>1</td>\n",
       "      <td>19.0</td>\n",
       "      <td>1</td>\n",
       "      <td>0</td>\n",
       "      <td>91.0792</td>\n",
       "      <td>1.0</td>\n",
       "      <td>0.0</td>\n",
       "      <td>0.0</td>\n",
       "      <td>0.0</td>\n",
       "      <td>0.0</td>\n",
       "      <td>0.0</td>\n",
       "      <td>1.0</td>\n",
       "      <td>0.0</td>\n",
       "      <td>1</td>\n",
       "      <td>1</td>\n",
       "    </tr>\n",
       "    <tr>\n",
       "      <th>3</th>\n",
       "      <td>3</td>\n",
       "      <td>3</td>\n",
       "      <td>1</td>\n",
       "      <td>29.7</td>\n",
       "      <td>0</td>\n",
       "      <td>0</td>\n",
       "      <td>7.7375</td>\n",
       "      <td>0.0</td>\n",
       "      <td>1.0</td>\n",
       "      <td>0.0</td>\n",
       "      <td>0.0</td>\n",
       "      <td>1.0</td>\n",
       "      <td>0.0</td>\n",
       "      <td>0.0</td>\n",
       "      <td>0.0</td>\n",
       "      <td>1</td>\n",
       "      <td>1</td>\n",
       "    </tr>\n",
       "    <tr>\n",
       "      <th>4</th>\n",
       "      <td>4</td>\n",
       "      <td>1</td>\n",
       "      <td>1</td>\n",
       "      <td>52.0</td>\n",
       "      <td>1</td>\n",
       "      <td>1</td>\n",
       "      <td>93.5000</td>\n",
       "      <td>0.0</td>\n",
       "      <td>0.0</td>\n",
       "      <td>1.0</td>\n",
       "      <td>0.0</td>\n",
       "      <td>0.0</td>\n",
       "      <td>0.0</td>\n",
       "      <td>1.0</td>\n",
       "      <td>0.0</td>\n",
       "      <td>1</td>\n",
       "      <td>0</td>\n",
       "    </tr>\n",
       "    <tr>\n",
       "      <th>...</th>\n",
       "      <td>...</td>\n",
       "      <td>...</td>\n",
       "      <td>...</td>\n",
       "      <td>...</td>\n",
       "      <td>...</td>\n",
       "      <td>...</td>\n",
       "      <td>...</td>\n",
       "      <td>...</td>\n",
       "      <td>...</td>\n",
       "      <td>...</td>\n",
       "      <td>...</td>\n",
       "      <td>...</td>\n",
       "      <td>...</td>\n",
       "      <td>...</td>\n",
       "      <td>...</td>\n",
       "      <td>...</td>\n",
       "      <td>...</td>\n",
       "    </tr>\n",
       "    <tr>\n",
       "      <th>173</th>\n",
       "      <td>173</td>\n",
       "      <td>2</td>\n",
       "      <td>0</td>\n",
       "      <td>34.0</td>\n",
       "      <td>0</td>\n",
       "      <td>0</td>\n",
       "      <td>13.0000</td>\n",
       "      <td>0.0</td>\n",
       "      <td>0.0</td>\n",
       "      <td>1.0</td>\n",
       "      <td>0.0</td>\n",
       "      <td>0.0</td>\n",
       "      <td>1.0</td>\n",
       "      <td>0.0</td>\n",
       "      <td>0.0</td>\n",
       "      <td>0</td>\n",
       "      <td>0</td>\n",
       "    </tr>\n",
       "    <tr>\n",
       "      <th>174</th>\n",
       "      <td>174</td>\n",
       "      <td>1</td>\n",
       "      <td>0</td>\n",
       "      <td>29.7</td>\n",
       "      <td>0</td>\n",
       "      <td>0</td>\n",
       "      <td>27.7208</td>\n",
       "      <td>1.0</td>\n",
       "      <td>0.0</td>\n",
       "      <td>0.0</td>\n",
       "      <td>0.0</td>\n",
       "      <td>0.0</td>\n",
       "      <td>1.0</td>\n",
       "      <td>0.0</td>\n",
       "      <td>0.0</td>\n",
       "      <td>1</td>\n",
       "      <td>0</td>\n",
       "    </tr>\n",
       "    <tr>\n",
       "      <th>175</th>\n",
       "      <td>175</td>\n",
       "      <td>3</td>\n",
       "      <td>0</td>\n",
       "      <td>29.7</td>\n",
       "      <td>1</td>\n",
       "      <td>0</td>\n",
       "      <td>7.7500</td>\n",
       "      <td>0.0</td>\n",
       "      <td>1.0</td>\n",
       "      <td>0.0</td>\n",
       "      <td>0.0</td>\n",
       "      <td>0.0</td>\n",
       "      <td>1.0</td>\n",
       "      <td>0.0</td>\n",
       "      <td>0.0</td>\n",
       "      <td>0</td>\n",
       "      <td>0</td>\n",
       "    </tr>\n",
       "    <tr>\n",
       "      <th>176</th>\n",
       "      <td>176</td>\n",
       "      <td>3</td>\n",
       "      <td>0</td>\n",
       "      <td>39.0</td>\n",
       "      <td>0</td>\n",
       "      <td>0</td>\n",
       "      <td>7.9250</td>\n",
       "      <td>0.0</td>\n",
       "      <td>0.0</td>\n",
       "      <td>1.0</td>\n",
       "      <td>0.0</td>\n",
       "      <td>0.0</td>\n",
       "      <td>1.0</td>\n",
       "      <td>0.0</td>\n",
       "      <td>0.0</td>\n",
       "      <td>0</td>\n",
       "      <td>0</td>\n",
       "    </tr>\n",
       "    <tr>\n",
       "      <th>177</th>\n",
       "      <td>177</td>\n",
       "      <td>3</td>\n",
       "      <td>0</td>\n",
       "      <td>24.0</td>\n",
       "      <td>0</td>\n",
       "      <td>0</td>\n",
       "      <td>7.7958</td>\n",
       "      <td>0.0</td>\n",
       "      <td>0.0</td>\n",
       "      <td>1.0</td>\n",
       "      <td>0.0</td>\n",
       "      <td>0.0</td>\n",
       "      <td>1.0</td>\n",
       "      <td>0.0</td>\n",
       "      <td>0.0</td>\n",
       "      <td>0</td>\n",
       "      <td>0</td>\n",
       "    </tr>\n",
       "  </tbody>\n",
       "</table>\n",
       "<p>178 rows × 17 columns</p>\n",
       "</div>"
      ],
      "text/plain": [
       "     index  Pclass  Sex   Age  SibSp  Parch     Fare  Embarked_0  Embarked_1  \\\n",
       "0        0       2    1  24.0      0      0  13.0000         0.0         0.0   \n",
       "1        1       2    1  34.0      0      0  13.0000         0.0         0.0   \n",
       "2        2       1    1  19.0      1      0  91.0792         1.0         0.0   \n",
       "3        3       3    1  29.7      0      0   7.7375         0.0         1.0   \n",
       "4        4       1    1  52.0      1      1  93.5000         0.0         0.0   \n",
       "..     ...     ...  ...   ...    ...    ...      ...         ...         ...   \n",
       "173    173       2    0  34.0      0      0  13.0000         0.0         0.0   \n",
       "174    174       1    0  29.7      0      0  27.7208         1.0         0.0   \n",
       "175    175       3    0  29.7      1      0   7.7500         0.0         1.0   \n",
       "176    176       3    0  39.0      0      0   7.9250         0.0         0.0   \n",
       "177    177       3    0  24.0      0      0   7.7958         0.0         0.0   \n",
       "\n",
       "     Embarked_2  Title_0  Title_1  Title_2  Title_3  Title_4  0  0  \n",
       "0           1.0      0.0      1.0      0.0      0.0      0.0  1  0  \n",
       "1           1.0      0.0      1.0      0.0      0.0      0.0  1  1  \n",
       "2           0.0      0.0      0.0      0.0      1.0      0.0  1  1  \n",
       "3           0.0      0.0      1.0      0.0      0.0      0.0  1  1  \n",
       "4           1.0      0.0      0.0      0.0      1.0      0.0  1  0  \n",
       "..          ...      ...      ...      ...      ...      ... .. ..  \n",
       "173         1.0      0.0      0.0      1.0      0.0      0.0  0  0  \n",
       "174         0.0      0.0      0.0      1.0      0.0      0.0  1  0  \n",
       "175         0.0      0.0      0.0      1.0      0.0      0.0  0  0  \n",
       "176         1.0      0.0      0.0      1.0      0.0      0.0  0  0  \n",
       "177         1.0      0.0      0.0      1.0      0.0      0.0  0  0  \n",
       "\n",
       "[178 rows x 17 columns]"
      ]
     },
     "execution_count": 49,
     "metadata": {},
     "output_type": "execute_result"
    }
   ],
   "source": [
    "df_val"
   ]
  },
  {
   "cell_type": "code",
   "execution_count": 50,
   "metadata": {
    "scrolled": true
   },
   "outputs": [
    {
     "data": {
      "text/plain": [
       "0      0\n",
       "1      1\n",
       "2      1\n",
       "3      1\n",
       "4      0\n",
       "      ..\n",
       "173    0\n",
       "174    0\n",
       "175    0\n",
       "176    0\n",
       "177    0\n",
       "Name: val_pred2, Length: 178, dtype: int64"
      ]
     },
     "execution_count": 50,
     "metadata": {},
     "output_type": "execute_result"
    }
   ],
   "source": [
    "df_val.iloc[:,-1].rename('val_pred2',inplace=True)"
   ]
  },
  {
   "cell_type": "markdown",
   "metadata": {},
   "source": [
    "## Bagging\n",
    "\n",
    "Baggingin arkasındaki fikir, genelleştirilmiş bir sonuç elde etmek için birden fazla modelin (örneğin tüm karar ağaçları) sonuçlarını birleştirmektir. İşte bir soru: Tüm modelleri aynı veri kümesi üzerinde oluşturur ve birleştirirseniz, faydalı olur mu? Aynı girdiyi aldıkları için bu modellerin aynı sonucu verme şansı yüksektir. Peki bu sorunu nasıl çözebiliriz? Bunun için bootstrapping tekniğini ele alalım.\n",
    "\n",
    "Bootstrapping, orijinal veri kümesinden değiştirerek gözlemlerin alt kümelerini oluşturduğumuz bir örnekleme tekniğidir. Alt kümelerin boyutu, orijinal kümenin boyutuyla aynıdır.\n",
    "\n",
    "Bagging (veya Bootstrap Aggregating) tekniği, dağıtım (tam veri seti) hakkında adil bir fikir edinmek için bu alt kümeleri (bags) kullanır. Bagging için oluşturulan alt kümelerin boyutu, orijinal setten daha az olabilir."
   ]
  },
  {
   "cell_type": "markdown",
   "metadata": {},
   "source": [
    "![title](bagging1.png)"
   ]
  },
  {
   "cell_type": "markdown",
   "metadata": {},
   "source": [
    "1. Orijinal veri kümesinden, yerine koyma uygulanması ile gözlemler seçilerek birden çok alt küme oluşturulur.\n",
    "\n",
    "2. Bu alt kümelerin her birinde bir temel model (zayıf model) oluşturulur.\n",
    "\n",
    "3. Modeller paralel çalışır ve birbirinden bağımsızdır.\n",
    "\n",
    "4. Nihai tahminler, tüm modellerden alınan tahminler birleştirilerek belirlenir."
   ]
  },
  {
   "cell_type": "markdown",
   "metadata": {},
   "source": [
    "![title](bagging2.png)"
   ]
  },
  {
   "cell_type": "markdown",
   "metadata": {},
   "source": [
    "## Boosting\n",
    "\n",
    "Daha ileri gitmeden önce, işte size başka bir soru: Bir veri noktası ilk model tarafından yanlış tahmin edilirse, bir sonraki adımda tüm modellerin bir arada çalışması tahminleri birleştirmek daha iyi sonuçlar sağlar mı? Bu tür durumlar için boosting kullanılır.\n",
    "\n",
    "Boosting, sonraki her modelin önceki modelin hatalarını düzeltmeye çalıştığı sıralı bir süreçtir. Sonraki modeller önceki modele bağlıdır. Aşağıdaki adımlarla boostingin nasıl çalıştığını anlayalım.\n",
    "\n",
    "1. Orijinal veri kümesinden bir alt küme oluşturulur.\n",
    "2. Başlangıçta, tüm veri noktalarına eşit ağırlıklar verilir.\n",
    "3. Bu alt kümede bir temel model oluşturulur.\n",
    "4. Bu model, tüm veri seti üzerinde tahminler yapmak için kullanılır."
   ]
  },
  {
   "cell_type": "markdown",
   "metadata": {},
   "source": [
    "![title](boosting1.png)"
   ]
  },
  {
   "cell_type": "markdown",
   "metadata": {},
   "source": [
    "5. Hatalar, gerçek değerler ve tahmin edilen değerler kullanılarak hesaplanır.\n",
    "6. Yanlış tahmin edilen gözlemlere daha yüksek ağırlık verilir. (Burada, yanlış sınıflandırılmış üç mavi artı noktaya daha yüksek ağırlık verilecektir)\n",
    "7. Başka bir model oluşturulur ve veri kümesi üzerinde tahminler yapılır\n",
    "(Bu model, önceki modeldeki hataları düzeltmeye çalışır)"
   ]
  },
  {
   "cell_type": "markdown",
   "metadata": {},
   "source": [
    "![title](boosting2.png)"
   ]
  },
  {
   "cell_type": "markdown",
   "metadata": {},
   "source": [
    "8. Benzer şekilde, her biri önceki modelin hatalarını düzelten birden çok model oluşturulur.\n",
    "9. Nihai model (güçlü öğrenci), tüm modellerin (zayıf öğrenci) ağırlıklı ortalamasıdır."
   ]
  },
  {
   "cell_type": "markdown",
   "metadata": {},
   "source": [
    "![title](boosting3.png)"
   ]
  },
  {
   "cell_type": "markdown",
   "metadata": {},
   "source": [
    "Dolayısıyla, boosting algoritması, güçlü bir öğrenci oluşturmak için bir dizi zayıf öğrenciyi birleştirir. Bireysel modeller, tüm veri kümesinde iyi performans göstermez, ancak veri kümesinin bir kısmı için iyi çalışır. Böylece, her model aslında topluluğun performansını artırıyor."
   ]
  },
  {
   "cell_type": "markdown",
   "metadata": {},
   "source": [
    "# Bagging ve Boosting Kullanan Algoritmalar\n",
    "\n",
    "Bagging ve Boosting, makine öğreniminde en sık kullanılan tekniklerden ikisidir. Bu bölümde onlara detaylı olarak bakacağız. Odaklanacağımız algoritmalar şunlardır:\n",
    "\n",
    "Bagging algoritmaları:\n",
    "- Bagging meta-tahmincisi\n",
    "- Random Forest\n",
    "\n",
    "Boosting algoritmaları:\n",
    "\n",
    "- AdaBoost\n",
    "- GBM\n",
    "- XGBoost\n",
    "- Light GBM\n",
    "- CatBoost"
   ]
  },
  {
   "cell_type": "markdown",
   "metadata": {},
   "source": [
    "## Bagging meta-estimator"
   ]
  },
  {
   "cell_type": "markdown",
   "metadata": {},
   "source": [
    "bagging meta-estimator, hem sınıflandırma hem de regresyon problemleri için kullanılabilen bir bagging algoritmasıdır. Tahminlerde bulunmak için tipik bagging tekniğini izler. bagging meta tahmin algoritması için adımlar şunlardır:\n",
    "\n",
    "1. Orijinal veri kümesinden (Bootstrapping) rastgele alt kümeler oluşturulur.\n",
    "2. Veri kümesinin alt kümesi tüm özellikleri içerir.\n",
    "3. Bu küçük setlerin her birine kullanıcı tarafından belirlenen bir temel tahmin aracı tanımlanmıştır.\n",
    "4. Nihai sonucu elde etmek için her modelden gelen tahminler birleştirilir."
   ]
  },
  {
   "cell_type": "markdown",
   "metadata": {},
   "source": [
    "### Kod:"
   ]
  },
  {
   "cell_type": "code",
   "execution_count": 51,
   "metadata": {},
   "outputs": [],
   "source": [
    "from sklearn.model_selection import cross_val_predict,cross_val_score\n",
    "from sklearn.metrics import confusion_matrix,accuracy_score,classification_report\n",
    "def print_score(clf, X_train, y_train, X_test, y_test):\n",
    "\n",
    "        print(\"Test Sonuçları:\\n\")        \n",
    "        print(\"accuracy score: {0:.4f}\\n\".format(accuracy_score(y_test, clf.predict(X_test))))\n",
    "        print(\"Classification Report: \\n {}\\n\".format(classification_report(y_test, clf.predict(X_test))))\n",
    "        print(\"Confusion Matrix: \\n {}\\n\".format(confusion_matrix(y_test, clf.predict(X_test))))"
   ]
  },
  {
   "cell_type": "code",
   "execution_count": 52,
   "metadata": {},
   "outputs": [
    {
     "name": "stdout",
     "output_type": "stream",
     "text": [
      "Test Sonuçları:\n",
      "\n",
      "accuracy score: 0.7542\n",
      "\n",
      "Classification Report: \n",
      "               precision    recall  f1-score   support\n",
      "\n",
      "           0       0.76      0.86      0.81       106\n",
      "           1       0.75      0.60      0.67        73\n",
      "\n",
      "    accuracy                           0.75       179\n",
      "   macro avg       0.75      0.73      0.74       179\n",
      "weighted avg       0.75      0.75      0.75       179\n",
      "\n",
      "\n",
      "Confusion Matrix: \n",
      " [[91 15]\n",
      " [29 44]]\n",
      "\n"
     ]
    }
   ],
   "source": [
    "from sklearn.ensemble import BaggingClassifier\n",
    "from sklearn import tree\n",
    "model = BaggingClassifier(tree.DecisionTreeClassifier(random_state=1))\n",
    "model.fit(X_train, y_train)\n",
    "acc_bag = model.score(X_test,y_test)\n",
    "print_score(model,X_train, y_train, X_test, y_test)"
   ]
  },
  {
   "cell_type": "markdown",
   "metadata": {},
   "source": [
    "## Random Forest"
   ]
  },
  {
   "cell_type": "markdown",
   "metadata": {},
   "source": [
    "Random Forest, bagging tekniğini izleyen başka bir toplu makine öğrenme algoritmasıdır. bagging tahmin algoritmasının bir uzantısıdır. Rastgele ormandaki temel tahmin ediciler karar ağaçlarıdır. Torbalama meta tahmin edicisinin aksine, rastgele orman, karar ağacının her bir düğümünde en iyi bölünmeye karar vermek için kullanılan bir dizi özelliği rastgele seçer.\n",
    "\n",
    "Adım adım bakıldığında, rastgele bir orman modelinin yaptığı şey şunlardır:\n",
    "\n",
    "1. Orijinal veri kümesinden rastgele alt kümeler oluşturulur (önyükleme).\n",
    "2. Karar ağacındaki her düğümde, en iyi bölünmeye karar vermek için yalnızca rastgele bir özellik kümesi dikkate alınır.\n",
    "3. Her alt kümeye bir karar ağacı modeli uygulanır.\n",
    "4. Nihai tahmin, tüm karar ağaçlarından tahminlerin ortalaması alınarak hesaplanır.\n",
    "\n",
    "Özetlemek gerekirse, Rastgele Orman, veri noktalarını ve özelliklerini rastgele seçer ve birden çok ağaç oluşturur."
   ]
  },
  {
   "cell_type": "markdown",
   "metadata": {},
   "source": [
    "### Kod:"
   ]
  },
  {
   "cell_type": "code",
   "execution_count": 53,
   "metadata": {},
   "outputs": [
    {
     "name": "stdout",
     "output_type": "stream",
     "text": [
      "Test Sonuçları:\n",
      "\n",
      "accuracy score: 0.7933\n",
      "\n",
      "Classification Report: \n",
      "               precision    recall  f1-score   support\n",
      "\n",
      "           0       0.79      0.88      0.83       106\n",
      "           1       0.79      0.67      0.73        73\n",
      "\n",
      "    accuracy                           0.79       179\n",
      "   macro avg       0.79      0.77      0.78       179\n",
      "weighted avg       0.79      0.79      0.79       179\n",
      "\n",
      "\n",
      "Confusion Matrix: \n",
      " [[93 13]\n",
      " [24 49]]\n",
      "\n"
     ]
    }
   ],
   "source": [
    "import pandas as pd\n",
    "from sklearn.ensemble import RandomForestClassifier\n",
    "from sklearn.metrics import accuracy_score\n",
    "model = RandomForestClassifier()\n",
    "model.fit(X_train,y_train)\n",
    "acc_rf = model.score(X_test,y_test)\n",
    "print_score(model,X_train, y_train, X_test, y_test)"
   ]
  },
  {
   "cell_type": "code",
   "execution_count": 54,
   "metadata": {},
   "outputs": [
    {
     "data": {
      "image/png": "[encoded data removed]",
      "text/plain": [
       "<Figure size 432x288 with 1 Axes>"
      ]
     },
     "metadata": {
      "needs_background": "light"
     },
     "output_type": "display_data"
    }
   ],
   "source": [
    "importances = pd.DataFrame({'feature':X_train.columns,'importance':np.round(model.feature_importances_,3)})\n",
    "importances = importances.sort_values('importance',ascending=False).set_index('feature')\n",
    "importances.plot.bar()\n",
    "plt.show()"
   ]
  },
  {
   "cell_type": "markdown",
   "metadata": {},
   "source": [
    "## Gradient Boosting\n",
    "\n",
    "Gradient Boosting veya GBM, hem regresyon hem de sınıflandırma problemleri için çalışan başka bir toplu makine öğrenme algoritmasıdır. GBM, güçlü bir öğrenci oluşturmak için bir dizi zayıf öğrenciyi birleştiren boosting tekniğini kullanır. Temel öğrenci olarak kullanılan regresyon ağaçları, ardışık her ağaç, bir önceki ağaç tarafından hesaplanan hatalar üzerine inşa edilir.\n",
    "\n",
    "\n",
    "GBM algoritmasını anlamak için basit bir örnek kullanacağız. Aşağıdaki verileri kullanarak bir grup insanın yaşını tahmin edelim:"
   ]
  },
  {
   "cell_type": "markdown",
   "metadata": {},
   "source": [
    "![title](gbm1.png)"
   ]
  },
  {
   "cell_type": "markdown",
   "metadata": {},
   "source": [
    "1. Ortalama yaş , veri kümesindeki tüm gözlemler için tahmin edilen değer olduğu varsayılır.\n",
    "2. Hatalar, bu ortalama yaş ve gerçek yaş değerleri kullanılarak hesaplanır."
   ]
  },
  {
   "cell_type": "markdown",
   "metadata": {},
   "source": [
    "![title](gbm2.png)"
   ]
  },
  {
   "cell_type": "markdown",
   "metadata": {},
   "source": [
    "3. Hedef değişken olarak yukarıda hesaplanan hatalar kullanılarak bir ağaç modeli oluşturulur. Amacımız, hatayı en aza indirmek için en iyi ayrımı bulmaktır.\n",
    "\n",
    "4. Bu modelin tahminleri prediction 1 sütununda toplanmıştır."
   ]
  },
  {
   "cell_type": "markdown",
   "metadata": {},
   "source": [
    "![title](gbm3.png)"
   ]
  },
  {
   "cell_type": "markdown",
   "metadata": {},
   "source": [
    "5. Yukarıda hesaplanan bu değer yeni tahmindir.\n",
    "6. Bu tahmin edilen değer ve gerçek değer kullanılarak yeni hatalar hesaplanır."
   ]
  },
  {
   "cell_type": "markdown",
   "metadata": {},
   "source": [
    "![title](gbm4.png)"
   ]
  },
  {
   "cell_type": "markdown",
   "metadata": {},
   "source": [
    "7. Maksimum yineleme sayısına ulaşılıncaya kadar (veya hata işlevi değişmeyene) kadar 2'den 6'ya kadar olan adımlar tekrarlanır."
   ]
  },
  {
   "cell_type": "markdown",
   "metadata": {},
   "source": [
    "### Kod:"
   ]
  },
  {
   "cell_type": "code",
   "execution_count": 55,
   "metadata": {},
   "outputs": [
    {
     "name": "stdout",
     "output_type": "stream",
     "text": [
      "Test Sonuçları:\n",
      "\n",
      "accuracy score: 0.8324\n",
      "\n",
      "Classification Report: \n",
      "               precision    recall  f1-score   support\n",
      "\n",
      "           0       0.82      0.92      0.87       106\n",
      "           1       0.85      0.71      0.78        73\n",
      "\n",
      "    accuracy                           0.83       179\n",
      "   macro avg       0.84      0.81      0.82       179\n",
      "weighted avg       0.83      0.83      0.83       179\n",
      "\n",
      "\n",
      "Confusion Matrix: \n",
      " [[97  9]\n",
      " [21 52]]\n",
      "\n"
     ]
    }
   ],
   "source": [
    "from sklearn.ensemble import GradientBoostingClassifier\n",
    "model= GradientBoostingClassifier()\n",
    "model.fit(X_train, y_train)\n",
    "acc_gbm = model.score(X_test,y_test)\n",
    "print_score(model,X_train, y_train, X_test, y_test)"
   ]
  },
  {
   "cell_type": "code",
   "execution_count": 56,
   "metadata": {},
   "outputs": [
    {
     "data": {
      "image/png": "[encoded data removed]",
      "text/plain": [
       "<Figure size 432x288 with 1 Axes>"
      ]
     },
     "metadata": {
      "needs_background": "light"
     },
     "output_type": "display_data"
    }
   ],
   "source": [
    "importances = pd.DataFrame({'feature':X_train.columns,'importance':np.round(model.feature_importances_,3)})\n",
    "importances = importances.sort_values('importance',ascending=False).set_index('feature')\n",
    "importances.plot.bar()\n",
    "plt.show()"
   ]
  },
  {
   "cell_type": "markdown",
   "metadata": {},
   "source": [
    "## XGBoost"
   ]
  },
  {
   "cell_type": "markdown",
   "metadata": {},
   "source": [
    "XGBoost (Extreme Gradient Boosting), gradient boosting algoritmasının gelişmiş bir uygulamasıdır. XGBoost, makine öğrenimi yarışmalarında ve hackathonlarda yaygın olarak kullanılan oldukça etkili bir makine öğrenimi algoritmasıdır. XGBoost, yüksek tahmin gücüne sahiptir ve diğer gradient boosting tekniklerinden neredeyse 10 kat daha hızlıdır. Ayrıca, yüksek varyansı azaltan ve genel performansı artıran çeşitli düzenlemeler içerir. Bu nedenle, \"regularized boosting\" tekniği olarak da bilinir.\n",
    "\n",
    "XGBoost'un diğer tekniklerden neden nispeten daha iyi olduğuna bakalım:\n"
   ]
  },
  {
   "cell_type": "markdown",
   "metadata": {},
   "source": [
    "##### 1. Düzenlilik\n",
    "\n",
    "- Standart GBM uygulamasının XGBoost gibi bir düzenlenmesi yoktur.\n",
    "- Böylelikle XGBoost, aşırı öğrenmeyi azaltmaya da yardımcı olur.\n",
    "\n",
    "##### 2. Paralel İşleme\n",
    "\n",
    "- XGBoost paralel işlemeyi uygular ve GBM'den daha hızlıdır.\n",
    "- XGBoost ayrıca Hadoop'ta uygulamayı destekler.\n",
    "\n",
    "##### 3. Yüksek Eskenlik\n",
    "\n",
    "- XGBoost, kullanıcıların modele yepyeni bir boyut ekleyerek özel optimizasyon hedeflerini ve değerlendirme kriterlerini tanımlamalarına olanak tanır.\n",
    "\n",
    "##### 4. Eksik Değerleri Ele Alma\n",
    "\n",
    "- XGBoost, eksik değerlerin üstesinden gelmek için yerleşik özelliğe sahiptir.\n",
    "\n",
    "##### 5. Ağaç Budama\n",
    "\n",
    "- XGBoost, belirtilen maksimum derinliğe kadar bölmeler yapar ve ardından ağacı geriye doğru budamaya başlar ve ötesinde pozitif kazanım olmayan bölmeleri kaldırır.\n",
    "\n",
    "##### 6. Yerleşik Çapraz Doğrulama (Cross-Validation)\n",
    "\n",
    "- XGBoost, bir kullanıcının artırma işleminin her yinelemesinde bir çapraz doğrulama çalıştırmasına olanak tanır ve böylece tek bir çalıştırmada tam olarak optimum sayıda yükseltme yinelemesi elde etmek kolaydır.\n",
    "\n",
    "### Kod:"
   ]
  },
  {
   "cell_type": "code",
   "execution_count": 57,
   "metadata": {},
   "outputs": [
    {
     "name": "stdout",
     "output_type": "stream",
     "text": [
      "Test Sonuçları:\n",
      "\n",
      "accuracy score: 0.8101\n",
      "\n",
      "Classification Report: \n",
      "               precision    recall  f1-score   support\n",
      "\n",
      "           0       0.80      0.92      0.85       106\n",
      "           1       0.84      0.66      0.74        73\n",
      "\n",
      "    accuracy                           0.81       179\n",
      "   macro avg       0.82      0.79      0.79       179\n",
      "weighted avg       0.81      0.81      0.81       179\n",
      "\n",
      "\n",
      "Confusion Matrix: \n",
      " [[97  9]\n",
      " [25 48]]\n",
      "\n"
     ]
    }
   ],
   "source": [
    "import xgboost as xgb\n",
    "model=xgb.XGBClassifier(learning_rate=0.1,subsample=0.3,min_child_weight=2,max_depth=4)\n",
    "model.fit(X_train, y_train)\n",
    "acc_xgb = model.score(X_test,y_test)\n",
    "print_score(model,X_train, y_train, X_test, y_test)"
   ]
  },
  {
   "cell_type": "code",
   "execution_count": 58,
   "metadata": {},
   "outputs": [
    {
     "data": {
      "image/png": "[encoded data removed]",
      "text/plain": [
       "<Figure size 432x288 with 1 Axes>"
      ]
     },
     "metadata": {
      "needs_background": "light"
     },
     "output_type": "display_data"
    }
   ],
   "source": [
    "importances = pd.DataFrame({'feature':X_train.columns,'importance':np.round(model.feature_importances_,3)})\n",
    "importances = importances.sort_values('importance',ascending=False).set_index('feature')\n",
    "importances.plot.bar()\n",
    "plt.show()"
   ]
  },
  {
   "cell_type": "markdown",
   "metadata": {},
   "source": [
    "## LightGBM\n",
    "\n",
    "Light GBM'nin nasıl çalıştığını tartışmadan önce, bu kadar çok algoritmaya sahip olduğumuz halde neden bu algoritmaya ihtiyacımız olduğunuz anlayalım. Light GBM, veri kümesi çok büyük olduğunda en çok tercih edilen algoritmadır. Diğer algoritmalarla karşılaştırıldığında, Light GBM'in büyük bir veri kümesinde çalışması daha az zaman alır."
   ]
  },
  {
   "cell_type": "code",
   "execution_count": 59,
   "metadata": {
    "scrolled": true
   },
   "outputs": [
    {
     "name": "stdout",
     "output_type": "stream",
     "text": [
      "Test Sonuçları:\n",
      "\n",
      "accuracy score: 0.7877\n",
      "\n",
      "Classification Report: \n",
      "               precision    recall  f1-score   support\n",
      "\n",
      "           0       0.77      0.91      0.83       106\n",
      "           1       0.82      0.62      0.70        73\n",
      "\n",
      "    accuracy                           0.79       179\n",
      "   macro avg       0.80      0.76      0.77       179\n",
      "weighted avg       0.79      0.79      0.78       179\n",
      "\n",
      "\n",
      "Confusion Matrix: \n",
      " [[96 10]\n",
      " [28 45]]\n",
      "\n"
     ]
    }
   ],
   "source": [
    "from lightgbm import LGBMClassifier\n",
    "model = LGBMClassifier()\n",
    "model.fit(X_train,y_train)\n",
    "acc_lgb = model.score(X_test,y_test)\n",
    "print_score(model,X_train, y_train, X_test, y_test)"
   ]
  },
  {
   "cell_type": "code",
   "execution_count": 60,
   "metadata": {},
   "outputs": [
    {
     "data": {
      "image/png": "[encoded data removed]",
      "text/plain": [
       "<Figure size 432x288 with 1 Axes>"
      ]
     },
     "metadata": {
      "needs_background": "light"
     },
     "output_type": "display_data"
    }
   ],
   "source": [
    "importances = pd.DataFrame({'feature':X_train.columns,'importance':np.round(model.feature_importances_,3)})\n",
    "importances = importances.sort_values('importance',ascending=False).set_index('feature')\n",
    "importances.plot.bar()\n",
    "plt.show()"
   ]
  },
  {
   "cell_type": "markdown",
   "metadata": {},
   "source": [
    "## CatBoost\n",
    "\n",
    "Kategorik değişkenleri ele almak, özellikle çok sayıda bu tür değişkenlere sahip olduğunuzda sıkıcı bir süreçtir. Kategorik değişkenleriniz çok fazla etikete sahip olduğunda (yani bunlar çok önemliyse), üzerlerinde one-hot-encoding yapmak katlanarak boyutluluğu artırır ve veri kümesiyle çalışmak gerçekten zor hale gelir.\n",
    "\n",
    "CatBoost, kategorik değişkenlerle otomatik olarak ilgilenebilir ve diğer makine öğrenimi algoritmaları gibi kapsamlı veri ön işlemesi gerektirmez. "
   ]
  },
  {
   "cell_type": "code",
   "execution_count": 61,
   "metadata": {},
   "outputs": [
    {
     "name": "stdout",
     "output_type": "stream",
     "text": [
      "Learning rate set to 0.007881\n",
      "0:\tlearn: 0.6869339\ttotal: 179ms\tremaining: 2m 58s\n",
      "1:\tlearn: 0.6814352\ttotal: 180ms\tremaining: 1m 30s\n",
      "2:\tlearn: 0.6763111\ttotal: 182ms\tremaining: 1m\n",
      "3:\tlearn: 0.6712485\ttotal: 183ms\tremaining: 45.6s\n",
      "4:\tlearn: 0.6677466\ttotal: 184ms\tremaining: 36.6s\n",
      "5:\tlearn: 0.6649968\ttotal: 185ms\tremaining: 30.6s\n",
      "6:\tlearn: 0.6591619\ttotal: 186ms\tremaining: 26.4s\n",
      "7:\tlearn: 0.6541660\ttotal: 187ms\tremaining: 23.2s\n",
      "8:\tlearn: 0.6501075\ttotal: 188ms\tremaining: 20.7s\n",
      "9:\tlearn: 0.6450524\ttotal: 190ms\tremaining: 18.8s\n",
      "10:\tlearn: 0.6396774\ttotal: 191ms\tremaining: 17.2s\n",
      "11:\tlearn: 0.6343361\ttotal: 192ms\tremaining: 15.8s\n",
      "12:\tlearn: 0.6291343\ttotal: 194ms\tremaining: 14.7s\n",
      "13:\tlearn: 0.6250985\ttotal: 195ms\tremaining: 13.8s\n",
      "14:\tlearn: 0.6212028\ttotal: 197ms\tremaining: 12.9s\n",
      "15:\tlearn: 0.6170359\ttotal: 198ms\tremaining: 12.2s\n",
      "16:\tlearn: 0.6120818\ttotal: 199ms\tremaining: 11.5s\n",
      "17:\tlearn: 0.6074254\ttotal: 201ms\tremaining: 10.9s\n",
      "18:\tlearn: 0.6042157\ttotal: 202ms\tremaining: 10.4s\n",
      "19:\tlearn: 0.6010588\ttotal: 202ms\tremaining: 9.91s\n",
      "20:\tlearn: 0.5965770\ttotal: 204ms\tremaining: 9.49s\n",
      "21:\tlearn: 0.5929426\ttotal: 205ms\tremaining: 9.11s\n",
      "22:\tlearn: 0.5893689\ttotal: 206ms\tremaining: 8.74s\n",
      "23:\tlearn: 0.5871231\ttotal: 206ms\tremaining: 8.39s\n",
      "24:\tlearn: 0.5831945\ttotal: 208ms\tremaining: 8.1s\n",
      "25:\tlearn: 0.5796250\ttotal: 209ms\tremaining: 7.82s\n",
      "26:\tlearn: 0.5757451\ttotal: 210ms\tremaining: 7.56s\n",
      "27:\tlearn: 0.5718254\ttotal: 211ms\tremaining: 7.33s\n",
      "28:\tlearn: 0.5688318\ttotal: 212ms\tremaining: 7.11s\n",
      "29:\tlearn: 0.5646421\ttotal: 213ms\tremaining: 6.9s\n",
      "30:\tlearn: 0.5610623\ttotal: 215ms\tremaining: 6.71s\n",
      "31:\tlearn: 0.5582025\ttotal: 216ms\tremaining: 6.53s\n",
      "32:\tlearn: 0.5550707\ttotal: 218ms\tremaining: 6.38s\n",
      "33:\tlearn: 0.5517542\ttotal: 219ms\tremaining: 6.22s\n",
      "34:\tlearn: 0.5481118\ttotal: 221ms\tremaining: 6.09s\n",
      "35:\tlearn: 0.5448491\ttotal: 222ms\tremaining: 5.96s\n",
      "36:\tlearn: 0.5412271\ttotal: 223ms\tremaining: 5.81s\n",
      "37:\tlearn: 0.5379209\ttotal: 225ms\tremaining: 5.68s\n",
      "38:\tlearn: 0.5346580\ttotal: 226ms\tremaining: 5.56s\n",
      "39:\tlearn: 0.5313487\ttotal: 227ms\tremaining: 5.44s\n",
      "40:\tlearn: 0.5281063\ttotal: 228ms\tremaining: 5.32s\n",
      "41:\tlearn: 0.5256447\ttotal: 229ms\tremaining: 5.22s\n",
      "42:\tlearn: 0.5225151\ttotal: 230ms\tremaining: 5.12s\n",
      "43:\tlearn: 0.5197667\ttotal: 231ms\tremaining: 5.02s\n",
      "44:\tlearn: 0.5178806\ttotal: 232ms\tremaining: 4.93s\n",
      "45:\tlearn: 0.5149179\ttotal: 233ms\tremaining: 4.84s\n",
      "46:\tlearn: 0.5118936\ttotal: 234ms\tremaining: 4.75s\n",
      "47:\tlearn: 0.5095418\ttotal: 235ms\tremaining: 4.67s\n",
      "48:\tlearn: 0.5069018\ttotal: 237ms\tremaining: 4.59s\n",
      "49:\tlearn: 0.5045027\ttotal: 238ms\tremaining: 4.51s\n",
      "50:\tlearn: 0.5022078\ttotal: 239ms\tremaining: 4.44s\n",
      "51:\tlearn: 0.5009028\ttotal: 240ms\tremaining: 4.37s\n",
      "52:\tlearn: 0.4988188\ttotal: 241ms\tremaining: 4.3s\n",
      "53:\tlearn: 0.4967572\ttotal: 242ms\tremaining: 4.24s\n",
      "54:\tlearn: 0.4947700\ttotal: 243ms\tremaining: 4.17s\n",
      "55:\tlearn: 0.4925983\ttotal: 245ms\tremaining: 4.12s\n",
      "56:\tlearn: 0.4904389\ttotal: 246ms\tremaining: 4.07s\n",
      "57:\tlearn: 0.4878437\ttotal: 247ms\tremaining: 4.02s\n",
      "58:\tlearn: 0.4856584\ttotal: 248ms\tremaining: 3.96s\n",
      "59:\tlearn: 0.4840084\ttotal: 249ms\tremaining: 3.91s\n",
      "60:\tlearn: 0.4818933\ttotal: 251ms\tremaining: 3.86s\n",
      "61:\tlearn: 0.4795636\ttotal: 252ms\tremaining: 3.81s\n",
      "62:\tlearn: 0.4777653\ttotal: 253ms\tremaining: 3.76s\n",
      "63:\tlearn: 0.4756889\ttotal: 254ms\tremaining: 3.71s\n",
      "64:\tlearn: 0.4741442\ttotal: 255ms\tremaining: 3.67s\n",
      "65:\tlearn: 0.4724859\ttotal: 256ms\tremaining: 3.63s\n",
      "66:\tlearn: 0.4703561\ttotal: 257ms\tremaining: 3.58s\n",
      "67:\tlearn: 0.4686564\ttotal: 259ms\tremaining: 3.54s\n",
      "68:\tlearn: 0.4668923\ttotal: 260ms\tremaining: 3.5s\n",
      "69:\tlearn: 0.4652055\ttotal: 261ms\tremaining: 3.46s\n",
      "70:\tlearn: 0.4634507\ttotal: 262ms\tremaining: 3.42s\n",
      "71:\tlearn: 0.4616975\ttotal: 263ms\tremaining: 3.38s\n",
      "72:\tlearn: 0.4600555\ttotal: 264ms\tremaining: 3.35s\n",
      "73:\tlearn: 0.4587947\ttotal: 265ms\tremaining: 3.31s\n",
      "74:\tlearn: 0.4569169\ttotal: 266ms\tremaining: 3.28s\n",
      "75:\tlearn: 0.4552132\ttotal: 267ms\tremaining: 3.25s\n",
      "76:\tlearn: 0.4535425\ttotal: 268ms\tremaining: 3.21s\n",
      "77:\tlearn: 0.4518319\ttotal: 269ms\tremaining: 3.18s\n",
      "78:\tlearn: 0.4503408\ttotal: 270ms\tremaining: 3.15s\n",
      "79:\tlearn: 0.4487482\ttotal: 272ms\tremaining: 3.12s\n",
      "80:\tlearn: 0.4471483\ttotal: 273ms\tremaining: 3.09s\n",
      "81:\tlearn: 0.4455122\ttotal: 274ms\tremaining: 3.07s\n",
      "82:\tlearn: 0.4442221\ttotal: 275ms\tremaining: 3.04s\n",
      "83:\tlearn: 0.4426689\ttotal: 276ms\tremaining: 3.01s\n",
      "84:\tlearn: 0.4411585\ttotal: 277ms\tremaining: 2.98s\n",
      "85:\tlearn: 0.4396209\ttotal: 278ms\tremaining: 2.96s\n",
      "86:\tlearn: 0.4385386\ttotal: 279ms\tremaining: 2.93s\n",
      "87:\tlearn: 0.4370425\ttotal: 280ms\tremaining: 2.9s\n",
      "88:\tlearn: 0.4355059\ttotal: 281ms\tremaining: 2.88s\n",
      "89:\tlearn: 0.4339610\ttotal: 282ms\tremaining: 2.85s\n",
      "90:\tlearn: 0.4326355\ttotal: 283ms\tremaining: 2.83s\n",
      "91:\tlearn: 0.4314599\ttotal: 284ms\tremaining: 2.81s\n",
      "92:\tlearn: 0.4305998\ttotal: 285ms\tremaining: 2.78s\n",
      "93:\tlearn: 0.4293935\ttotal: 287ms\tremaining: 2.76s\n",
      "94:\tlearn: 0.4285209\ttotal: 287ms\tremaining: 2.74s\n",
      "95:\tlearn: 0.4275796\ttotal: 288ms\tremaining: 2.71s\n",
      "96:\tlearn: 0.4265343\ttotal: 289ms\tremaining: 2.69s\n",
      "97:\tlearn: 0.4250575\ttotal: 290ms\tremaining: 2.67s\n",
      "98:\tlearn: 0.4236656\ttotal: 292ms\tremaining: 2.65s\n",
      "99:\tlearn: 0.4225113\ttotal: 293ms\tremaining: 2.63s\n",
      "100:\tlearn: 0.4215123\ttotal: 294ms\tremaining: 2.61s\n",
      "101:\tlearn: 0.4203080\ttotal: 295ms\tremaining: 2.6s\n",
      "102:\tlearn: 0.4192462\ttotal: 296ms\tremaining: 2.58s\n",
      "103:\tlearn: 0.4183070\ttotal: 297ms\tremaining: 2.56s\n",
      "104:\tlearn: 0.4171065\ttotal: 298ms\tremaining: 2.54s\n",
      "105:\tlearn: 0.4161865\ttotal: 299ms\tremaining: 2.52s\n",
      "106:\tlearn: 0.4150760\ttotal: 300ms\tremaining: 2.51s\n",
      "107:\tlearn: 0.4143477\ttotal: 301ms\tremaining: 2.49s\n",
      "108:\tlearn: 0.4135538\ttotal: 303ms\tremaining: 2.47s\n",
      "109:\tlearn: 0.4123604\ttotal: 304ms\tremaining: 2.46s\n",
      "110:\tlearn: 0.4113797\ttotal: 305ms\tremaining: 2.44s\n",
      "111:\tlearn: 0.4107620\ttotal: 306ms\tremaining: 2.43s\n",
      "112:\tlearn: 0.4100270\ttotal: 307ms\tremaining: 2.41s\n",
      "113:\tlearn: 0.4092766\ttotal: 308ms\tremaining: 2.4s\n",
      "114:\tlearn: 0.4081929\ttotal: 309ms\tremaining: 2.38s\n",
      "115:\tlearn: 0.4073196\ttotal: 310ms\tremaining: 2.37s\n",
      "116:\tlearn: 0.4066614\ttotal: 312ms\tremaining: 2.35s\n",
      "117:\tlearn: 0.4059519\ttotal: 313ms\tremaining: 2.34s\n",
      "118:\tlearn: 0.4050161\ttotal: 314ms\tremaining: 2.33s\n",
      "119:\tlearn: 0.4041277\ttotal: 316ms\tremaining: 2.32s\n",
      "120:\tlearn: 0.4032449\ttotal: 318ms\tremaining: 2.31s\n",
      "121:\tlearn: 0.4024481\ttotal: 319ms\tremaining: 2.29s\n",
      "122:\tlearn: 0.4018155\ttotal: 320ms\tremaining: 2.28s\n",
      "123:\tlearn: 0.4011716\ttotal: 321ms\tremaining: 2.27s\n",
      "124:\tlearn: 0.4004074\ttotal: 322ms\tremaining: 2.25s\n",
      "125:\tlearn: 0.4001237\ttotal: 322ms\tremaining: 2.24s\n",
      "126:\tlearn: 0.3993852\ttotal: 324ms\tremaining: 2.22s\n",
      "127:\tlearn: 0.3988580\ttotal: 325ms\tremaining: 2.21s\n",
      "128:\tlearn: 0.3982154\ttotal: 326ms\tremaining: 2.2s\n",
      "129:\tlearn: 0.3973786\ttotal: 327ms\tremaining: 2.19s\n",
      "130:\tlearn: 0.3970035\ttotal: 328ms\tremaining: 2.17s\n",
      "131:\tlearn: 0.3962012\ttotal: 329ms\tremaining: 2.16s\n",
      "132:\tlearn: 0.3955072\ttotal: 330ms\tremaining: 2.15s\n",
      "133:\tlearn: 0.3949940\ttotal: 331ms\tremaining: 2.14s\n",
      "134:\tlearn: 0.3941520\ttotal: 332ms\tremaining: 2.13s\n",
      "135:\tlearn: 0.3933775\ttotal: 333ms\tremaining: 2.12s\n",
      "136:\tlearn: 0.3927144\ttotal: 334ms\tremaining: 2.1s\n",
      "137:\tlearn: 0.3918673\ttotal: 335ms\tremaining: 2.09s\n",
      "138:\tlearn: 0.3912247\ttotal: 336ms\tremaining: 2.08s\n",
      "139:\tlearn: 0.3904337\ttotal: 337ms\tremaining: 2.07s\n",
      "140:\tlearn: 0.3898549\ttotal: 339ms\tremaining: 2.06s\n",
      "141:\tlearn: 0.3891117\ttotal: 340ms\tremaining: 2.05s\n",
      "142:\tlearn: 0.3882961\ttotal: 341ms\tremaining: 2.04s\n",
      "143:\tlearn: 0.3878330\ttotal: 342ms\tremaining: 2.03s\n",
      "144:\tlearn: 0.3872950\ttotal: 344ms\tremaining: 2.02s\n",
      "145:\tlearn: 0.3866448\ttotal: 345ms\tremaining: 2.02s\n",
      "146:\tlearn: 0.3861911\ttotal: 346ms\tremaining: 2.01s\n",
      "147:\tlearn: 0.3855133\ttotal: 347ms\tremaining: 2s\n",
      "148:\tlearn: 0.3852571\ttotal: 348ms\tremaining: 1.99s\n",
      "149:\tlearn: 0.3846193\ttotal: 349ms\tremaining: 1.98s\n",
      "150:\tlearn: 0.3838456\ttotal: 350ms\tremaining: 1.97s\n",
      "151:\tlearn: 0.3832336\ttotal: 351ms\tremaining: 1.96s\n",
      "152:\tlearn: 0.3825697\ttotal: 352ms\tremaining: 1.95s\n",
      "153:\tlearn: 0.3818166\ttotal: 353ms\tremaining: 1.94s\n",
      "154:\tlearn: 0.3812147\ttotal: 354ms\tremaining: 1.93s\n",
      "155:\tlearn: 0.3805763\ttotal: 356ms\tremaining: 1.92s\n",
      "156:\tlearn: 0.3800553\ttotal: 357ms\tremaining: 1.92s\n",
      "157:\tlearn: 0.3795512\ttotal: 359ms\tremaining: 1.91s\n",
      "158:\tlearn: 0.3791030\ttotal: 360ms\tremaining: 1.9s\n",
      "159:\tlearn: 0.3785062\ttotal: 361ms\tremaining: 1.9s\n",
      "160:\tlearn: 0.3780343\ttotal: 362ms\tremaining: 1.89s\n",
      "161:\tlearn: 0.3775572\ttotal: 363ms\tremaining: 1.88s\n",
      "162:\tlearn: 0.3768152\ttotal: 365ms\tremaining: 1.87s\n",
      "163:\tlearn: 0.3765495\ttotal: 366ms\tremaining: 1.87s\n",
      "164:\tlearn: 0.3760320\ttotal: 368ms\tremaining: 1.86s\n",
      "165:\tlearn: 0.3754397\ttotal: 369ms\tremaining: 1.85s\n",
      "166:\tlearn: 0.3750876\ttotal: 370ms\tremaining: 1.85s\n",
      "167:\tlearn: 0.3746156\ttotal: 371ms\tremaining: 1.84s\n",
      "168:\tlearn: 0.3742321\ttotal: 372ms\tremaining: 1.83s\n",
      "169:\tlearn: 0.3737489\ttotal: 373ms\tremaining: 1.82s\n",
      "170:\tlearn: 0.3733981\ttotal: 375ms\tremaining: 1.81s\n",
      "171:\tlearn: 0.3729643\ttotal: 376ms\tremaining: 1.81s\n",
      "172:\tlearn: 0.3725815\ttotal: 377ms\tremaining: 1.8s\n",
      "173:\tlearn: 0.3722019\ttotal: 378ms\tremaining: 1.79s\n",
      "174:\tlearn: 0.3717358\ttotal: 379ms\tremaining: 1.79s\n",
      "175:\tlearn: 0.3710891\ttotal: 380ms\tremaining: 1.78s\n",
      "176:\tlearn: 0.3704972\ttotal: 381ms\tremaining: 1.77s\n",
      "177:\tlearn: 0.3699054\ttotal: 382ms\tremaining: 1.76s\n",
      "178:\tlearn: 0.3695202\ttotal: 383ms\tremaining: 1.76s\n",
      "179:\tlearn: 0.3692268\ttotal: 385ms\tremaining: 1.75s\n",
      "180:\tlearn: 0.3687254\ttotal: 386ms\tremaining: 1.75s\n",
      "181:\tlearn: 0.3683551\ttotal: 387ms\tremaining: 1.74s\n",
      "182:\tlearn: 0.3677812\ttotal: 388ms\tremaining: 1.73s\n",
      "183:\tlearn: 0.3673412\ttotal: 389ms\tremaining: 1.72s\n",
      "184:\tlearn: 0.3670165\ttotal: 390ms\tremaining: 1.72s\n",
      "185:\tlearn: 0.3666985\ttotal: 391ms\tremaining: 1.71s\n",
      "186:\tlearn: 0.3662679\ttotal: 392ms\tremaining: 1.71s\n",
      "187:\tlearn: 0.3658816\ttotal: 393ms\tremaining: 1.7s\n",
      "188:\tlearn: 0.3656895\ttotal: 394ms\tremaining: 1.69s\n",
      "189:\tlearn: 0.3652806\ttotal: 395ms\tremaining: 1.68s\n",
      "190:\tlearn: 0.3648226\ttotal: 397ms\tremaining: 1.68s\n",
      "191:\tlearn: 0.3643485\ttotal: 398ms\tremaining: 1.67s\n",
      "192:\tlearn: 0.3640834\ttotal: 399ms\tremaining: 1.67s\n",
      "193:\tlearn: 0.3637350\ttotal: 400ms\tremaining: 1.66s\n",
      "194:\tlearn: 0.3634719\ttotal: 401ms\tremaining: 1.65s\n",
      "195:\tlearn: 0.3631167\ttotal: 402ms\tremaining: 1.65s\n",
      "196:\tlearn: 0.3627713\ttotal: 403ms\tremaining: 1.64s\n",
      "197:\tlearn: 0.3624498\ttotal: 404ms\tremaining: 1.64s\n",
      "198:\tlearn: 0.3620806\ttotal: 405ms\tremaining: 1.63s\n",
      "199:\tlearn: 0.3619591\ttotal: 406ms\tremaining: 1.62s\n",
      "200:\tlearn: 0.3616635\ttotal: 407ms\tremaining: 1.62s\n",
      "201:\tlearn: 0.3613746\ttotal: 408ms\tremaining: 1.61s\n",
      "202:\tlearn: 0.3610168\ttotal: 409ms\tremaining: 1.6s\n",
      "203:\tlearn: 0.3607565\ttotal: 410ms\tremaining: 1.6s\n",
      "204:\tlearn: 0.3604901\ttotal: 411ms\tremaining: 1.59s\n",
      "205:\tlearn: 0.3601104\ttotal: 412ms\tremaining: 1.59s\n",
      "206:\tlearn: 0.3596381\ttotal: 413ms\tremaining: 1.58s\n",
      "207:\tlearn: 0.3592285\ttotal: 414ms\tremaining: 1.57s\n",
      "208:\tlearn: 0.3590141\ttotal: 415ms\tremaining: 1.57s\n",
      "209:\tlearn: 0.3587560\ttotal: 416ms\tremaining: 1.56s\n",
      "210:\tlearn: 0.3584837\ttotal: 417ms\tremaining: 1.56s\n",
      "211:\tlearn: 0.3582461\ttotal: 418ms\tremaining: 1.55s\n",
      "212:\tlearn: 0.3580036\ttotal: 419ms\tremaining: 1.55s\n",
      "213:\tlearn: 0.3578621\ttotal: 419ms\tremaining: 1.54s\n",
      "214:\tlearn: 0.3573093\ttotal: 420ms\tremaining: 1.53s\n",
      "215:\tlearn: 0.3569921\ttotal: 421ms\tremaining: 1.53s\n",
      "216:\tlearn: 0.3568552\ttotal: 422ms\tremaining: 1.52s\n",
      "217:\tlearn: 0.3565331\ttotal: 423ms\tremaining: 1.52s\n",
      "218:\tlearn: 0.3562792\ttotal: 424ms\tremaining: 1.51s\n",
      "219:\tlearn: 0.3560034\ttotal: 425ms\tremaining: 1.51s\n",
      "220:\tlearn: 0.3558593\ttotal: 426ms\tremaining: 1.5s\n",
      "221:\tlearn: 0.3557059\ttotal: 427ms\tremaining: 1.5s\n",
      "222:\tlearn: 0.3552749\ttotal: 428ms\tremaining: 1.49s\n",
      "223:\tlearn: 0.3550063\ttotal: 429ms\tremaining: 1.49s\n",
      "224:\tlearn: 0.3546820\ttotal: 430ms\tremaining: 1.48s\n",
      "225:\tlearn: 0.3544775\ttotal: 431ms\tremaining: 1.48s\n",
      "226:\tlearn: 0.3542062\ttotal: 432ms\tremaining: 1.47s\n",
      "227:\tlearn: 0.3540699\ttotal: 433ms\tremaining: 1.47s\n",
      "228:\tlearn: 0.3538681\ttotal: 434ms\tremaining: 1.46s\n",
      "229:\tlearn: 0.3535639\ttotal: 436ms\tremaining: 1.46s\n",
      "230:\tlearn: 0.3533398\ttotal: 437ms\tremaining: 1.45s\n",
      "231:\tlearn: 0.3531574\ttotal: 438ms\tremaining: 1.45s\n",
      "232:\tlearn: 0.3528169\ttotal: 439ms\tremaining: 1.44s\n",
      "233:\tlearn: 0.3525161\ttotal: 440ms\tremaining: 1.44s\n",
      "234:\tlearn: 0.3521227\ttotal: 441ms\tremaining: 1.43s\n",
      "235:\tlearn: 0.3520244\ttotal: 442ms\tremaining: 1.43s\n",
      "236:\tlearn: 0.3518180\ttotal: 443ms\tremaining: 1.43s\n",
      "237:\tlearn: 0.3513649\ttotal: 444ms\tremaining: 1.42s\n",
      "238:\tlearn: 0.3513268\ttotal: 444ms\tremaining: 1.41s\n",
      "239:\tlearn: 0.3512632\ttotal: 445ms\tremaining: 1.41s\n",
      "240:\tlearn: 0.3511679\ttotal: 446ms\tremaining: 1.4s\n",
      "241:\tlearn: 0.3508888\ttotal: 447ms\tremaining: 1.4s\n",
      "242:\tlearn: 0.3506095\ttotal: 448ms\tremaining: 1.4s\n",
      "243:\tlearn: 0.3503316\ttotal: 450ms\tremaining: 1.39s\n",
      "244:\tlearn: 0.3500132\ttotal: 451ms\tremaining: 1.39s\n",
      "245:\tlearn: 0.3497673\ttotal: 452ms\tremaining: 1.38s\n",
      "246:\tlearn: 0.3494810\ttotal: 453ms\tremaining: 1.38s\n",
      "247:\tlearn: 0.3491671\ttotal: 454ms\tremaining: 1.38s\n",
      "248:\tlearn: 0.3489636\ttotal: 455ms\tremaining: 1.37s\n",
      "249:\tlearn: 0.3487621\ttotal: 456ms\tremaining: 1.37s\n",
      "250:\tlearn: 0.3486700\ttotal: 456ms\tremaining: 1.36s\n",
      "251:\tlearn: 0.3484835\ttotal: 457ms\tremaining: 1.36s\n",
      "252:\tlearn: 0.3481784\ttotal: 458ms\tremaining: 1.35s\n",
      "253:\tlearn: 0.3477789\ttotal: 459ms\tremaining: 1.35s\n",
      "254:\tlearn: 0.3473848\ttotal: 460ms\tremaining: 1.34s\n",
      "255:\tlearn: 0.3470336\ttotal: 461ms\tremaining: 1.34s\n",
      "256:\tlearn: 0.3468033\ttotal: 462ms\tremaining: 1.34s\n",
      "257:\tlearn: 0.3466364\ttotal: 463ms\tremaining: 1.33s\n",
      "258:\tlearn: 0.3463243\ttotal: 464ms\tremaining: 1.33s\n",
      "259:\tlearn: 0.3460826\ttotal: 465ms\tremaining: 1.32s\n",
      "260:\tlearn: 0.3458162\ttotal: 467ms\tremaining: 1.32s\n",
      "261:\tlearn: 0.3455734\ttotal: 468ms\tremaining: 1.32s\n",
      "262:\tlearn: 0.3450312\ttotal: 469ms\tremaining: 1.31s\n",
      "263:\tlearn: 0.3449239\ttotal: 469ms\tremaining: 1.31s\n",
      "264:\tlearn: 0.3446477\ttotal: 470ms\tremaining: 1.3s\n",
      "265:\tlearn: 0.3443832\ttotal: 471ms\tremaining: 1.3s\n",
      "266:\tlearn: 0.3441396\ttotal: 472ms\tremaining: 1.3s\n",
      "267:\tlearn: 0.3438934\ttotal: 473ms\tremaining: 1.29s\n",
      "268:\tlearn: 0.3434717\ttotal: 474ms\tremaining: 1.29s\n",
      "269:\tlearn: 0.3433464\ttotal: 475ms\tremaining: 1.28s\n",
      "270:\tlearn: 0.3431058\ttotal: 476ms\tremaining: 1.28s\n",
      "271:\tlearn: 0.3428089\ttotal: 477ms\tremaining: 1.28s\n",
      "272:\tlearn: 0.3426734\ttotal: 478ms\tremaining: 1.27s\n",
      "273:\tlearn: 0.3422967\ttotal: 479ms\tremaining: 1.27s\n",
      "274:\tlearn: 0.3421198\ttotal: 480ms\tremaining: 1.27s\n",
      "275:\tlearn: 0.3418017\ttotal: 481ms\tremaining: 1.26s\n",
      "276:\tlearn: 0.3415970\ttotal: 483ms\tremaining: 1.26s\n",
      "277:\tlearn: 0.3412893\ttotal: 484ms\tremaining: 1.25s\n",
      "278:\tlearn: 0.3411784\ttotal: 484ms\tremaining: 1.25s\n",
      "279:\tlearn: 0.3410169\ttotal: 485ms\tremaining: 1.25s\n",
      "280:\tlearn: 0.3407581\ttotal: 486ms\tremaining: 1.24s\n",
      "281:\tlearn: 0.3405164\ttotal: 487ms\tremaining: 1.24s\n",
      "282:\tlearn: 0.3403374\ttotal: 488ms\tremaining: 1.24s\n",
      "283:\tlearn: 0.3401397\ttotal: 489ms\tremaining: 1.23s\n",
      "284:\tlearn: 0.3399940\ttotal: 490ms\tremaining: 1.23s\n",
      "285:\tlearn: 0.3398536\ttotal: 491ms\tremaining: 1.23s\n",
      "286:\tlearn: 0.3397258\ttotal: 492ms\tremaining: 1.22s\n",
      "287:\tlearn: 0.3394457\ttotal: 493ms\tremaining: 1.22s\n"
     ]
    },
    {
     "name": "stdout",
     "output_type": "stream",
     "text": [
      "288:\tlearn: 0.3391078\ttotal: 495ms\tremaining: 1.22s\n",
      "289:\tlearn: 0.3389093\ttotal: 496ms\tremaining: 1.21s\n",
      "290:\tlearn: 0.3386576\ttotal: 497ms\tremaining: 1.21s\n",
      "291:\tlearn: 0.3385004\ttotal: 498ms\tremaining: 1.21s\n",
      "292:\tlearn: 0.3383693\ttotal: 499ms\tremaining: 1.2s\n",
      "293:\tlearn: 0.3381678\ttotal: 500ms\tremaining: 1.2s\n",
      "294:\tlearn: 0.3379514\ttotal: 501ms\tremaining: 1.2s\n",
      "295:\tlearn: 0.3375961\ttotal: 502ms\tremaining: 1.19s\n",
      "296:\tlearn: 0.3372951\ttotal: 503ms\tremaining: 1.19s\n",
      "297:\tlearn: 0.3371168\ttotal: 505ms\tremaining: 1.19s\n",
      "298:\tlearn: 0.3369695\ttotal: 506ms\tremaining: 1.19s\n",
      "299:\tlearn: 0.3367523\ttotal: 507ms\tremaining: 1.18s\n",
      "300:\tlearn: 0.3365992\ttotal: 509ms\tremaining: 1.18s\n",
      "301:\tlearn: 0.3364605\ttotal: 510ms\tremaining: 1.18s\n",
      "302:\tlearn: 0.3362488\ttotal: 511ms\tremaining: 1.18s\n",
      "303:\tlearn: 0.3360246\ttotal: 513ms\tremaining: 1.17s\n",
      "304:\tlearn: 0.3359261\ttotal: 514ms\tremaining: 1.17s\n",
      "305:\tlearn: 0.3357735\ttotal: 515ms\tremaining: 1.17s\n",
      "306:\tlearn: 0.3354919\ttotal: 516ms\tremaining: 1.16s\n",
      "307:\tlearn: 0.3351057\ttotal: 517ms\tremaining: 1.16s\n",
      "308:\tlearn: 0.3347536\ttotal: 518ms\tremaining: 1.16s\n",
      "309:\tlearn: 0.3344132\ttotal: 519ms\tremaining: 1.15s\n",
      "310:\tlearn: 0.3343123\ttotal: 520ms\tremaining: 1.15s\n",
      "311:\tlearn: 0.3342206\ttotal: 521ms\tremaining: 1.15s\n",
      "312:\tlearn: 0.3341032\ttotal: 522ms\tremaining: 1.14s\n",
      "313:\tlearn: 0.3339117\ttotal: 523ms\tremaining: 1.14s\n",
      "314:\tlearn: 0.3338096\ttotal: 523ms\tremaining: 1.14s\n",
      "315:\tlearn: 0.3335741\ttotal: 524ms\tremaining: 1.13s\n",
      "316:\tlearn: 0.3334631\ttotal: 525ms\tremaining: 1.13s\n",
      "317:\tlearn: 0.3333037\ttotal: 526ms\tremaining: 1.13s\n",
      "318:\tlearn: 0.3330311\ttotal: 527ms\tremaining: 1.13s\n",
      "319:\tlearn: 0.3328790\ttotal: 528ms\tremaining: 1.12s\n",
      "320:\tlearn: 0.3326885\ttotal: 529ms\tremaining: 1.12s\n",
      "321:\tlearn: 0.3325250\ttotal: 530ms\tremaining: 1.12s\n",
      "322:\tlearn: 0.3323578\ttotal: 531ms\tremaining: 1.11s\n",
      "323:\tlearn: 0.3321912\ttotal: 533ms\tremaining: 1.11s\n",
      "324:\tlearn: 0.3319253\ttotal: 534ms\tremaining: 1.11s\n",
      "325:\tlearn: 0.3316941\ttotal: 535ms\tremaining: 1.1s\n",
      "326:\tlearn: 0.3315329\ttotal: 536ms\tremaining: 1.1s\n",
      "327:\tlearn: 0.3313815\ttotal: 537ms\tremaining: 1.1s\n",
      "328:\tlearn: 0.3311155\ttotal: 538ms\tremaining: 1.1s\n",
      "329:\tlearn: 0.3308763\ttotal: 539ms\tremaining: 1.09s\n",
      "330:\tlearn: 0.3308026\ttotal: 540ms\tremaining: 1.09s\n",
      "331:\tlearn: 0.3306116\ttotal: 541ms\tremaining: 1.09s\n",
      "332:\tlearn: 0.3304102\ttotal: 542ms\tremaining: 1.08s\n",
      "333:\tlearn: 0.3302614\ttotal: 543ms\tremaining: 1.08s\n",
      "334:\tlearn: 0.3299201\ttotal: 544ms\tremaining: 1.08s\n",
      "335:\tlearn: 0.3297833\ttotal: 545ms\tremaining: 1.08s\n",
      "336:\tlearn: 0.3296652\ttotal: 546ms\tremaining: 1.07s\n",
      "337:\tlearn: 0.3295286\ttotal: 547ms\tremaining: 1.07s\n",
      "338:\tlearn: 0.3293642\ttotal: 550ms\tremaining: 1.07s\n",
      "339:\tlearn: 0.3292018\ttotal: 551ms\tremaining: 1.07s\n",
      "340:\tlearn: 0.3290346\ttotal: 552ms\tremaining: 1.07s\n",
      "341:\tlearn: 0.3287770\ttotal: 553ms\tremaining: 1.06s\n",
      "342:\tlearn: 0.3285992\ttotal: 554ms\tremaining: 1.06s\n",
      "343:\tlearn: 0.3284602\ttotal: 555ms\tremaining: 1.06s\n",
      "344:\tlearn: 0.3281305\ttotal: 556ms\tremaining: 1.06s\n",
      "345:\tlearn: 0.3281195\ttotal: 557ms\tremaining: 1.05s\n",
      "346:\tlearn: 0.3279763\ttotal: 558ms\tremaining: 1.05s\n",
      "347:\tlearn: 0.3278294\ttotal: 559ms\tremaining: 1.05s\n",
      "348:\tlearn: 0.3274527\ttotal: 560ms\tremaining: 1.04s\n",
      "349:\tlearn: 0.3271363\ttotal: 561ms\tremaining: 1.04s\n",
      "350:\tlearn: 0.3270682\ttotal: 562ms\tremaining: 1.04s\n",
      "351:\tlearn: 0.3268660\ttotal: 563ms\tremaining: 1.04s\n",
      "352:\tlearn: 0.3266701\ttotal: 564ms\tremaining: 1.03s\n",
      "353:\tlearn: 0.3265748\ttotal: 565ms\tremaining: 1.03s\n",
      "354:\tlearn: 0.3263575\ttotal: 566ms\tremaining: 1.03s\n",
      "355:\tlearn: 0.3261232\ttotal: 567ms\tremaining: 1.03s\n",
      "356:\tlearn: 0.3258959\ttotal: 568ms\tremaining: 1.02s\n",
      "357:\tlearn: 0.3257788\ttotal: 569ms\tremaining: 1.02s\n",
      "358:\tlearn: 0.3255893\ttotal: 570ms\tremaining: 1.02s\n",
      "359:\tlearn: 0.3253664\ttotal: 571ms\tremaining: 1.01s\n",
      "360:\tlearn: 0.3252371\ttotal: 572ms\tremaining: 1.01s\n",
      "361:\tlearn: 0.3250468\ttotal: 573ms\tremaining: 1.01s\n",
      "362:\tlearn: 0.3248758\ttotal: 574ms\tremaining: 1.01s\n",
      "363:\tlearn: 0.3247652\ttotal: 575ms\tremaining: 1s\n",
      "364:\tlearn: 0.3247403\ttotal: 576ms\tremaining: 1s\n",
      "365:\tlearn: 0.3243928\ttotal: 577ms\tremaining: 1000ms\n",
      "366:\tlearn: 0.3243343\ttotal: 578ms\tremaining: 997ms\n",
      "367:\tlearn: 0.3243221\ttotal: 579ms\tremaining: 994ms\n",
      "368:\tlearn: 0.3241893\ttotal: 580ms\tremaining: 991ms\n",
      "369:\tlearn: 0.3241577\ttotal: 580ms\tremaining: 988ms\n",
      "370:\tlearn: 0.3240481\ttotal: 582ms\tremaining: 986ms\n",
      "371:\tlearn: 0.3239396\ttotal: 583ms\tremaining: 984ms\n",
      "372:\tlearn: 0.3237781\ttotal: 584ms\tremaining: 982ms\n",
      "373:\tlearn: 0.3236733\ttotal: 585ms\tremaining: 979ms\n",
      "374:\tlearn: 0.3235889\ttotal: 586ms\tremaining: 977ms\n",
      "375:\tlearn: 0.3233586\ttotal: 587ms\tremaining: 974ms\n",
      "376:\tlearn: 0.3231252\ttotal: 588ms\tremaining: 972ms\n",
      "377:\tlearn: 0.3229567\ttotal: 589ms\tremaining: 970ms\n",
      "378:\tlearn: 0.3228761\ttotal: 590ms\tremaining: 967ms\n",
      "379:\tlearn: 0.3226378\ttotal: 591ms\tremaining: 965ms\n",
      "380:\tlearn: 0.3226124\ttotal: 592ms\tremaining: 962ms\n",
      "381:\tlearn: 0.3224442\ttotal: 593ms\tremaining: 960ms\n",
      "382:\tlearn: 0.3223747\ttotal: 594ms\tremaining: 957ms\n",
      "383:\tlearn: 0.3222752\ttotal: 595ms\tremaining: 955ms\n",
      "384:\tlearn: 0.3221238\ttotal: 596ms\tremaining: 952ms\n",
      "385:\tlearn: 0.3219097\ttotal: 597ms\tremaining: 950ms\n",
      "386:\tlearn: 0.3218015\ttotal: 599ms\tremaining: 948ms\n",
      "387:\tlearn: 0.3215443\ttotal: 600ms\tremaining: 946ms\n",
      "388:\tlearn: 0.3213962\ttotal: 601ms\tremaining: 944ms\n",
      "389:\tlearn: 0.3213668\ttotal: 602ms\tremaining: 942ms\n",
      "390:\tlearn: 0.3212285\ttotal: 603ms\tremaining: 939ms\n",
      "391:\tlearn: 0.3210017\ttotal: 604ms\tremaining: 937ms\n",
      "392:\tlearn: 0.3207542\ttotal: 605ms\tremaining: 934ms\n",
      "393:\tlearn: 0.3204902\ttotal: 606ms\tremaining: 932ms\n",
      "394:\tlearn: 0.3202627\ttotal: 607ms\tremaining: 930ms\n",
      "395:\tlearn: 0.3200657\ttotal: 608ms\tremaining: 928ms\n",
      "396:\tlearn: 0.3197727\ttotal: 609ms\tremaining: 925ms\n",
      "397:\tlearn: 0.3196934\ttotal: 610ms\tremaining: 923ms\n",
      "398:\tlearn: 0.3195296\ttotal: 611ms\tremaining: 920ms\n",
      "399:\tlearn: 0.3194697\ttotal: 612ms\tremaining: 918ms\n",
      "400:\tlearn: 0.3193837\ttotal: 613ms\tremaining: 916ms\n",
      "401:\tlearn: 0.3193336\ttotal: 614ms\tremaining: 913ms\n",
      "402:\tlearn: 0.3192256\ttotal: 615ms\tremaining: 910ms\n",
      "403:\tlearn: 0.3190788\ttotal: 616ms\tremaining: 908ms\n",
      "404:\tlearn: 0.3189177\ttotal: 617ms\tremaining: 906ms\n",
      "405:\tlearn: 0.3187390\ttotal: 618ms\tremaining: 904ms\n",
      "406:\tlearn: 0.3185300\ttotal: 619ms\tremaining: 901ms\n",
      "407:\tlearn: 0.3183823\ttotal: 620ms\tremaining: 899ms\n",
      "408:\tlearn: 0.3181672\ttotal: 621ms\tremaining: 897ms\n",
      "409:\tlearn: 0.3178911\ttotal: 622ms\tremaining: 895ms\n",
      "410:\tlearn: 0.3177896\ttotal: 623ms\tremaining: 892ms\n",
      "411:\tlearn: 0.3177635\ttotal: 623ms\tremaining: 890ms\n",
      "412:\tlearn: 0.3175092\ttotal: 624ms\tremaining: 887ms\n",
      "413:\tlearn: 0.3173806\ttotal: 625ms\tremaining: 885ms\n",
      "414:\tlearn: 0.3171642\ttotal: 626ms\tremaining: 883ms\n",
      "415:\tlearn: 0.3168919\ttotal: 627ms\tremaining: 881ms\n",
      "416:\tlearn: 0.3166320\ttotal: 628ms\tremaining: 879ms\n",
      "417:\tlearn: 0.3164688\ttotal: 629ms\tremaining: 876ms\n",
      "418:\tlearn: 0.3163313\ttotal: 630ms\tremaining: 874ms\n",
      "419:\tlearn: 0.3162629\ttotal: 631ms\tremaining: 872ms\n",
      "420:\tlearn: 0.3161897\ttotal: 632ms\tremaining: 870ms\n",
      "421:\tlearn: 0.3158241\ttotal: 633ms\tremaining: 868ms\n",
      "422:\tlearn: 0.3157041\ttotal: 635ms\tremaining: 866ms\n",
      "423:\tlearn: 0.3154946\ttotal: 636ms\tremaining: 864ms\n",
      "424:\tlearn: 0.3152653\ttotal: 637ms\tremaining: 861ms\n",
      "425:\tlearn: 0.3151932\ttotal: 638ms\tremaining: 859ms\n",
      "426:\tlearn: 0.3149621\ttotal: 639ms\tremaining: 857ms\n",
      "427:\tlearn: 0.3148137\ttotal: 640ms\tremaining: 855ms\n",
      "428:\tlearn: 0.3146853\ttotal: 641ms\tremaining: 853ms\n",
      "429:\tlearn: 0.3145723\ttotal: 642ms\tremaining: 851ms\n",
      "430:\tlearn: 0.3144883\ttotal: 644ms\tremaining: 850ms\n",
      "431:\tlearn: 0.3142902\ttotal: 645ms\tremaining: 848ms\n",
      "432:\tlearn: 0.3142303\ttotal: 646ms\tremaining: 846ms\n",
      "433:\tlearn: 0.3141377\ttotal: 647ms\tremaining: 843ms\n",
      "434:\tlearn: 0.3140161\ttotal: 648ms\tremaining: 841ms\n",
      "435:\tlearn: 0.3138909\ttotal: 649ms\tremaining: 839ms\n",
      "436:\tlearn: 0.3136637\ttotal: 650ms\tremaining: 838ms\n",
      "437:\tlearn: 0.3135557\ttotal: 651ms\tremaining: 836ms\n",
      "438:\tlearn: 0.3134545\ttotal: 652ms\tremaining: 833ms\n",
      "439:\tlearn: 0.3134393\ttotal: 653ms\tremaining: 831ms\n",
      "440:\tlearn: 0.3133888\ttotal: 654ms\tremaining: 829ms\n",
      "441:\tlearn: 0.3132995\ttotal: 655ms\tremaining: 827ms\n",
      "442:\tlearn: 0.3131442\ttotal: 656ms\tremaining: 825ms\n",
      "443:\tlearn: 0.3130382\ttotal: 657ms\tremaining: 823ms\n",
      "444:\tlearn: 0.3129489\ttotal: 658ms\tremaining: 821ms\n",
      "445:\tlearn: 0.3128960\ttotal: 659ms\tremaining: 819ms\n",
      "446:\tlearn: 0.3127145\ttotal: 661ms\tremaining: 818ms\n",
      "447:\tlearn: 0.3125959\ttotal: 662ms\tremaining: 816ms\n",
      "448:\tlearn: 0.3125919\ttotal: 663ms\tremaining: 814ms\n",
      "449:\tlearn: 0.3124815\ttotal: 664ms\tremaining: 812ms\n",
      "450:\tlearn: 0.3123323\ttotal: 665ms\tremaining: 810ms\n",
      "451:\tlearn: 0.3122396\ttotal: 666ms\tremaining: 807ms\n",
      "452:\tlearn: 0.3120755\ttotal: 667ms\tremaining: 805ms\n",
      "453:\tlearn: 0.3119721\ttotal: 668ms\tremaining: 803ms\n",
      "454:\tlearn: 0.3118337\ttotal: 669ms\tremaining: 801ms\n",
      "455:\tlearn: 0.3117352\ttotal: 670ms\tremaining: 799ms\n",
      "456:\tlearn: 0.3116560\ttotal: 671ms\tremaining: 797ms\n",
      "457:\tlearn: 0.3114432\ttotal: 672ms\tremaining: 795ms\n",
      "458:\tlearn: 0.3112807\ttotal: 673ms\tremaining: 793ms\n",
      "459:\tlearn: 0.3110543\ttotal: 674ms\tremaining: 791ms\n",
      "460:\tlearn: 0.3109123\ttotal: 675ms\tremaining: 789ms\n",
      "461:\tlearn: 0.3107861\ttotal: 676ms\tremaining: 787ms\n",
      "462:\tlearn: 0.3106145\ttotal: 677ms\tremaining: 785ms\n",
      "463:\tlearn: 0.3105384\ttotal: 678ms\tremaining: 783ms\n",
      "464:\tlearn: 0.3104834\ttotal: 679ms\tremaining: 781ms\n",
      "465:\tlearn: 0.3104144\ttotal: 680ms\tremaining: 779ms\n",
      "466:\tlearn: 0.3102801\ttotal: 681ms\tremaining: 777ms\n",
      "467:\tlearn: 0.3101780\ttotal: 682ms\tremaining: 775ms\n",
      "468:\tlearn: 0.3100771\ttotal: 683ms\tremaining: 773ms\n",
      "469:\tlearn: 0.3098800\ttotal: 684ms\tremaining: 771ms\n",
      "470:\tlearn: 0.3098158\ttotal: 685ms\tremaining: 769ms\n",
      "471:\tlearn: 0.3097560\ttotal: 686ms\tremaining: 767ms\n",
      "472:\tlearn: 0.3095755\ttotal: 687ms\tremaining: 765ms\n",
      "473:\tlearn: 0.3095327\ttotal: 688ms\tremaining: 763ms\n",
      "474:\tlearn: 0.3093303\ttotal: 689ms\tremaining: 762ms\n",
      "475:\tlearn: 0.3092150\ttotal: 690ms\tremaining: 760ms\n",
      "476:\tlearn: 0.3090890\ttotal: 691ms\tremaining: 758ms\n",
      "477:\tlearn: 0.3090125\ttotal: 692ms\tremaining: 756ms\n",
      "478:\tlearn: 0.3089181\ttotal: 693ms\tremaining: 754ms\n",
      "479:\tlearn: 0.3088336\ttotal: 694ms\tremaining: 752ms\n",
      "480:\tlearn: 0.3085799\ttotal: 695ms\tremaining: 750ms\n",
      "481:\tlearn: 0.3083691\ttotal: 696ms\tremaining: 748ms\n",
      "482:\tlearn: 0.3082406\ttotal: 697ms\tremaining: 746ms\n",
      "483:\tlearn: 0.3082215\ttotal: 698ms\tremaining: 745ms\n",
      "484:\tlearn: 0.3081138\ttotal: 699ms\tremaining: 743ms\n",
      "485:\tlearn: 0.3079897\ttotal: 700ms\tremaining: 741ms\n",
      "486:\tlearn: 0.3078718\ttotal: 701ms\tremaining: 739ms\n",
      "487:\tlearn: 0.3077215\ttotal: 702ms\tremaining: 737ms\n",
      "488:\tlearn: 0.3077010\ttotal: 703ms\tremaining: 735ms\n",
      "489:\tlearn: 0.3074744\ttotal: 704ms\tremaining: 733ms\n",
      "490:\tlearn: 0.3072634\ttotal: 705ms\tremaining: 731ms\n",
      "491:\tlearn: 0.3072475\ttotal: 706ms\tremaining: 728ms\n",
      "492:\tlearn: 0.3071595\ttotal: 707ms\tremaining: 727ms\n",
      "493:\tlearn: 0.3070410\ttotal: 708ms\tremaining: 725ms\n",
      "494:\tlearn: 0.3068810\ttotal: 709ms\tremaining: 723ms\n",
      "495:\tlearn: 0.3067315\ttotal: 710ms\tremaining: 721ms\n",
      "496:\tlearn: 0.3064770\ttotal: 711ms\tremaining: 719ms\n",
      "497:\tlearn: 0.3064467\ttotal: 712ms\tremaining: 717ms\n",
      "498:\tlearn: 0.3063002\ttotal: 713ms\tremaining: 715ms\n",
      "499:\tlearn: 0.3062847\ttotal: 713ms\tremaining: 713ms\n",
      "500:\tlearn: 0.3062051\ttotal: 714ms\tremaining: 711ms\n",
      "501:\tlearn: 0.3060788\ttotal: 715ms\tremaining: 709ms\n",
      "502:\tlearn: 0.3059827\ttotal: 716ms\tremaining: 708ms\n",
      "503:\tlearn: 0.3058498\ttotal: 717ms\tremaining: 706ms\n",
      "504:\tlearn: 0.3058043\ttotal: 718ms\tremaining: 704ms\n",
      "505:\tlearn: 0.3056431\ttotal: 720ms\tremaining: 703ms\n",
      "506:\tlearn: 0.3055885\ttotal: 721ms\tremaining: 701ms\n",
      "507:\tlearn: 0.3055687\ttotal: 722ms\tremaining: 699ms\n",
      "508:\tlearn: 0.3053257\ttotal: 723ms\tremaining: 697ms\n",
      "509:\tlearn: 0.3051183\ttotal: 724ms\tremaining: 695ms\n",
      "510:\tlearn: 0.3050174\ttotal: 725ms\tremaining: 693ms\n",
      "511:\tlearn: 0.3049028\ttotal: 726ms\tremaining: 692ms\n",
      "512:\tlearn: 0.3047795\ttotal: 727ms\tremaining: 690ms\n",
      "513:\tlearn: 0.3046918\ttotal: 728ms\tremaining: 688ms\n",
      "514:\tlearn: 0.3045672\ttotal: 729ms\tremaining: 686ms\n",
      "515:\tlearn: 0.3044681\ttotal: 730ms\tremaining: 684ms\n",
      "516:\tlearn: 0.3044039\ttotal: 731ms\tremaining: 683ms\n",
      "517:\tlearn: 0.3043545\ttotal: 732ms\tremaining: 681ms\n",
      "518:\tlearn: 0.3042007\ttotal: 733ms\tremaining: 679ms\n",
      "519:\tlearn: 0.3041054\ttotal: 734ms\tremaining: 677ms\n",
      "520:\tlearn: 0.3040072\ttotal: 735ms\tremaining: 676ms\n",
      "521:\tlearn: 0.3039845\ttotal: 735ms\tremaining: 673ms\n",
      "522:\tlearn: 0.3039044\ttotal: 736ms\tremaining: 671ms\n",
      "523:\tlearn: 0.3037900\ttotal: 737ms\tremaining: 670ms\n",
      "524:\tlearn: 0.3037856\ttotal: 738ms\tremaining: 667ms\n",
      "525:\tlearn: 0.3037126\ttotal: 739ms\tremaining: 666ms\n",
      "526:\tlearn: 0.3035184\ttotal: 740ms\tremaining: 664ms\n",
      "527:\tlearn: 0.3034185\ttotal: 741ms\tremaining: 662ms\n",
      "528:\tlearn: 0.3032301\ttotal: 742ms\tremaining: 661ms\n",
      "529:\tlearn: 0.3031039\ttotal: 743ms\tremaining: 659ms\n",
      "530:\tlearn: 0.3030460\ttotal: 744ms\tremaining: 657ms\n",
      "531:\tlearn: 0.3029432\ttotal: 745ms\tremaining: 656ms\n",
      "532:\tlearn: 0.3027806\ttotal: 747ms\tremaining: 654ms\n",
      "533:\tlearn: 0.3027357\ttotal: 748ms\tremaining: 652ms\n",
      "534:\tlearn: 0.3026515\ttotal: 749ms\tremaining: 651ms\n",
      "535:\tlearn: 0.3025344\ttotal: 750ms\tremaining: 649ms\n",
      "536:\tlearn: 0.3024547\ttotal: 751ms\tremaining: 647ms\n",
      "537:\tlearn: 0.3023828\ttotal: 752ms\tremaining: 645ms\n",
      "538:\tlearn: 0.3022340\ttotal: 753ms\tremaining: 644ms\n",
      "539:\tlearn: 0.3020917\ttotal: 754ms\tremaining: 642ms\n",
      "540:\tlearn: 0.3019061\ttotal: 755ms\tremaining: 640ms\n",
      "541:\tlearn: 0.3018727\ttotal: 756ms\tremaining: 638ms\n",
      "542:\tlearn: 0.3018060\ttotal: 757ms\tremaining: 637ms\n",
      "543:\tlearn: 0.3017484\ttotal: 758ms\tremaining: 635ms\n",
      "544:\tlearn: 0.3016423\ttotal: 759ms\tremaining: 633ms\n",
      "545:\tlearn: 0.3014926\ttotal: 760ms\tremaining: 632ms\n",
      "546:\tlearn: 0.3014121\ttotal: 760ms\tremaining: 630ms\n",
      "547:\tlearn: 0.3012626\ttotal: 761ms\tremaining: 628ms\n",
      "548:\tlearn: 0.3011252\ttotal: 762ms\tremaining: 626ms\n",
      "549:\tlearn: 0.3010267\ttotal: 763ms\tremaining: 625ms\n",
      "550:\tlearn: 0.3008311\ttotal: 764ms\tremaining: 623ms\n",
      "551:\tlearn: 0.3006674\ttotal: 765ms\tremaining: 621ms\n",
      "552:\tlearn: 0.3005445\ttotal: 766ms\tremaining: 619ms\n",
      "553:\tlearn: 0.3004625\ttotal: 767ms\tremaining: 618ms\n",
      "554:\tlearn: 0.3002814\ttotal: 768ms\tremaining: 616ms\n",
      "555:\tlearn: 0.3002137\ttotal: 769ms\tremaining: 614ms\n",
      "556:\tlearn: 0.3000040\ttotal: 770ms\tremaining: 613ms\n",
      "557:\tlearn: 0.2997805\ttotal: 771ms\tremaining: 611ms\n",
      "558:\tlearn: 0.2996651\ttotal: 772ms\tremaining: 609ms\n",
      "559:\tlearn: 0.2995484\ttotal: 773ms\tremaining: 608ms\n",
      "560:\tlearn: 0.2994378\ttotal: 775ms\tremaining: 606ms\n",
      "561:\tlearn: 0.2993556\ttotal: 776ms\tremaining: 605ms\n",
      "562:\tlearn: 0.2993205\ttotal: 777ms\tremaining: 603ms\n",
      "563:\tlearn: 0.2992062\ttotal: 778ms\tremaining: 601ms\n",
      "564:\tlearn: 0.2991306\ttotal: 779ms\tremaining: 600ms\n",
      "565:\tlearn: 0.2989895\ttotal: 780ms\tremaining: 598ms\n",
      "566:\tlearn: 0.2988683\ttotal: 781ms\tremaining: 597ms\n",
      "567:\tlearn: 0.2987492\ttotal: 782ms\tremaining: 595ms\n",
      "568:\tlearn: 0.2987148\ttotal: 783ms\tremaining: 593ms\n",
      "569:\tlearn: 0.2986751\ttotal: 784ms\tremaining: 592ms\n",
      "570:\tlearn: 0.2985473\ttotal: 785ms\tremaining: 590ms\n",
      "571:\tlearn: 0.2985378\ttotal: 786ms\tremaining: 588ms\n",
      "572:\tlearn: 0.2983068\ttotal: 787ms\tremaining: 586ms\n",
      "573:\tlearn: 0.2981665\ttotal: 788ms\tremaining: 585ms\n",
      "574:\tlearn: 0.2980186\ttotal: 789ms\tremaining: 583ms\n",
      "575:\tlearn: 0.2979872\ttotal: 790ms\tremaining: 582ms\n",
      "576:\tlearn: 0.2978643\ttotal: 791ms\tremaining: 580ms\n",
      "577:\tlearn: 0.2977196\ttotal: 792ms\tremaining: 578ms\n",
      "578:\tlearn: 0.2976289\ttotal: 793ms\tremaining: 577ms\n",
      "579:\tlearn: 0.2975509\ttotal: 795ms\tremaining: 575ms\n",
      "580:\tlearn: 0.2973543\ttotal: 796ms\tremaining: 574ms\n",
      "581:\tlearn: 0.2971403\ttotal: 797ms\tremaining: 572ms\n",
      "582:\tlearn: 0.2969255\ttotal: 798ms\tremaining: 571ms\n",
      "583:\tlearn: 0.2968716\ttotal: 799ms\tremaining: 570ms\n",
      "584:\tlearn: 0.2967577\ttotal: 801ms\tremaining: 568ms\n",
      "585:\tlearn: 0.2965096\ttotal: 803ms\tremaining: 567ms\n",
      "586:\tlearn: 0.2964660\ttotal: 804ms\tremaining: 566ms\n"
     ]
    },
    {
     "name": "stdout",
     "output_type": "stream",
     "text": [
      "587:\tlearn: 0.2964541\ttotal: 805ms\tremaining: 564ms\n",
      "588:\tlearn: 0.2963067\ttotal: 807ms\tremaining: 563ms\n",
      "589:\tlearn: 0.2961962\ttotal: 808ms\tremaining: 561ms\n",
      "590:\tlearn: 0.2961603\ttotal: 809ms\tremaining: 560ms\n",
      "591:\tlearn: 0.2961469\ttotal: 809ms\tremaining: 558ms\n",
      "592:\tlearn: 0.2960685\ttotal: 810ms\tremaining: 556ms\n",
      "593:\tlearn: 0.2958687\ttotal: 812ms\tremaining: 555ms\n",
      "594:\tlearn: 0.2957421\ttotal: 813ms\tremaining: 553ms\n",
      "595:\tlearn: 0.2956312\ttotal: 814ms\tremaining: 552ms\n",
      "596:\tlearn: 0.2955434\ttotal: 816ms\tremaining: 551ms\n",
      "597:\tlearn: 0.2952732\ttotal: 817ms\tremaining: 549ms\n",
      "598:\tlearn: 0.2952468\ttotal: 818ms\tremaining: 547ms\n",
      "599:\tlearn: 0.2950704\ttotal: 819ms\tremaining: 546ms\n",
      "600:\tlearn: 0.2948845\ttotal: 820ms\tremaining: 544ms\n",
      "601:\tlearn: 0.2947693\ttotal: 821ms\tremaining: 543ms\n",
      "602:\tlearn: 0.2945863\ttotal: 822ms\tremaining: 541ms\n",
      "603:\tlearn: 0.2944739\ttotal: 824ms\tremaining: 540ms\n",
      "604:\tlearn: 0.2943475\ttotal: 825ms\tremaining: 539ms\n",
      "605:\tlearn: 0.2942942\ttotal: 826ms\tremaining: 537ms\n",
      "606:\tlearn: 0.2942753\ttotal: 827ms\tremaining: 536ms\n",
      "607:\tlearn: 0.2941945\ttotal: 828ms\tremaining: 534ms\n",
      "608:\tlearn: 0.2940892\ttotal: 830ms\tremaining: 533ms\n",
      "609:\tlearn: 0.2940454\ttotal: 831ms\tremaining: 531ms\n",
      "610:\tlearn: 0.2940342\ttotal: 831ms\tremaining: 529ms\n",
      "611:\tlearn: 0.2938592\ttotal: 832ms\tremaining: 528ms\n",
      "612:\tlearn: 0.2937729\ttotal: 834ms\tremaining: 526ms\n",
      "613:\tlearn: 0.2936799\ttotal: 835ms\tremaining: 525ms\n",
      "614:\tlearn: 0.2935277\ttotal: 836ms\tremaining: 523ms\n",
      "615:\tlearn: 0.2934158\ttotal: 837ms\tremaining: 522ms\n",
      "616:\tlearn: 0.2932758\ttotal: 838ms\tremaining: 520ms\n",
      "617:\tlearn: 0.2931298\ttotal: 840ms\tremaining: 519ms\n",
      "618:\tlearn: 0.2929937\ttotal: 841ms\tremaining: 517ms\n",
      "619:\tlearn: 0.2929035\ttotal: 842ms\tremaining: 516ms\n",
      "620:\tlearn: 0.2928774\ttotal: 843ms\tremaining: 514ms\n",
      "621:\tlearn: 0.2926599\ttotal: 844ms\tremaining: 513ms\n",
      "622:\tlearn: 0.2923901\ttotal: 845ms\tremaining: 511ms\n",
      "623:\tlearn: 0.2923545\ttotal: 846ms\tremaining: 510ms\n",
      "624:\tlearn: 0.2923015\ttotal: 847ms\tremaining: 508ms\n",
      "625:\tlearn: 0.2922130\ttotal: 848ms\tremaining: 507ms\n",
      "626:\tlearn: 0.2920696\ttotal: 849ms\tremaining: 505ms\n",
      "627:\tlearn: 0.2919205\ttotal: 850ms\tremaining: 504ms\n",
      "628:\tlearn: 0.2918231\ttotal: 851ms\tremaining: 502ms\n",
      "629:\tlearn: 0.2916690\ttotal: 853ms\tremaining: 501ms\n",
      "630:\tlearn: 0.2916174\ttotal: 854ms\tremaining: 499ms\n",
      "631:\tlearn: 0.2915610\ttotal: 855ms\tremaining: 498ms\n",
      "632:\tlearn: 0.2914977\ttotal: 856ms\tremaining: 496ms\n",
      "633:\tlearn: 0.2913428\ttotal: 857ms\tremaining: 495ms\n",
      "634:\tlearn: 0.2911908\ttotal: 858ms\tremaining: 493ms\n",
      "635:\tlearn: 0.2910728\ttotal: 859ms\tremaining: 492ms\n",
      "636:\tlearn: 0.2909249\ttotal: 860ms\tremaining: 490ms\n",
      "637:\tlearn: 0.2908024\ttotal: 862ms\tremaining: 489ms\n",
      "638:\tlearn: 0.2906880\ttotal: 863ms\tremaining: 487ms\n",
      "639:\tlearn: 0.2905559\ttotal: 864ms\tremaining: 486ms\n",
      "640:\tlearn: 0.2905140\ttotal: 865ms\tremaining: 484ms\n",
      "641:\tlearn: 0.2902851\ttotal: 866ms\tremaining: 483ms\n",
      "642:\tlearn: 0.2901904\ttotal: 867ms\tremaining: 481ms\n",
      "643:\tlearn: 0.2900720\ttotal: 868ms\tremaining: 480ms\n",
      "644:\tlearn: 0.2899198\ttotal: 869ms\tremaining: 479ms\n",
      "645:\tlearn: 0.2898092\ttotal: 870ms\tremaining: 477ms\n",
      "646:\tlearn: 0.2896641\ttotal: 872ms\tremaining: 476ms\n",
      "647:\tlearn: 0.2895770\ttotal: 873ms\tremaining: 474ms\n",
      "648:\tlearn: 0.2894452\ttotal: 874ms\tremaining: 473ms\n",
      "649:\tlearn: 0.2893049\ttotal: 876ms\tremaining: 472ms\n",
      "650:\tlearn: 0.2892829\ttotal: 878ms\tremaining: 471ms\n",
      "651:\tlearn: 0.2891726\ttotal: 879ms\tremaining: 469ms\n",
      "652:\tlearn: 0.2890985\ttotal: 881ms\tremaining: 468ms\n",
      "653:\tlearn: 0.2890446\ttotal: 882ms\tremaining: 466ms\n",
      "654:\tlearn: 0.2889486\ttotal: 883ms\tremaining: 465ms\n",
      "655:\tlearn: 0.2888768\ttotal: 884ms\tremaining: 463ms\n",
      "656:\tlearn: 0.2887969\ttotal: 885ms\tremaining: 462ms\n",
      "657:\tlearn: 0.2886840\ttotal: 886ms\tremaining: 460ms\n",
      "658:\tlearn: 0.2886132\ttotal: 887ms\tremaining: 459ms\n",
      "659:\tlearn: 0.2885347\ttotal: 888ms\tremaining: 457ms\n",
      "660:\tlearn: 0.2884952\ttotal: 889ms\tremaining: 456ms\n",
      "661:\tlearn: 0.2883412\ttotal: 890ms\tremaining: 454ms\n",
      "662:\tlearn: 0.2882455\ttotal: 891ms\tremaining: 453ms\n",
      "663:\tlearn: 0.2881157\ttotal: 892ms\tremaining: 452ms\n",
      "664:\tlearn: 0.2879658\ttotal: 893ms\tremaining: 450ms\n",
      "665:\tlearn: 0.2878309\ttotal: 895ms\tremaining: 449ms\n",
      "666:\tlearn: 0.2877590\ttotal: 896ms\tremaining: 447ms\n",
      "667:\tlearn: 0.2875809\ttotal: 897ms\tremaining: 446ms\n",
      "668:\tlearn: 0.2874602\ttotal: 898ms\tremaining: 444ms\n",
      "669:\tlearn: 0.2873926\ttotal: 899ms\tremaining: 443ms\n",
      "670:\tlearn: 0.2873015\ttotal: 900ms\tremaining: 441ms\n",
      "671:\tlearn: 0.2872138\ttotal: 901ms\tremaining: 440ms\n",
      "672:\tlearn: 0.2871335\ttotal: 902ms\tremaining: 438ms\n",
      "673:\tlearn: 0.2869738\ttotal: 903ms\tremaining: 437ms\n",
      "674:\tlearn: 0.2867912\ttotal: 905ms\tremaining: 436ms\n",
      "675:\tlearn: 0.2867361\ttotal: 906ms\tremaining: 434ms\n",
      "676:\tlearn: 0.2864418\ttotal: 907ms\tremaining: 433ms\n",
      "677:\tlearn: 0.2862719\ttotal: 908ms\tremaining: 431ms\n",
      "678:\tlearn: 0.2861712\ttotal: 909ms\tremaining: 430ms\n",
      "679:\tlearn: 0.2860157\ttotal: 910ms\tremaining: 428ms\n",
      "680:\tlearn: 0.2857729\ttotal: 912ms\tremaining: 427ms\n",
      "681:\tlearn: 0.2856815\ttotal: 913ms\tremaining: 426ms\n",
      "682:\tlearn: 0.2854762\ttotal: 914ms\tremaining: 424ms\n",
      "683:\tlearn: 0.2854134\ttotal: 915ms\tremaining: 423ms\n",
      "684:\tlearn: 0.2853347\ttotal: 916ms\tremaining: 421ms\n",
      "685:\tlearn: 0.2852855\ttotal: 917ms\tremaining: 420ms\n",
      "686:\tlearn: 0.2850584\ttotal: 918ms\tremaining: 418ms\n",
      "687:\tlearn: 0.2847548\ttotal: 919ms\tremaining: 417ms\n",
      "688:\tlearn: 0.2846957\ttotal: 920ms\tremaining: 415ms\n",
      "689:\tlearn: 0.2845469\ttotal: 922ms\tremaining: 414ms\n",
      "690:\tlearn: 0.2844987\ttotal: 923ms\tremaining: 413ms\n",
      "691:\tlearn: 0.2843161\ttotal: 924ms\tremaining: 411ms\n",
      "692:\tlearn: 0.2842032\ttotal: 925ms\tremaining: 410ms\n",
      "693:\tlearn: 0.2841340\ttotal: 926ms\tremaining: 408ms\n",
      "694:\tlearn: 0.2840410\ttotal: 928ms\tremaining: 407ms\n",
      "695:\tlearn: 0.2838450\ttotal: 929ms\tremaining: 406ms\n",
      "696:\tlearn: 0.2837900\ttotal: 930ms\tremaining: 404ms\n",
      "697:\tlearn: 0.2837462\ttotal: 931ms\tremaining: 403ms\n",
      "698:\tlearn: 0.2835805\ttotal: 932ms\tremaining: 401ms\n",
      "699:\tlearn: 0.2835224\ttotal: 933ms\tremaining: 400ms\n",
      "700:\tlearn: 0.2833545\ttotal: 935ms\tremaining: 399ms\n",
      "701:\tlearn: 0.2832162\ttotal: 936ms\tremaining: 397ms\n",
      "702:\tlearn: 0.2831633\ttotal: 938ms\tremaining: 396ms\n",
      "703:\tlearn: 0.2831206\ttotal: 939ms\tremaining: 395ms\n",
      "704:\tlearn: 0.2829767\ttotal: 940ms\tremaining: 393ms\n",
      "705:\tlearn: 0.2829667\ttotal: 941ms\tremaining: 392ms\n",
      "706:\tlearn: 0.2827761\ttotal: 942ms\tremaining: 390ms\n",
      "707:\tlearn: 0.2824377\ttotal: 943ms\tremaining: 389ms\n",
      "708:\tlearn: 0.2823739\ttotal: 944ms\tremaining: 387ms\n",
      "709:\tlearn: 0.2821424\ttotal: 945ms\tremaining: 386ms\n",
      "710:\tlearn: 0.2820554\ttotal: 946ms\tremaining: 385ms\n",
      "711:\tlearn: 0.2819645\ttotal: 947ms\tremaining: 383ms\n",
      "712:\tlearn: 0.2818310\ttotal: 949ms\tremaining: 382ms\n",
      "713:\tlearn: 0.2817026\ttotal: 950ms\tremaining: 380ms\n",
      "714:\tlearn: 0.2816223\ttotal: 951ms\tremaining: 379ms\n",
      "715:\tlearn: 0.2815874\ttotal: 953ms\tremaining: 378ms\n",
      "716:\tlearn: 0.2815653\ttotal: 953ms\tremaining: 376ms\n",
      "717:\tlearn: 0.2815240\ttotal: 954ms\tremaining: 375ms\n",
      "718:\tlearn: 0.2814851\ttotal: 955ms\tremaining: 373ms\n",
      "719:\tlearn: 0.2814000\ttotal: 957ms\tremaining: 372ms\n",
      "720:\tlearn: 0.2812436\ttotal: 958ms\tremaining: 371ms\n",
      "721:\tlearn: 0.2811408\ttotal: 959ms\tremaining: 369ms\n",
      "722:\tlearn: 0.2810318\ttotal: 961ms\tremaining: 368ms\n",
      "723:\tlearn: 0.2809471\ttotal: 962ms\tremaining: 367ms\n",
      "724:\tlearn: 0.2808964\ttotal: 963ms\tremaining: 365ms\n",
      "725:\tlearn: 0.2807185\ttotal: 964ms\tremaining: 364ms\n",
      "726:\tlearn: 0.2806533\ttotal: 965ms\tremaining: 362ms\n",
      "727:\tlearn: 0.2805334\ttotal: 966ms\tremaining: 361ms\n",
      "728:\tlearn: 0.2804354\ttotal: 967ms\tremaining: 359ms\n",
      "729:\tlearn: 0.2803634\ttotal: 968ms\tremaining: 358ms\n",
      "730:\tlearn: 0.2802542\ttotal: 970ms\tremaining: 357ms\n",
      "731:\tlearn: 0.2801831\ttotal: 971ms\tremaining: 355ms\n",
      "732:\tlearn: 0.2799985\ttotal: 972ms\tremaining: 354ms\n",
      "733:\tlearn: 0.2798394\ttotal: 973ms\tremaining: 353ms\n",
      "734:\tlearn: 0.2798038\ttotal: 974ms\tremaining: 351ms\n",
      "735:\tlearn: 0.2796865\ttotal: 976ms\tremaining: 350ms\n",
      "736:\tlearn: 0.2796094\ttotal: 977ms\tremaining: 349ms\n",
      "737:\tlearn: 0.2795135\ttotal: 978ms\tremaining: 347ms\n",
      "738:\tlearn: 0.2794188\ttotal: 979ms\tremaining: 346ms\n",
      "739:\tlearn: 0.2792592\ttotal: 980ms\tremaining: 344ms\n",
      "740:\tlearn: 0.2791876\ttotal: 981ms\tremaining: 343ms\n",
      "741:\tlearn: 0.2791323\ttotal: 982ms\tremaining: 341ms\n",
      "742:\tlearn: 0.2789331\ttotal: 983ms\tremaining: 340ms\n",
      "743:\tlearn: 0.2786663\ttotal: 984ms\tremaining: 339ms\n",
      "744:\tlearn: 0.2785949\ttotal: 986ms\tremaining: 337ms\n",
      "745:\tlearn: 0.2785503\ttotal: 987ms\tremaining: 336ms\n",
      "746:\tlearn: 0.2783982\ttotal: 988ms\tremaining: 335ms\n",
      "747:\tlearn: 0.2782860\ttotal: 990ms\tremaining: 333ms\n",
      "748:\tlearn: 0.2781833\ttotal: 991ms\tremaining: 332ms\n",
      "749:\tlearn: 0.2781145\ttotal: 992ms\tremaining: 331ms\n",
      "750:\tlearn: 0.2779833\ttotal: 993ms\tremaining: 329ms\n",
      "751:\tlearn: 0.2779069\ttotal: 994ms\tremaining: 328ms\n",
      "752:\tlearn: 0.2777634\ttotal: 995ms\tremaining: 326ms\n",
      "753:\tlearn: 0.2776630\ttotal: 996ms\tremaining: 325ms\n",
      "754:\tlearn: 0.2775628\ttotal: 997ms\tremaining: 324ms\n",
      "755:\tlearn: 0.2774674\ttotal: 998ms\tremaining: 322ms\n",
      "756:\tlearn: 0.2773710\ttotal: 1s\tremaining: 321ms\n",
      "757:\tlearn: 0.2771739\ttotal: 1s\tremaining: 320ms\n",
      "758:\tlearn: 0.2770339\ttotal: 1s\tremaining: 318ms\n",
      "759:\tlearn: 0.2770005\ttotal: 1s\tremaining: 317ms\n",
      "760:\tlearn: 0.2768297\ttotal: 1s\tremaining: 315ms\n",
      "761:\tlearn: 0.2767614\ttotal: 1s\tremaining: 314ms\n",
      "762:\tlearn: 0.2766211\ttotal: 1.01s\tremaining: 313ms\n",
      "763:\tlearn: 0.2764537\ttotal: 1.01s\tremaining: 312ms\n",
      "764:\tlearn: 0.2763265\ttotal: 1.01s\tremaining: 310ms\n",
      "765:\tlearn: 0.2762628\ttotal: 1.01s\tremaining: 309ms\n",
      "766:\tlearn: 0.2761558\ttotal: 1.01s\tremaining: 307ms\n",
      "767:\tlearn: 0.2761449\ttotal: 1.01s\tremaining: 306ms\n",
      "768:\tlearn: 0.2760656\ttotal: 1.01s\tremaining: 305ms\n",
      "769:\tlearn: 0.2759638\ttotal: 1.01s\tremaining: 303ms\n",
      "770:\tlearn: 0.2758169\ttotal: 1.02s\tremaining: 302ms\n",
      "771:\tlearn: 0.2756715\ttotal: 1.02s\tremaining: 301ms\n",
      "772:\tlearn: 0.2754245\ttotal: 1.02s\tremaining: 299ms\n",
      "773:\tlearn: 0.2753669\ttotal: 1.02s\tremaining: 298ms\n",
      "774:\tlearn: 0.2752941\ttotal: 1.02s\tremaining: 296ms\n",
      "775:\tlearn: 0.2751908\ttotal: 1.02s\tremaining: 295ms\n",
      "776:\tlearn: 0.2750655\ttotal: 1.02s\tremaining: 294ms\n",
      "777:\tlearn: 0.2748963\ttotal: 1.02s\tremaining: 292ms\n",
      "778:\tlearn: 0.2748725\ttotal: 1.02s\tremaining: 291ms\n",
      "779:\tlearn: 0.2747756\ttotal: 1.02s\tremaining: 289ms\n",
      "780:\tlearn: 0.2747255\ttotal: 1.03s\tremaining: 288ms\n",
      "781:\tlearn: 0.2745880\ttotal: 1.03s\tremaining: 287ms\n",
      "782:\tlearn: 0.2745463\ttotal: 1.03s\tremaining: 285ms\n",
      "783:\tlearn: 0.2744945\ttotal: 1.03s\tremaining: 284ms\n",
      "784:\tlearn: 0.2743614\ttotal: 1.03s\tremaining: 283ms\n",
      "785:\tlearn: 0.2742093\ttotal: 1.03s\tremaining: 281ms\n",
      "786:\tlearn: 0.2741384\ttotal: 1.03s\tremaining: 280ms\n",
      "787:\tlearn: 0.2739845\ttotal: 1.03s\tremaining: 279ms\n",
      "788:\tlearn: 0.2739016\ttotal: 1.04s\tremaining: 277ms\n",
      "789:\tlearn: 0.2737033\ttotal: 1.04s\tremaining: 276ms\n",
      "790:\tlearn: 0.2736234\ttotal: 1.04s\tremaining: 275ms\n",
      "791:\tlearn: 0.2735290\ttotal: 1.04s\tremaining: 273ms\n",
      "792:\tlearn: 0.2734584\ttotal: 1.04s\tremaining: 272ms\n",
      "793:\tlearn: 0.2733755\ttotal: 1.04s\tremaining: 271ms\n",
      "794:\tlearn: 0.2732138\ttotal: 1.04s\tremaining: 269ms\n",
      "795:\tlearn: 0.2730944\ttotal: 1.04s\tremaining: 268ms\n",
      "796:\tlearn: 0.2730002\ttotal: 1.05s\tremaining: 267ms\n",
      "797:\tlearn: 0.2729169\ttotal: 1.05s\tremaining: 265ms\n",
      "798:\tlearn: 0.2727404\ttotal: 1.05s\tremaining: 264ms\n",
      "799:\tlearn: 0.2725824\ttotal: 1.05s\tremaining: 262ms\n",
      "800:\tlearn: 0.2725074\ttotal: 1.05s\tremaining: 261ms\n",
      "801:\tlearn: 0.2725023\ttotal: 1.05s\tremaining: 260ms\n",
      "802:\tlearn: 0.2723104\ttotal: 1.05s\tremaining: 258ms\n",
      "803:\tlearn: 0.2722122\ttotal: 1.05s\tremaining: 257ms\n",
      "804:\tlearn: 0.2719558\ttotal: 1.05s\tremaining: 255ms\n",
      "805:\tlearn: 0.2718889\ttotal: 1.05s\tremaining: 254ms\n",
      "806:\tlearn: 0.2718445\ttotal: 1.06s\tremaining: 253ms\n",
      "807:\tlearn: 0.2716387\ttotal: 1.06s\tremaining: 251ms\n",
      "808:\tlearn: 0.2715386\ttotal: 1.06s\tremaining: 250ms\n",
      "809:\tlearn: 0.2714043\ttotal: 1.06s\tremaining: 249ms\n",
      "810:\tlearn: 0.2713040\ttotal: 1.06s\tremaining: 247ms\n",
      "811:\tlearn: 0.2712522\ttotal: 1.06s\tremaining: 246ms\n",
      "812:\tlearn: 0.2710331\ttotal: 1.06s\tremaining: 245ms\n",
      "813:\tlearn: 0.2709458\ttotal: 1.06s\tremaining: 243ms\n",
      "814:\tlearn: 0.2709264\ttotal: 1.06s\tremaining: 242ms\n",
      "815:\tlearn: 0.2708176\ttotal: 1.07s\tremaining: 241ms\n",
      "816:\tlearn: 0.2706665\ttotal: 1.07s\tremaining: 239ms\n",
      "817:\tlearn: 0.2705544\ttotal: 1.07s\tremaining: 238ms\n",
      "818:\tlearn: 0.2704711\ttotal: 1.07s\tremaining: 236ms\n",
      "819:\tlearn: 0.2704014\ttotal: 1.07s\tremaining: 235ms\n",
      "820:\tlearn: 0.2703013\ttotal: 1.07s\tremaining: 234ms\n",
      "821:\tlearn: 0.2702386\ttotal: 1.07s\tremaining: 233ms\n",
      "822:\tlearn: 0.2700671\ttotal: 1.07s\tremaining: 231ms\n",
      "823:\tlearn: 0.2699848\ttotal: 1.08s\tremaining: 230ms\n",
      "824:\tlearn: 0.2699290\ttotal: 1.08s\tremaining: 229ms\n",
      "825:\tlearn: 0.2698131\ttotal: 1.08s\tremaining: 227ms\n",
      "826:\tlearn: 0.2696841\ttotal: 1.08s\tremaining: 226ms\n",
      "827:\tlearn: 0.2696131\ttotal: 1.08s\tremaining: 225ms\n",
      "828:\tlearn: 0.2694528\ttotal: 1.08s\tremaining: 223ms\n",
      "829:\tlearn: 0.2693714\ttotal: 1.08s\tremaining: 222ms\n",
      "830:\tlearn: 0.2692974\ttotal: 1.08s\tremaining: 220ms\n",
      "831:\tlearn: 0.2691344\ttotal: 1.08s\tremaining: 219ms\n",
      "832:\tlearn: 0.2691064\ttotal: 1.09s\tremaining: 218ms\n",
      "833:\tlearn: 0.2689752\ttotal: 1.09s\tremaining: 217ms\n",
      "834:\tlearn: 0.2688723\ttotal: 1.09s\tremaining: 215ms\n",
      "835:\tlearn: 0.2687154\ttotal: 1.09s\tremaining: 214ms\n",
      "836:\tlearn: 0.2685976\ttotal: 1.09s\tremaining: 212ms\n",
      "837:\tlearn: 0.2684540\ttotal: 1.09s\tremaining: 211ms\n",
      "838:\tlearn: 0.2683777\ttotal: 1.09s\tremaining: 210ms\n",
      "839:\tlearn: 0.2682344\ttotal: 1.09s\tremaining: 209ms\n",
      "840:\tlearn: 0.2681036\ttotal: 1.1s\tremaining: 207ms\n",
      "841:\tlearn: 0.2680310\ttotal: 1.1s\tremaining: 206ms\n",
      "842:\tlearn: 0.2679494\ttotal: 1.1s\tremaining: 205ms\n",
      "843:\tlearn: 0.2678957\ttotal: 1.1s\tremaining: 203ms\n",
      "844:\tlearn: 0.2678563\ttotal: 1.1s\tremaining: 202ms\n",
      "845:\tlearn: 0.2678279\ttotal: 1.1s\tremaining: 201ms\n",
      "846:\tlearn: 0.2676790\ttotal: 1.1s\tremaining: 199ms\n"
     ]
    },
    {
     "name": "stdout",
     "output_type": "stream",
     "text": [
      "847:\tlearn: 0.2676156\ttotal: 1.1s\tremaining: 198ms\n",
      "848:\tlearn: 0.2675713\ttotal: 1.1s\tremaining: 197ms\n",
      "849:\tlearn: 0.2675368\ttotal: 1.11s\tremaining: 195ms\n",
      "850:\tlearn: 0.2674520\ttotal: 1.11s\tremaining: 194ms\n",
      "851:\tlearn: 0.2674319\ttotal: 1.11s\tremaining: 193ms\n",
      "852:\tlearn: 0.2673353\ttotal: 1.11s\tremaining: 191ms\n",
      "853:\tlearn: 0.2671294\ttotal: 1.11s\tremaining: 190ms\n",
      "854:\tlearn: 0.2670178\ttotal: 1.11s\tremaining: 189ms\n",
      "855:\tlearn: 0.2669397\ttotal: 1.11s\tremaining: 187ms\n",
      "856:\tlearn: 0.2668316\ttotal: 1.11s\tremaining: 186ms\n",
      "857:\tlearn: 0.2667824\ttotal: 1.11s\tremaining: 184ms\n",
      "858:\tlearn: 0.2666784\ttotal: 1.11s\tremaining: 183ms\n",
      "859:\tlearn: 0.2665943\ttotal: 1.12s\tremaining: 182ms\n",
      "860:\tlearn: 0.2665080\ttotal: 1.12s\tremaining: 180ms\n",
      "861:\tlearn: 0.2664401\ttotal: 1.12s\tremaining: 179ms\n",
      "862:\tlearn: 0.2663388\ttotal: 1.12s\tremaining: 178ms\n",
      "863:\tlearn: 0.2662377\ttotal: 1.12s\tremaining: 176ms\n",
      "864:\tlearn: 0.2661083\ttotal: 1.12s\tremaining: 175ms\n",
      "865:\tlearn: 0.2659152\ttotal: 1.12s\tremaining: 174ms\n",
      "866:\tlearn: 0.2656316\ttotal: 1.12s\tremaining: 172ms\n",
      "867:\tlearn: 0.2655909\ttotal: 1.13s\tremaining: 171ms\n",
      "868:\tlearn: 0.2655672\ttotal: 1.13s\tremaining: 170ms\n",
      "869:\tlearn: 0.2654553\ttotal: 1.13s\tremaining: 168ms\n",
      "870:\tlearn: 0.2653773\ttotal: 1.13s\tremaining: 167ms\n",
      "871:\tlearn: 0.2652965\ttotal: 1.13s\tremaining: 166ms\n",
      "872:\tlearn: 0.2652204\ttotal: 1.13s\tremaining: 164ms\n",
      "873:\tlearn: 0.2651932\ttotal: 1.13s\tremaining: 163ms\n",
      "874:\tlearn: 0.2650540\ttotal: 1.13s\tremaining: 162ms\n",
      "875:\tlearn: 0.2649766\ttotal: 1.14s\tremaining: 161ms\n",
      "876:\tlearn: 0.2647709\ttotal: 1.14s\tremaining: 159ms\n",
      "877:\tlearn: 0.2646616\ttotal: 1.14s\tremaining: 158ms\n",
      "878:\tlearn: 0.2645373\ttotal: 1.14s\tremaining: 157ms\n",
      "879:\tlearn: 0.2643506\ttotal: 1.14s\tremaining: 156ms\n",
      "880:\tlearn: 0.2641617\ttotal: 1.14s\tremaining: 154ms\n",
      "881:\tlearn: 0.2641175\ttotal: 1.14s\tremaining: 153ms\n",
      "882:\tlearn: 0.2640663\ttotal: 1.15s\tremaining: 152ms\n",
      "883:\tlearn: 0.2639348\ttotal: 1.15s\tremaining: 150ms\n",
      "884:\tlearn: 0.2638803\ttotal: 1.15s\tremaining: 149ms\n",
      "885:\tlearn: 0.2638054\ttotal: 1.15s\tremaining: 148ms\n",
      "886:\tlearn: 0.2637431\ttotal: 1.15s\tremaining: 147ms\n",
      "887:\tlearn: 0.2636297\ttotal: 1.15s\tremaining: 145ms\n",
      "888:\tlearn: 0.2635628\ttotal: 1.15s\tremaining: 144ms\n",
      "889:\tlearn: 0.2633662\ttotal: 1.15s\tremaining: 143ms\n",
      "890:\tlearn: 0.2632123\ttotal: 1.15s\tremaining: 141ms\n",
      "891:\tlearn: 0.2631383\ttotal: 1.16s\tremaining: 140ms\n",
      "892:\tlearn: 0.2630376\ttotal: 1.16s\tremaining: 139ms\n",
      "893:\tlearn: 0.2630045\ttotal: 1.16s\tremaining: 137ms\n",
      "894:\tlearn: 0.2628480\ttotal: 1.16s\tremaining: 136ms\n",
      "895:\tlearn: 0.2627655\ttotal: 1.16s\tremaining: 135ms\n",
      "896:\tlearn: 0.2626969\ttotal: 1.16s\tremaining: 133ms\n",
      "897:\tlearn: 0.2626500\ttotal: 1.16s\tremaining: 132ms\n",
      "898:\tlearn: 0.2625846\ttotal: 1.16s\tremaining: 131ms\n",
      "899:\tlearn: 0.2625398\ttotal: 1.16s\tremaining: 129ms\n",
      "900:\tlearn: 0.2624811\ttotal: 1.17s\tremaining: 128ms\n",
      "901:\tlearn: 0.2624023\ttotal: 1.17s\tremaining: 127ms\n",
      "902:\tlearn: 0.2623097\ttotal: 1.17s\tremaining: 126ms\n",
      "903:\tlearn: 0.2621240\ttotal: 1.17s\tremaining: 124ms\n",
      "904:\tlearn: 0.2620605\ttotal: 1.17s\tremaining: 123ms\n",
      "905:\tlearn: 0.2618514\ttotal: 1.17s\tremaining: 122ms\n",
      "906:\tlearn: 0.2617891\ttotal: 1.17s\tremaining: 120ms\n",
      "907:\tlearn: 0.2616840\ttotal: 1.18s\tremaining: 119ms\n",
      "908:\tlearn: 0.2615402\ttotal: 1.18s\tremaining: 118ms\n",
      "909:\tlearn: 0.2613870\ttotal: 1.18s\tremaining: 116ms\n",
      "910:\tlearn: 0.2613267\ttotal: 1.18s\tremaining: 115ms\n",
      "911:\tlearn: 0.2612668\ttotal: 1.18s\tremaining: 114ms\n",
      "912:\tlearn: 0.2612220\ttotal: 1.18s\tremaining: 112ms\n",
      "913:\tlearn: 0.2610641\ttotal: 1.18s\tremaining: 111ms\n",
      "914:\tlearn: 0.2608815\ttotal: 1.18s\tremaining: 110ms\n",
      "915:\tlearn: 0.2608238\ttotal: 1.18s\tremaining: 109ms\n",
      "916:\tlearn: 0.2607264\ttotal: 1.19s\tremaining: 107ms\n",
      "917:\tlearn: 0.2606168\ttotal: 1.19s\tremaining: 106ms\n",
      "918:\tlearn: 0.2605380\ttotal: 1.19s\tremaining: 105ms\n",
      "919:\tlearn: 0.2605049\ttotal: 1.19s\tremaining: 103ms\n",
      "920:\tlearn: 0.2603490\ttotal: 1.19s\tremaining: 102ms\n",
      "921:\tlearn: 0.2602846\ttotal: 1.19s\tremaining: 101ms\n",
      "922:\tlearn: 0.2602087\ttotal: 1.19s\tremaining: 99.5ms\n",
      "923:\tlearn: 0.2601822\ttotal: 1.19s\tremaining: 98.2ms\n",
      "924:\tlearn: 0.2600402\ttotal: 1.19s\tremaining: 96.9ms\n",
      "925:\tlearn: 0.2599298\ttotal: 1.2s\tremaining: 95.6ms\n",
      "926:\tlearn: 0.2598606\ttotal: 1.2s\tremaining: 94.3ms\n",
      "927:\tlearn: 0.2597281\ttotal: 1.2s\tremaining: 93ms\n",
      "928:\tlearn: 0.2596532\ttotal: 1.2s\tremaining: 91.7ms\n",
      "929:\tlearn: 0.2595868\ttotal: 1.2s\tremaining: 90.3ms\n",
      "930:\tlearn: 0.2594280\ttotal: 1.2s\tremaining: 89ms\n",
      "931:\tlearn: 0.2593269\ttotal: 1.2s\tremaining: 87.7ms\n",
      "932:\tlearn: 0.2591151\ttotal: 1.2s\tremaining: 86.4ms\n",
      "933:\tlearn: 0.2590226\ttotal: 1.2s\tremaining: 85.1ms\n",
      "934:\tlearn: 0.2588045\ttotal: 1.21s\tremaining: 83.8ms\n",
      "935:\tlearn: 0.2587398\ttotal: 1.21s\tremaining: 82.5ms\n",
      "936:\tlearn: 0.2586917\ttotal: 1.21s\tremaining: 81.2ms\n",
      "937:\tlearn: 0.2586307\ttotal: 1.21s\tremaining: 79.9ms\n",
      "938:\tlearn: 0.2586082\ttotal: 1.21s\tremaining: 78.6ms\n",
      "939:\tlearn: 0.2585072\ttotal: 1.21s\tremaining: 77.3ms\n",
      "940:\tlearn: 0.2583942\ttotal: 1.21s\tremaining: 76ms\n",
      "941:\tlearn: 0.2583132\ttotal: 1.21s\tremaining: 74.7ms\n",
      "942:\tlearn: 0.2582571\ttotal: 1.21s\tremaining: 73.4ms\n",
      "943:\tlearn: 0.2582059\ttotal: 1.22s\tremaining: 72.1ms\n",
      "944:\tlearn: 0.2579891\ttotal: 1.22s\tremaining: 70.8ms\n",
      "945:\tlearn: 0.2579483\ttotal: 1.22s\tremaining: 69.5ms\n",
      "946:\tlearn: 0.2578234\ttotal: 1.22s\tremaining: 68.2ms\n",
      "947:\tlearn: 0.2578027\ttotal: 1.22s\tremaining: 66.9ms\n",
      "948:\tlearn: 0.2577104\ttotal: 1.22s\tremaining: 65.6ms\n",
      "949:\tlearn: 0.2575642\ttotal: 1.22s\tremaining: 64.3ms\n",
      "950:\tlearn: 0.2575561\ttotal: 1.22s\tremaining: 63ms\n",
      "951:\tlearn: 0.2572783\ttotal: 1.22s\tremaining: 61.7ms\n",
      "952:\tlearn: 0.2572253\ttotal: 1.22s\tremaining: 60.4ms\n",
      "953:\tlearn: 0.2571799\ttotal: 1.23s\tremaining: 59.1ms\n",
      "954:\tlearn: 0.2571248\ttotal: 1.23s\tremaining: 57.8ms\n",
      "955:\tlearn: 0.2570646\ttotal: 1.23s\tremaining: 56.5ms\n",
      "956:\tlearn: 0.2570143\ttotal: 1.23s\tremaining: 55.2ms\n",
      "957:\tlearn: 0.2568050\ttotal: 1.23s\tremaining: 53.9ms\n",
      "958:\tlearn: 0.2567678\ttotal: 1.23s\tremaining: 52.6ms\n",
      "959:\tlearn: 0.2567020\ttotal: 1.23s\tremaining: 51.3ms\n",
      "960:\tlearn: 0.2564308\ttotal: 1.23s\tremaining: 50ms\n",
      "961:\tlearn: 0.2564107\ttotal: 1.23s\tremaining: 48.7ms\n",
      "962:\tlearn: 0.2562693\ttotal: 1.23s\tremaining: 47.4ms\n",
      "963:\tlearn: 0.2562285\ttotal: 1.24s\tremaining: 46.1ms\n",
      "964:\tlearn: 0.2561045\ttotal: 1.24s\tremaining: 44.8ms\n",
      "965:\tlearn: 0.2559232\ttotal: 1.24s\tremaining: 43.6ms\n",
      "966:\tlearn: 0.2557107\ttotal: 1.24s\tremaining: 42.3ms\n",
      "967:\tlearn: 0.2556461\ttotal: 1.24s\tremaining: 41ms\n",
      "968:\tlearn: 0.2555025\ttotal: 1.24s\tremaining: 39.7ms\n",
      "969:\tlearn: 0.2554092\ttotal: 1.24s\tremaining: 38.4ms\n",
      "970:\tlearn: 0.2552257\ttotal: 1.24s\tremaining: 37.1ms\n",
      "971:\tlearn: 0.2551102\ttotal: 1.24s\tremaining: 35.8ms\n",
      "972:\tlearn: 0.2550249\ttotal: 1.24s\tremaining: 34.5ms\n",
      "973:\tlearn: 0.2550073\ttotal: 1.25s\tremaining: 33.3ms\n",
      "974:\tlearn: 0.2549131\ttotal: 1.25s\tremaining: 32ms\n",
      "975:\tlearn: 0.2548554\ttotal: 1.25s\tremaining: 30.7ms\n",
      "976:\tlearn: 0.2547860\ttotal: 1.25s\tremaining: 29.4ms\n",
      "977:\tlearn: 0.2547009\ttotal: 1.25s\tremaining: 28.1ms\n",
      "978:\tlearn: 0.2546768\ttotal: 1.25s\tremaining: 26.8ms\n",
      "979:\tlearn: 0.2544005\ttotal: 1.25s\tremaining: 25.6ms\n",
      "980:\tlearn: 0.2543705\ttotal: 1.25s\tremaining: 24.3ms\n",
      "981:\tlearn: 0.2542915\ttotal: 1.25s\tremaining: 23ms\n",
      "982:\tlearn: 0.2542708\ttotal: 1.25s\tremaining: 21.7ms\n",
      "983:\tlearn: 0.2542098\ttotal: 1.26s\tremaining: 20.4ms\n",
      "984:\tlearn: 0.2540815\ttotal: 1.26s\tremaining: 19.2ms\n",
      "985:\tlearn: 0.2537973\ttotal: 1.26s\tremaining: 17.9ms\n",
      "986:\tlearn: 0.2536962\ttotal: 1.26s\tremaining: 16.6ms\n",
      "987:\tlearn: 0.2535510\ttotal: 1.26s\tremaining: 15.3ms\n",
      "988:\tlearn: 0.2534875\ttotal: 1.26s\tremaining: 14ms\n",
      "989:\tlearn: 0.2533538\ttotal: 1.26s\tremaining: 12.8ms\n",
      "990:\tlearn: 0.2532907\ttotal: 1.26s\tremaining: 11.5ms\n",
      "991:\tlearn: 0.2530947\ttotal: 1.26s\tremaining: 10.2ms\n",
      "992:\tlearn: 0.2528559\ttotal: 1.27s\tremaining: 8.93ms\n",
      "993:\tlearn: 0.2527918\ttotal: 1.27s\tremaining: 7.65ms\n",
      "994:\tlearn: 0.2527223\ttotal: 1.27s\tremaining: 6.38ms\n",
      "995:\tlearn: 0.2526244\ttotal: 1.27s\tremaining: 5.1ms\n",
      "996:\tlearn: 0.2524156\ttotal: 1.27s\tremaining: 3.83ms\n",
      "997:\tlearn: 0.2523993\ttotal: 1.27s\tremaining: 2.55ms\n",
      "998:\tlearn: 0.2522552\ttotal: 1.27s\tremaining: 1.27ms\n",
      "999:\tlearn: 0.2522183\ttotal: 1.27s\tremaining: 0us\n",
      "Test Sonuçları:\n",
      "\n",
      "accuracy score: 0.8156\n",
      "\n",
      "Classification Report: \n",
      "               precision    recall  f1-score   support\n",
      "\n",
      "           0       0.79      0.93      0.86       106\n",
      "           1       0.87      0.64      0.74        73\n",
      "\n",
      "    accuracy                           0.82       179\n",
      "   macro avg       0.83      0.79      0.80       179\n",
      "weighted avg       0.82      0.82      0.81       179\n",
      "\n",
      "\n",
      "Confusion Matrix: \n",
      " [[99  7]\n",
      " [26 47]]\n",
      "\n"
     ]
    }
   ],
   "source": [
    "from catboost import CatBoostClassifier\n",
    "model=CatBoostClassifier()\n",
    "model.fit(X_train,y_train)\n",
    "acc_cat = model.score(X_test,y_test)\n",
    "print_score(model,X_train, y_train, X_test, y_test)"
   ]
  },
  {
   "cell_type": "code",
   "execution_count": 62,
   "metadata": {
    "scrolled": true
   },
   "outputs": [
    {
     "data": {
      "image/png": "[encoded data removed]",
      "text/plain": [
       "<Figure size 432x288 with 1 Axes>"
      ]
     },
     "metadata": {
      "needs_background": "light"
     },
     "output_type": "display_data"
    }
   ],
   "source": [
    "importances = pd.DataFrame({'feature':X_train.columns,'importance':np.round(model.feature_importances_,3)})\n",
    "importances = importances.sort_values('importance',ascending=False).set_index('feature')\n",
    "importances.plot.bar()\n",
    "plt.show()"
   ]
  },
  {
   "cell_type": "code",
   "execution_count": 64,
   "metadata": {},
   "outputs": [
    {
     "data": {
      "text/html": [
       "<div>\n",
       "<style scoped>\n",
       "    .dataframe tbody tr th:only-of-type {\n",
       "        vertical-align: middle;\n",
       "    }\n",
       "\n",
       "    .dataframe tbody tr th {\n",
       "        vertical-align: top;\n",
       "    }\n",
       "\n",
       "    .dataframe thead th {\n",
       "        text-align: right;\n",
       "    }\n",
       "</style>\n",
       "<table border=\"1\" class=\"dataframe\">\n",
       "  <thead>\n",
       "    <tr style=\"text-align: right;\">\n",
       "      <th></th>\n",
       "      <th>Score</th>\n",
       "      <th>Model</th>\n",
       "    </tr>\n",
       "  </thead>\n",
       "  <tbody>\n",
       "    <tr>\n",
       "      <th>0</th>\n",
       "      <td>0.832402</td>\n",
       "      <td>GBM</td>\n",
       "    </tr>\n",
       "    <tr>\n",
       "      <th>1</th>\n",
       "      <td>0.815642</td>\n",
       "      <td>CatBoost</td>\n",
       "    </tr>\n",
       "    <tr>\n",
       "      <th>2</th>\n",
       "      <td>0.810056</td>\n",
       "      <td>XGBoost</td>\n",
       "    </tr>\n",
       "    <tr>\n",
       "      <th>3</th>\n",
       "      <td>0.793296</td>\n",
       "      <td>Random Forest</td>\n",
       "    </tr>\n",
       "    <tr>\n",
       "      <th>4</th>\n",
       "      <td>0.787709</td>\n",
       "      <td>LGBM</td>\n",
       "    </tr>\n",
       "    <tr>\n",
       "      <th>5</th>\n",
       "      <td>0.754190</td>\n",
       "      <td>Bagging-Meta Estimator</td>\n",
       "    </tr>\n",
       "  </tbody>\n",
       "</table>\n",
       "</div>"
      ],
      "text/plain": [
       "      Score                   Model\n",
       "0  0.832402                     GBM\n",
       "1  0.815642                CatBoost\n",
       "2  0.810056                 XGBoost\n",
       "3  0.793296           Random Forest\n",
       "4  0.787709                    LGBM\n",
       "5  0.754190  Bagging-Meta Estimator"
      ]
     },
     "execution_count": 64,
     "metadata": {},
     "output_type": "execute_result"
    }
   ],
   "source": [
    "results = pd.DataFrame({\n",
    "    'Model': ['Bagging-Meta Estimator', 'Random Forest', 'GBM', \n",
    "              'XGBoost','LGBM','CatBoost'],\n",
    "    'Score': [acc_bag, acc_rf,acc_gbm,acc_xgb,acc_lgb,acc_cat]})\n",
    "result_df = results.sort_values(by='Score', ascending=False)\n",
    "result_df = result_df.set_index('Score')\n",
    "result_df.reset_index(inplace=True)\n",
    "result_df.head(9)"
   ]
  },
  {
   "cell_type": "code",
   "execution_count": 65,
   "metadata": {
    "scrolled": true
   },
   "outputs": [
    {
     "data": {
      "image/png": "[encoded data removed]",
      "text/plain": [
       "<Figure size 432x288 with 1 Axes>"
      ]
     },
     "metadata": {
      "needs_background": "light"
     },
     "output_type": "display_data"
    }
   ],
   "source": [
    "import seaborn as sns\n",
    "sns.barplot(x='Model',y='Score',data =result_df)\n",
    "plt.ylim(0.75,0.85)\n",
    "plt.xticks(rotation=20)\n",
    "plt.show()"
   ]
  },
  {
   "cell_type": "markdown",
   "metadata": {},
   "source": [
    "## Sonuç:\n",
    "Çeşitli topluluk öğrenme tekniklerini ele aldık ve bu tekniklerin makine öğrenimi algoritmalarında nasıl uygulandığını gördük. Ayrıca, titanic veri setimize ön işleme,kayıp veri analizi yaparak ardından bu algoritmaları uyguladık. Ekrandaki bar grafiğinde hangi modelin test seti üzerinde daha başarılı olduğunu gözlemleyebiliriz. Bu durumda GBM modelimiz en başarılı modeldir. XGBoost LightGBM gibi algoritmaların GBM'in büyük veri setlerindeki yavaşlığı ve düşük accuracy skoru yüzünden geliştirildiğini biliyoruz. Bu durumda bizim veri setimizdeki gözlem sayısı az olduğu için GBM algoritmasının daha başarılı çıkması da normaldir.\n"
   ]
  },
  {
   "cell_type": "markdown",
   "metadata": {},
   "source": [
    "# Kaynaklar\n",
    "\n",
    "https://medium.com/sfu-cspmp/xgboost-a-deep-dive-into-boosting-f06c9c41349\n",
    "https://subscription.packtpub.com/book/big_data_and_business_intelligence/9781789136609/2/ch02lvl1sec16/max-voting\n",
    "https://xgboost.readthedocs.io/en/latest/R-package/discoverYourData.html\n",
    "https://www.analyticsvidhya.com/blog/2018/06/comprehensive-guide-for-ensemble-models/\n",
    "https://www.veribilimiokulu.com/blog/gradient-boosted-regresyon-agaclari/\n",
    "https://www.veribilimiokulu.com/blog/xgboost-nasil-calisir/\n",
    "https://www.analyticsvidhya.com/blog/2018/09/an-end-to-end-guide-to-understand-the-math-behind-xgboost/\n",
    "https://medium.com/deep-learning-turkiye/xgboost-dosyalar%C4%B1-25d31fda6900"
   ]
  }
 ],
 "metadata": {
  "kernelspec": {
   "display_name": "Python 3",
   "language": "python",
   "name": "python3"
  },
  "language_info": {
   "codemirror_mode": {
    "name": "ipython",
    "version": 3
   },
   "file_extension": ".py",
   "mimetype": "text/x-python",
   "name": "python",
   "nbconvert_exporter": "python",
   "pygments_lexer": "ipython3",
   "version": "3.8.5"
  }
 },
 "nbformat": 4,
 "nbformat_minor": 4
}
